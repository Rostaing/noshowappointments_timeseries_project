{
 "cells": [
  {
   "cell_type": "markdown",
   "id": "133bf310-5804-4dc5-836f-bb84bf3b96ff",
   "metadata": {
    "canvas": {
     "comments": [],
     "componentType": "CodeCell",
     "copiedOriginId": null,
     "diskcache": false,
     "headerColor": "none",
     "id": "ca772b4e-b5de-4a7c-8859-005cdef4fda9",
     "isComponent": false,
     "name": "",
     "parents": []
    }
   },
   "source": [
    "## Importing libraries"
   ]
  },
  {
   "cell_type": "code",
   "execution_count": 1,
   "id": "ebad1aed-cd7a-4c43-b204-7d1d2c4be963",
   "metadata": {
    "canvas": {
     "comments": [],
     "componentType": "CodeCell",
     "copiedOriginId": null,
     "diskcache": false,
     "headerColor": "none",
     "id": "49b37539-d40e-4cc7-8395-fe44f36afebe",
     "isComponent": true,
     "name": "Importing_libraries",
     "parents": []
    },
    "tags": []
   },
   "outputs": [],
   "source": [
    "import numpy as np\n",
    "import pandas as pd\n",
    "import matplotlib.pyplot as plt\n",
    "import seaborn as sns\n",
    "import missingno as ms # visualize missing data\n",
    "%matplotlib inline"
   ]
  },
  {
   "cell_type": "markdown",
   "id": "9bd6695d-d9a8-420b-b000-978a1ac541b1",
   "metadata": {
    "canvas": {
     "comments": [],
     "componentType": "CodeCell",
     "copiedOriginId": null,
     "diskcache": false,
     "headerColor": "none",
     "id": "3a1ebd1d-20ed-4412-8cc5-6be0fcf29447",
     "isComponent": false,
     "name": "",
     "parents": []
    }
   },
   "source": [
    "## Load data"
   ]
  },
  {
   "cell_type": "code",
   "execution_count": 2,
   "id": "9e993b70-c3cf-448c-bba0-f8cdb6b67cd9",
   "metadata": {
    "canvas": {
     "comments": [],
     "componentType": "CodeCell",
     "copiedOriginId": null,
     "diskcache": false,
     "headerColor": "none",
     "id": "3a3d4e12-e157-4f2d-a255-781c861b85fb",
     "isComponent": true,
     "name": "Load_data",
     "parents": [
      {
       "id": "49b37539-d40e-4cc7-8395-fe44f36afebe",
       "name": "Importing_libraries"
      }
     ]
    },
    "tags": []
   },
   "outputs": [],
   "source": [
    "# load the dataset\n",
    "data = pd.read_csv(\"noshowappointments-kagglev2-may-2016.csv\")"
   ]
  },
  {
   "cell_type": "markdown",
   "id": "86962f52-d593-416f-ab3f-9d54d252a31f",
   "metadata": {
    "canvas": {
     "comments": [],
     "componentType": "CodeCell",
     "copiedOriginId": null,
     "diskcache": false,
     "headerColor": "none",
     "id": "871aa714-a4ea-41b3-af34-b425e8d1de6a",
     "isComponent": false,
     "name": "",
     "parents": []
    }
   },
   "source": [
    "## Data Wrangling"
   ]
  },
  {
   "cell_type": "code",
   "execution_count": 3,
   "id": "f71d5866-12da-402e-b77b-43bb9a183620",
   "metadata": {
    "canvas": {
     "comments": [],
     "componentType": "CodeCell",
     "copiedOriginId": null,
     "diskcache": false,
     "headerColor": "none",
     "id": "1df000a8-d9ec-49ac-8f99-38b609558c37",
     "isComponent": true,
     "name": "Data_wrangling",
     "parents": [
      {
       "id": "3a3d4e12-e157-4f2d-a255-781c861b85fb",
       "name": "Load_data"
      }
     ]
    },
    "tags": []
   },
   "outputs": [
    {
     "name": "stdout",
     "output_type": "stream",
     "text": [
      "Data exist\n"
     ]
    }
   ],
   "source": [
    "# Check if data exist\n",
    "if data.empty:\n",
    "    print('No data')\n",
    "else:\n",
    "    print(\"Data exist\")"
   ]
  },
  {
   "cell_type": "code",
   "execution_count": 4,
   "id": "2241e2ff-2a8b-4a43-b853-d1a152ebdf34",
   "metadata": {
    "canvas": {
     "comments": [],
     "componentType": "CodeCell",
     "copiedOriginId": null,
     "diskcache": false,
     "headerColor": "none",
     "id": "f7354057-4168-4681-8b34-b1b1d2758955",
     "isComponent": false,
     "name": "",
     "parents": []
    }
   },
   "outputs": [
    {
     "data": {
      "text/html": [
       "<div>\n",
       "<style scoped>\n",
       "    .dataframe tbody tr th:only-of-type {\n",
       "        vertical-align: middle;\n",
       "    }\n",
       "\n",
       "    .dataframe tbody tr th {\n",
       "        vertical-align: top;\n",
       "    }\n",
       "\n",
       "    .dataframe thead th {\n",
       "        text-align: right;\n",
       "    }\n",
       "</style>\n",
       "<table border=\"1\" class=\"dataframe\">\n",
       "  <thead>\n",
       "    <tr style=\"text-align: right;\">\n",
       "      <th></th>\n",
       "      <th>PatientId</th>\n",
       "      <th>AppointmentID</th>\n",
       "      <th>Gender</th>\n",
       "      <th>ScheduledDay</th>\n",
       "      <th>AppointmentDay</th>\n",
       "      <th>Age</th>\n",
       "      <th>Neighbourhood</th>\n",
       "      <th>Scholarship</th>\n",
       "      <th>Hipertension</th>\n",
       "      <th>Diabetes</th>\n",
       "      <th>Alcoholism</th>\n",
       "      <th>Handcap</th>\n",
       "      <th>SMS_received</th>\n",
       "      <th>No-show</th>\n",
       "    </tr>\n",
       "  </thead>\n",
       "  <tbody>\n",
       "    <tr>\n",
       "      <th>0</th>\n",
       "      <td>2.987250e+13</td>\n",
       "      <td>5642903</td>\n",
       "      <td>F</td>\n",
       "      <td>2016-04-29T18:38:08Z</td>\n",
       "      <td>2016-04-29T00:00:00Z</td>\n",
       "      <td>62</td>\n",
       "      <td>JARDIM DA PENHA</td>\n",
       "      <td>0</td>\n",
       "      <td>1</td>\n",
       "      <td>0</td>\n",
       "      <td>0</td>\n",
       "      <td>0</td>\n",
       "      <td>0</td>\n",
       "      <td>No</td>\n",
       "    </tr>\n",
       "    <tr>\n",
       "      <th>1</th>\n",
       "      <td>5.589978e+14</td>\n",
       "      <td>5642503</td>\n",
       "      <td>M</td>\n",
       "      <td>2016-04-29T16:08:27Z</td>\n",
       "      <td>2016-04-29T00:00:00Z</td>\n",
       "      <td>56</td>\n",
       "      <td>JARDIM DA PENHA</td>\n",
       "      <td>0</td>\n",
       "      <td>0</td>\n",
       "      <td>0</td>\n",
       "      <td>0</td>\n",
       "      <td>0</td>\n",
       "      <td>0</td>\n",
       "      <td>No</td>\n",
       "    </tr>\n",
       "    <tr>\n",
       "      <th>2</th>\n",
       "      <td>4.262962e+12</td>\n",
       "      <td>5642549</td>\n",
       "      <td>F</td>\n",
       "      <td>2016-04-29T16:19:04Z</td>\n",
       "      <td>2016-04-29T00:00:00Z</td>\n",
       "      <td>62</td>\n",
       "      <td>MATA DA PRAIA</td>\n",
       "      <td>0</td>\n",
       "      <td>0</td>\n",
       "      <td>0</td>\n",
       "      <td>0</td>\n",
       "      <td>0</td>\n",
       "      <td>0</td>\n",
       "      <td>No</td>\n",
       "    </tr>\n",
       "    <tr>\n",
       "      <th>3</th>\n",
       "      <td>8.679512e+11</td>\n",
       "      <td>5642828</td>\n",
       "      <td>F</td>\n",
       "      <td>2016-04-29T17:29:31Z</td>\n",
       "      <td>2016-04-29T00:00:00Z</td>\n",
       "      <td>8</td>\n",
       "      <td>PONTAL DE CAMBURI</td>\n",
       "      <td>0</td>\n",
       "      <td>0</td>\n",
       "      <td>0</td>\n",
       "      <td>0</td>\n",
       "      <td>0</td>\n",
       "      <td>0</td>\n",
       "      <td>No</td>\n",
       "    </tr>\n",
       "    <tr>\n",
       "      <th>4</th>\n",
       "      <td>8.841186e+12</td>\n",
       "      <td>5642494</td>\n",
       "      <td>F</td>\n",
       "      <td>2016-04-29T16:07:23Z</td>\n",
       "      <td>2016-04-29T00:00:00Z</td>\n",
       "      <td>56</td>\n",
       "      <td>JARDIM DA PENHA</td>\n",
       "      <td>0</td>\n",
       "      <td>1</td>\n",
       "      <td>1</td>\n",
       "      <td>0</td>\n",
       "      <td>0</td>\n",
       "      <td>0</td>\n",
       "      <td>No</td>\n",
       "    </tr>\n",
       "  </tbody>\n",
       "</table>\n",
       "</div>"
      ],
      "text/plain": [
       "      PatientId  AppointmentID Gender          ScheduledDay  \\\n",
       "0  2.987250e+13        5642903      F  2016-04-29T18:38:08Z   \n",
       "1  5.589978e+14        5642503      M  2016-04-29T16:08:27Z   \n",
       "2  4.262962e+12        5642549      F  2016-04-29T16:19:04Z   \n",
       "3  8.679512e+11        5642828      F  2016-04-29T17:29:31Z   \n",
       "4  8.841186e+12        5642494      F  2016-04-29T16:07:23Z   \n",
       "\n",
       "         AppointmentDay  Age      Neighbourhood  Scholarship  Hipertension  \\\n",
       "0  2016-04-29T00:00:00Z   62    JARDIM DA PENHA            0             1   \n",
       "1  2016-04-29T00:00:00Z   56    JARDIM DA PENHA            0             0   \n",
       "2  2016-04-29T00:00:00Z   62      MATA DA PRAIA            0             0   \n",
       "3  2016-04-29T00:00:00Z    8  PONTAL DE CAMBURI            0             0   \n",
       "4  2016-04-29T00:00:00Z   56    JARDIM DA PENHA            0             1   \n",
       "\n",
       "   Diabetes  Alcoholism  Handcap  SMS_received No-show  \n",
       "0         0           0        0             0      No  \n",
       "1         0           0        0             0      No  \n",
       "2         0           0        0             0      No  \n",
       "3         0           0        0             0      No  \n",
       "4         1           0        0             0      No  "
      ]
     },
     "execution_count": 4,
     "metadata": {},
     "output_type": "execute_result"
    }
   ],
   "source": [
    "# show the head of the dataframe\n",
    "data.head()"
   ]
  },
  {
   "cell_type": "code",
   "execution_count": 5,
   "id": "4f918515-f11b-46cc-b378-356245f7cce5",
   "metadata": {
    "canvas": {
     "comments": [],
     "componentType": "CodeCell",
     "copiedOriginId": null,
     "diskcache": false,
     "headerColor": "none",
     "id": "0c4d236d-70f0-4aae-a057-1a7badc95035",
     "isComponent": false,
     "name": "",
     "parents": []
    }
   },
   "outputs": [
    {
     "data": {
      "text/plain": [
       "(110527, 14)"
      ]
     },
     "execution_count": 5,
     "metadata": {},
     "output_type": "execute_result"
    }
   ],
   "source": [
    "data.shape"
   ]
  },
  {
   "cell_type": "code",
   "execution_count": 6,
   "id": "ddee7cdd-db56-4711-9438-75f73c67a481",
   "metadata": {
    "canvas": {
     "comments": [],
     "componentType": "CodeCell",
     "copiedOriginId": null,
     "diskcache": false,
     "headerColor": "none",
     "id": "229c5de2-50a6-4e76-abf7-a70f2a38de7a",
     "isComponent": false,
     "name": "",
     "parents": []
    }
   },
   "outputs": [
    {
     "name": "stdout",
     "output_type": "stream",
     "text": [
      "0 PatientId\n",
      "1 AppointmentID\n",
      "2 Gender\n",
      "3 ScheduledDay\n",
      "4 AppointmentDay\n",
      "5 Age\n",
      "6 Neighbourhood\n",
      "7 Scholarship\n",
      "8 Hipertension\n",
      "9 Diabetes\n",
      "10 Alcoholism\n",
      "11 Handcap\n",
      "12 SMS_received\n",
      "13 No-show\n"
     ]
    }
   ],
   "source": [
    "for i, v in enumerate(data.columns):\n",
    "    print(i, v)"
   ]
  },
  {
   "cell_type": "code",
   "execution_count": 7,
   "id": "34991a9f-b3e1-4987-97d3-5192bd865ee7",
   "metadata": {
    "canvas": {
     "comments": [],
     "componentType": "CodeCell",
     "copiedOriginId": null,
     "diskcache": false,
     "headerColor": "none",
     "id": "1b6612fc-1e6d-42b6-b783-d264076ec70c",
     "isComponent": false,
     "name": "",
     "parents": []
    }
   },
   "outputs": [
    {
     "data": {
      "text/html": [
       "<div>\n",
       "<style scoped>\n",
       "    .dataframe tbody tr th:only-of-type {\n",
       "        vertical-align: middle;\n",
       "    }\n",
       "\n",
       "    .dataframe tbody tr th {\n",
       "        vertical-align: top;\n",
       "    }\n",
       "\n",
       "    .dataframe thead th {\n",
       "        text-align: right;\n",
       "    }\n",
       "</style>\n",
       "<table border=\"1\" class=\"dataframe\">\n",
       "  <thead>\n",
       "    <tr style=\"text-align: right;\">\n",
       "      <th></th>\n",
       "      <th>Gender</th>\n",
       "      <th>ScheduledDay</th>\n",
       "      <th>AppointmentDay</th>\n",
       "      <th>Age</th>\n",
       "      <th>Neighbourhood</th>\n",
       "      <th>Scholarship</th>\n",
       "      <th>Hipertension</th>\n",
       "      <th>Diabetes</th>\n",
       "      <th>Alcoholism</th>\n",
       "      <th>Handcap</th>\n",
       "      <th>SMS_received</th>\n",
       "      <th>No-show</th>\n",
       "    </tr>\n",
       "  </thead>\n",
       "  <tbody>\n",
       "    <tr>\n",
       "      <th>0</th>\n",
       "      <td>F</td>\n",
       "      <td>2016-04-29T18:38:08Z</td>\n",
       "      <td>2016-04-29T00:00:00Z</td>\n",
       "      <td>62</td>\n",
       "      <td>JARDIM DA PENHA</td>\n",
       "      <td>0</td>\n",
       "      <td>1</td>\n",
       "      <td>0</td>\n",
       "      <td>0</td>\n",
       "      <td>0</td>\n",
       "      <td>0</td>\n",
       "      <td>No</td>\n",
       "    </tr>\n",
       "    <tr>\n",
       "      <th>1</th>\n",
       "      <td>M</td>\n",
       "      <td>2016-04-29T16:08:27Z</td>\n",
       "      <td>2016-04-29T00:00:00Z</td>\n",
       "      <td>56</td>\n",
       "      <td>JARDIM DA PENHA</td>\n",
       "      <td>0</td>\n",
       "      <td>0</td>\n",
       "      <td>0</td>\n",
       "      <td>0</td>\n",
       "      <td>0</td>\n",
       "      <td>0</td>\n",
       "      <td>No</td>\n",
       "    </tr>\n",
       "    <tr>\n",
       "      <th>2</th>\n",
       "      <td>F</td>\n",
       "      <td>2016-04-29T16:19:04Z</td>\n",
       "      <td>2016-04-29T00:00:00Z</td>\n",
       "      <td>62</td>\n",
       "      <td>MATA DA PRAIA</td>\n",
       "      <td>0</td>\n",
       "      <td>0</td>\n",
       "      <td>0</td>\n",
       "      <td>0</td>\n",
       "      <td>0</td>\n",
       "      <td>0</td>\n",
       "      <td>No</td>\n",
       "    </tr>\n",
       "    <tr>\n",
       "      <th>3</th>\n",
       "      <td>F</td>\n",
       "      <td>2016-04-29T17:29:31Z</td>\n",
       "      <td>2016-04-29T00:00:00Z</td>\n",
       "      <td>8</td>\n",
       "      <td>PONTAL DE CAMBURI</td>\n",
       "      <td>0</td>\n",
       "      <td>0</td>\n",
       "      <td>0</td>\n",
       "      <td>0</td>\n",
       "      <td>0</td>\n",
       "      <td>0</td>\n",
       "      <td>No</td>\n",
       "    </tr>\n",
       "    <tr>\n",
       "      <th>4</th>\n",
       "      <td>F</td>\n",
       "      <td>2016-04-29T16:07:23Z</td>\n",
       "      <td>2016-04-29T00:00:00Z</td>\n",
       "      <td>56</td>\n",
       "      <td>JARDIM DA PENHA</td>\n",
       "      <td>0</td>\n",
       "      <td>1</td>\n",
       "      <td>1</td>\n",
       "      <td>0</td>\n",
       "      <td>0</td>\n",
       "      <td>0</td>\n",
       "      <td>No</td>\n",
       "    </tr>\n",
       "  </tbody>\n",
       "</table>\n",
       "</div>"
      ],
      "text/plain": [
       "  Gender          ScheduledDay        AppointmentDay  Age      Neighbourhood  \\\n",
       "0      F  2016-04-29T18:38:08Z  2016-04-29T00:00:00Z   62    JARDIM DA PENHA   \n",
       "1      M  2016-04-29T16:08:27Z  2016-04-29T00:00:00Z   56    JARDIM DA PENHA   \n",
       "2      F  2016-04-29T16:19:04Z  2016-04-29T00:00:00Z   62      MATA DA PRAIA   \n",
       "3      F  2016-04-29T17:29:31Z  2016-04-29T00:00:00Z    8  PONTAL DE CAMBURI   \n",
       "4      F  2016-04-29T16:07:23Z  2016-04-29T00:00:00Z   56    JARDIM DA PENHA   \n",
       "\n",
       "   Scholarship  Hipertension  Diabetes  Alcoholism  Handcap  SMS_received  \\\n",
       "0            0             1         0           0        0             0   \n",
       "1            0             0         0           0        0             0   \n",
       "2            0             0         0           0        0             0   \n",
       "3            0             0         0           0        0             0   \n",
       "4            0             1         1           0        0             0   \n",
       "\n",
       "  No-show  \n",
       "0      No  \n",
       "1      No  \n",
       "2      No  \n",
       "3      No  \n",
       "4      No  "
      ]
     },
     "execution_count": 7,
     "metadata": {},
     "output_type": "execute_result"
    }
   ],
   "source": [
    "df = data.drop([\"PatientId\", \"AppointmentID\"], axis=1)\n",
    "df.head()"
   ]
  },
  {
   "cell_type": "code",
   "execution_count": 8,
   "id": "d3250b4a-52a8-493f-bb02-d672b86d042c",
   "metadata": {
    "canvas": {
     "comments": [],
     "componentType": "CodeCell",
     "copiedOriginId": null,
     "diskcache": false,
     "headerColor": "none",
     "id": "02e9e596-9a08-4476-a5a5-578e5fa6ff1d",
     "isComponent": false,
     "name": "",
     "parents": []
    }
   },
   "outputs": [
    {
     "data": {
      "text/html": [
       "<div>\n",
       "<style scoped>\n",
       "    .dataframe tbody tr th:only-of-type {\n",
       "        vertical-align: middle;\n",
       "    }\n",
       "\n",
       "    .dataframe tbody tr th {\n",
       "        vertical-align: top;\n",
       "    }\n",
       "\n",
       "    .dataframe thead th {\n",
       "        text-align: right;\n",
       "    }\n",
       "</style>\n",
       "<table border=\"1\" class=\"dataframe\">\n",
       "  <thead>\n",
       "    <tr style=\"text-align: right;\">\n",
       "      <th></th>\n",
       "      <th>Gender</th>\n",
       "      <th>ScheduledDay</th>\n",
       "      <th>AppointmentDay</th>\n",
       "      <th>Age</th>\n",
       "      <th>Neighbourhood</th>\n",
       "      <th>Scholarship</th>\n",
       "      <th>Hipertension</th>\n",
       "      <th>Diabetes</th>\n",
       "      <th>Alcoholism</th>\n",
       "      <th>Handcap</th>\n",
       "      <th>SMS_received</th>\n",
       "      <th>No-show</th>\n",
       "    </tr>\n",
       "  </thead>\n",
       "  <tbody>\n",
       "    <tr>\n",
       "      <th>110522</th>\n",
       "      <td>F</td>\n",
       "      <td>2016-05-03T09:15:35Z</td>\n",
       "      <td>2016-06-07T00:00:00Z</td>\n",
       "      <td>56</td>\n",
       "      <td>MARIA ORTIZ</td>\n",
       "      <td>0</td>\n",
       "      <td>0</td>\n",
       "      <td>0</td>\n",
       "      <td>0</td>\n",
       "      <td>0</td>\n",
       "      <td>1</td>\n",
       "      <td>No</td>\n",
       "    </tr>\n",
       "    <tr>\n",
       "      <th>110523</th>\n",
       "      <td>F</td>\n",
       "      <td>2016-05-03T07:27:33Z</td>\n",
       "      <td>2016-06-07T00:00:00Z</td>\n",
       "      <td>51</td>\n",
       "      <td>MARIA ORTIZ</td>\n",
       "      <td>0</td>\n",
       "      <td>0</td>\n",
       "      <td>0</td>\n",
       "      <td>0</td>\n",
       "      <td>0</td>\n",
       "      <td>1</td>\n",
       "      <td>No</td>\n",
       "    </tr>\n",
       "    <tr>\n",
       "      <th>110524</th>\n",
       "      <td>F</td>\n",
       "      <td>2016-04-27T16:03:52Z</td>\n",
       "      <td>2016-06-07T00:00:00Z</td>\n",
       "      <td>21</td>\n",
       "      <td>MARIA ORTIZ</td>\n",
       "      <td>0</td>\n",
       "      <td>0</td>\n",
       "      <td>0</td>\n",
       "      <td>0</td>\n",
       "      <td>0</td>\n",
       "      <td>1</td>\n",
       "      <td>No</td>\n",
       "    </tr>\n",
       "    <tr>\n",
       "      <th>110525</th>\n",
       "      <td>F</td>\n",
       "      <td>2016-04-27T15:09:23Z</td>\n",
       "      <td>2016-06-07T00:00:00Z</td>\n",
       "      <td>38</td>\n",
       "      <td>MARIA ORTIZ</td>\n",
       "      <td>0</td>\n",
       "      <td>0</td>\n",
       "      <td>0</td>\n",
       "      <td>0</td>\n",
       "      <td>0</td>\n",
       "      <td>1</td>\n",
       "      <td>No</td>\n",
       "    </tr>\n",
       "    <tr>\n",
       "      <th>110526</th>\n",
       "      <td>F</td>\n",
       "      <td>2016-04-27T13:30:56Z</td>\n",
       "      <td>2016-06-07T00:00:00Z</td>\n",
       "      <td>54</td>\n",
       "      <td>MARIA ORTIZ</td>\n",
       "      <td>0</td>\n",
       "      <td>0</td>\n",
       "      <td>0</td>\n",
       "      <td>0</td>\n",
       "      <td>0</td>\n",
       "      <td>1</td>\n",
       "      <td>No</td>\n",
       "    </tr>\n",
       "  </tbody>\n",
       "</table>\n",
       "</div>"
      ],
      "text/plain": [
       "       Gender          ScheduledDay        AppointmentDay  Age Neighbourhood  \\\n",
       "110522      F  2016-05-03T09:15:35Z  2016-06-07T00:00:00Z   56   MARIA ORTIZ   \n",
       "110523      F  2016-05-03T07:27:33Z  2016-06-07T00:00:00Z   51   MARIA ORTIZ   \n",
       "110524      F  2016-04-27T16:03:52Z  2016-06-07T00:00:00Z   21   MARIA ORTIZ   \n",
       "110525      F  2016-04-27T15:09:23Z  2016-06-07T00:00:00Z   38   MARIA ORTIZ   \n",
       "110526      F  2016-04-27T13:30:56Z  2016-06-07T00:00:00Z   54   MARIA ORTIZ   \n",
       "\n",
       "        Scholarship  Hipertension  Diabetes  Alcoholism  Handcap  \\\n",
       "110522            0             0         0           0        0   \n",
       "110523            0             0         0           0        0   \n",
       "110524            0             0         0           0        0   \n",
       "110525            0             0         0           0        0   \n",
       "110526            0             0         0           0        0   \n",
       "\n",
       "        SMS_received No-show  \n",
       "110522             1      No  \n",
       "110523             1      No  \n",
       "110524             1      No  \n",
       "110525             1      No  \n",
       "110526             1      No  "
      ]
     },
     "execution_count": 8,
     "metadata": {},
     "output_type": "execute_result"
    }
   ],
   "source": [
    "df.tail()"
   ]
  },
  {
   "cell_type": "code",
   "execution_count": 9,
   "id": "6e8bb552-aaca-48a2-82b8-21dd07cbfe08",
   "metadata": {
    "canvas": {
     "comments": [],
     "componentType": "CodeCell",
     "copiedOriginId": null,
     "diskcache": false,
     "headerColor": "none",
     "id": "0ab19f65-df39-422b-ab9d-23f93dc7ff97",
     "isComponent": false,
     "name": "",
     "parents": []
    }
   },
   "outputs": [
    {
     "data": {
      "text/plain": [
       "(110527, 12)"
      ]
     },
     "execution_count": 9,
     "metadata": {},
     "output_type": "execute_result"
    }
   ],
   "source": [
    "df.shape"
   ]
  },
  {
   "cell_type": "code",
   "execution_count": 10,
   "id": "08cd41ca-2a48-4aaf-906a-7a815630fbc2",
   "metadata": {
    "canvas": {
     "comments": [],
     "componentType": "CodeCell",
     "copiedOriginId": null,
     "diskcache": false,
     "headerColor": "none",
     "id": "af1cc018-5758-4484-a8e8-0c00433a3db2",
     "isComponent": false,
     "name": "",
     "parents": []
    }
   },
   "outputs": [
    {
     "name": "stdout",
     "output_type": "stream",
     "text": [
      "0 Gender\n",
      "1 ScheduledDay\n",
      "2 AppointmentDay\n",
      "3 Age\n",
      "4 Neighbourhood\n",
      "5 Scholarship\n",
      "6 Hipertension\n",
      "7 Diabetes\n",
      "8 Alcoholism\n",
      "9 Handcap\n",
      "10 SMS_received\n",
      "11 No-show\n"
     ]
    }
   ],
   "source": [
    "for k, c in enumerate(df.columns):\n",
    "    print(k, c)"
   ]
  },
  {
   "cell_type": "code",
   "execution_count": 11,
   "id": "7e9eaa37-971d-4631-a568-c4e4cb651c40",
   "metadata": {
    "canvas": {
     "comments": [],
     "componentType": "CodeCell",
     "copiedOriginId": null,
     "diskcache": false,
     "headerColor": "none",
     "id": "dacbb7d0-9fa5-4e51-b92a-75573cb3d6bd",
     "isComponent": false,
     "name": "",
     "parents": []
    }
   },
   "outputs": [
    {
     "data": {
      "text/html": [
       "<div>\n",
       "<style scoped>\n",
       "    .dataframe tbody tr th:only-of-type {\n",
       "        vertical-align: middle;\n",
       "    }\n",
       "\n",
       "    .dataframe tbody tr th {\n",
       "        vertical-align: top;\n",
       "    }\n",
       "\n",
       "    .dataframe thead th {\n",
       "        text-align: right;\n",
       "    }\n",
       "</style>\n",
       "<table border=\"1\" class=\"dataframe\">\n",
       "  <thead>\n",
       "    <tr style=\"text-align: right;\">\n",
       "      <th></th>\n",
       "      <th>Types</th>\n",
       "    </tr>\n",
       "  </thead>\n",
       "  <tbody>\n",
       "    <tr>\n",
       "      <th>Gender</th>\n",
       "      <td>object</td>\n",
       "    </tr>\n",
       "    <tr>\n",
       "      <th>ScheduledDay</th>\n",
       "      <td>object</td>\n",
       "    </tr>\n",
       "    <tr>\n",
       "      <th>AppointmentDay</th>\n",
       "      <td>object</td>\n",
       "    </tr>\n",
       "    <tr>\n",
       "      <th>Age</th>\n",
       "      <td>int64</td>\n",
       "    </tr>\n",
       "    <tr>\n",
       "      <th>Neighbourhood</th>\n",
       "      <td>object</td>\n",
       "    </tr>\n",
       "    <tr>\n",
       "      <th>Scholarship</th>\n",
       "      <td>int64</td>\n",
       "    </tr>\n",
       "    <tr>\n",
       "      <th>Hipertension</th>\n",
       "      <td>int64</td>\n",
       "    </tr>\n",
       "    <tr>\n",
       "      <th>Diabetes</th>\n",
       "      <td>int64</td>\n",
       "    </tr>\n",
       "    <tr>\n",
       "      <th>Alcoholism</th>\n",
       "      <td>int64</td>\n",
       "    </tr>\n",
       "    <tr>\n",
       "      <th>Handcap</th>\n",
       "      <td>int64</td>\n",
       "    </tr>\n",
       "    <tr>\n",
       "      <th>SMS_received</th>\n",
       "      <td>int64</td>\n",
       "    </tr>\n",
       "    <tr>\n",
       "      <th>No-show</th>\n",
       "      <td>object</td>\n",
       "    </tr>\n",
       "  </tbody>\n",
       "</table>\n",
       "</div>"
      ],
      "text/plain": [
       "                 Types\n",
       "Gender          object\n",
       "ScheduledDay    object\n",
       "AppointmentDay  object\n",
       "Age              int64\n",
       "Neighbourhood   object\n",
       "Scholarship      int64\n",
       "Hipertension     int64\n",
       "Diabetes         int64\n",
       "Alcoholism       int64\n",
       "Handcap          int64\n",
       "SMS_received     int64\n",
       "No-show         object"
      ]
     },
     "execution_count": 11,
     "metadata": {},
     "output_type": "execute_result"
    }
   ],
   "source": [
    "df.dtypes.to_frame('Types')"
   ]
  },
  {
   "cell_type": "code",
   "execution_count": 12,
   "id": "97cb000e-f21b-4315-8bfb-b42d3f6cbe7c",
   "metadata": {
    "canvas": {
     "comments": [],
     "componentType": "CodeCell",
     "copiedOriginId": null,
     "diskcache": false,
     "headerColor": "none",
     "id": "4222da83-9caa-4bb0-a8cc-da7e2ad31ce5",
     "isComponent": false,
     "name": "",
     "parents": []
    }
   },
   "outputs": [
    {
     "name": "stdout",
     "output_type": "stream",
     "text": [
      "<class 'pandas.core.frame.DataFrame'>\n",
      "RangeIndex: 110527 entries, 0 to 110526\n",
      "Data columns (total 12 columns):\n",
      " #   Column          Non-Null Count   Dtype \n",
      "---  ------          --------------   ----- \n",
      " 0   Gender          110527 non-null  object\n",
      " 1   ScheduledDay    110527 non-null  object\n",
      " 2   AppointmentDay  110527 non-null  object\n",
      " 3   Age             110527 non-null  int64 \n",
      " 4   Neighbourhood   110527 non-null  object\n",
      " 5   Scholarship     110527 non-null  int64 \n",
      " 6   Hipertension    110527 non-null  int64 \n",
      " 7   Diabetes        110527 non-null  int64 \n",
      " 8   Alcoholism      110527 non-null  int64 \n",
      " 9   Handcap         110527 non-null  int64 \n",
      " 10  SMS_received    110527 non-null  int64 \n",
      " 11  No-show         110527 non-null  object\n",
      "dtypes: int64(7), object(5)\n",
      "memory usage: 10.1+ MB\n"
     ]
    }
   ],
   "source": [
    "# show the info of the dataframe\n",
    "df.info()"
   ]
  },
  {
   "cell_type": "markdown",
   "id": "128b9919-6564-43c3-b015-913f0399f495",
   "metadata": {
    "canvas": {
     "comments": [],
     "componentType": "CodeCell",
     "copiedOriginId": null,
     "diskcache": false,
     "headerColor": "none",
     "id": "2130fcb4-e085-4beb-89ba-07e850b894d7",
     "isComponent": false,
     "name": "",
     "parents": []
    }
   },
   "source": [
    "## Data Cleaning"
   ]
  },
  {
   "cell_type": "code",
   "execution_count": 13,
   "id": "4f7b8069-266b-479a-b851-e08f3f3a5cc2",
   "metadata": {
    "canvas": {
     "comments": [],
     "componentType": "CodeCell",
     "copiedOriginId": null,
     "diskcache": false,
     "headerColor": "none",
     "id": "7121e887-3a61-4f15-949a-47839162c266",
     "isComponent": true,
     "name": "Data_cleaning",
     "parents": [
      {
       "id": "1df000a8-d9ec-49ac-8f99-38b609558c37",
       "name": "Data_wrangling"
      }
     ]
    },
    "tags": []
   },
   "outputs": [
    {
     "name": "stdout",
     "output_type": "stream",
     "text": [
      "<class 'pandas.core.frame.DataFrame'>\n",
      "RangeIndex: 110527 entries, 0 to 110526\n",
      "Data columns (total 12 columns):\n",
      " #   Column          Non-Null Count   Dtype              \n",
      "---  ------          --------------   -----              \n",
      " 0   Gender          110527 non-null  object             \n",
      " 1   ScheduledDay    110527 non-null  datetime64[ns, UTC]\n",
      " 2   AppointmentDay  110527 non-null  datetime64[ns, UTC]\n",
      " 3   Age             110527 non-null  int64              \n",
      " 4   Neighbourhood   110527 non-null  object             \n",
      " 5   Scholarship     110527 non-null  int64              \n",
      " 6   Hipertension    110527 non-null  int64              \n",
      " 7   Diabetes        110527 non-null  int64              \n",
      " 8   Alcoholism      110527 non-null  int64              \n",
      " 9   Handcap         110527 non-null  int64              \n",
      " 10  SMS_received    110527 non-null  int64              \n",
      " 11  No-show         110527 non-null  object             \n",
      "dtypes: datetime64[ns, UTC](2), int64(7), object(3)\n",
      "memory usage: 10.1+ MB\n"
     ]
    }
   ],
   "source": [
    "df[\"ScheduledDay\"] = pd.to_datetime(df[\"ScheduledDay\"])\n",
    "df[\"AppointmentDay\"] = pd.to_datetime(df[\"AppointmentDay\"])\n",
    "df.info()"
   ]
  },
  {
   "cell_type": "code",
   "execution_count": 14,
   "id": "3497f459-c65a-456c-8863-bdf5d88d4861",
   "metadata": {
    "canvas": {
     "comments": [],
     "componentType": "CodeCell",
     "copiedOriginId": null,
     "diskcache": false,
     "headerColor": "none",
     "id": "8412fcc2-dc42-498b-a14b-419e997bbf15",
     "isComponent": false,
     "name": "",
     "parents": []
    }
   },
   "outputs": [
    {
     "name": "stdout",
     "output_type": "stream",
     "text": [
      "Dimension: 2\n"
     ]
    }
   ],
   "source": [
    "print(\"Dimension:\", df.ndim)"
   ]
  },
  {
   "cell_type": "code",
   "execution_count": 15,
   "id": "72cb0300-cc87-4e79-934e-64b90d0d1243",
   "metadata": {
    "canvas": {
     "comments": [],
     "componentType": "CodeCell",
     "copiedOriginId": null,
     "diskcache": false,
     "headerColor": "none",
     "id": "22ef54ef-729d-4d83-ab3a-67cf4d46bbe6",
     "isComponent": false,
     "name": "",
     "parents": []
    }
   },
   "outputs": [
    {
     "data": {
      "text/html": [
       "<div>\n",
       "<style scoped>\n",
       "    .dataframe tbody tr th:only-of-type {\n",
       "        vertical-align: middle;\n",
       "    }\n",
       "\n",
       "    .dataframe tbody tr th {\n",
       "        vertical-align: top;\n",
       "    }\n",
       "\n",
       "    .dataframe thead th {\n",
       "        text-align: right;\n",
       "    }\n",
       "</style>\n",
       "<table border=\"1\" class=\"dataframe\">\n",
       "  <thead>\n",
       "    <tr style=\"text-align: right;\">\n",
       "      <th></th>\n",
       "      <th>Total</th>\n",
       "    </tr>\n",
       "  </thead>\n",
       "  <tbody>\n",
       "    <tr>\n",
       "      <th>Gender</th>\n",
       "      <td>110527</td>\n",
       "    </tr>\n",
       "    <tr>\n",
       "      <th>ScheduledDay</th>\n",
       "      <td>110527</td>\n",
       "    </tr>\n",
       "    <tr>\n",
       "      <th>AppointmentDay</th>\n",
       "      <td>110527</td>\n",
       "    </tr>\n",
       "    <tr>\n",
       "      <th>Age</th>\n",
       "      <td>110527</td>\n",
       "    </tr>\n",
       "    <tr>\n",
       "      <th>Neighbourhood</th>\n",
       "      <td>110527</td>\n",
       "    </tr>\n",
       "    <tr>\n",
       "      <th>Scholarship</th>\n",
       "      <td>110527</td>\n",
       "    </tr>\n",
       "    <tr>\n",
       "      <th>Hipertension</th>\n",
       "      <td>110527</td>\n",
       "    </tr>\n",
       "    <tr>\n",
       "      <th>Diabetes</th>\n",
       "      <td>110527</td>\n",
       "    </tr>\n",
       "    <tr>\n",
       "      <th>Alcoholism</th>\n",
       "      <td>110527</td>\n",
       "    </tr>\n",
       "    <tr>\n",
       "      <th>Handcap</th>\n",
       "      <td>110527</td>\n",
       "    </tr>\n",
       "    <tr>\n",
       "      <th>SMS_received</th>\n",
       "      <td>110527</td>\n",
       "    </tr>\n",
       "    <tr>\n",
       "      <th>No-show</th>\n",
       "      <td>110527</td>\n",
       "    </tr>\n",
       "  </tbody>\n",
       "</table>\n",
       "</div>"
      ],
      "text/plain": [
       "                 Total\n",
       "Gender          110527\n",
       "ScheduledDay    110527\n",
       "AppointmentDay  110527\n",
       "Age             110527\n",
       "Neighbourhood   110527\n",
       "Scholarship     110527\n",
       "Hipertension    110527\n",
       "Diabetes        110527\n",
       "Alcoholism      110527\n",
       "Handcap         110527\n",
       "SMS_received    110527\n",
       "No-show         110527"
      ]
     },
     "execution_count": 15,
     "metadata": {},
     "output_type": "execute_result"
    }
   ],
   "source": [
    "df.count().to_frame('Total')"
   ]
  },
  {
   "cell_type": "code",
   "execution_count": 16,
   "id": "2e78eb72-43ec-46cb-b807-1e0553552f5d",
   "metadata": {
    "canvas": {
     "comments": [],
     "componentType": "CodeCell",
     "copiedOriginId": null,
     "diskcache": false,
     "headerColor": "none",
     "id": "323b5465-0b77-4e7c-aca0-7afd55a39948",
     "isComponent": false,
     "name": "",
     "parents": []
    }
   },
   "outputs": [
    {
     "name": "stdout",
     "output_type": "stream",
     "text": [
      "No-show:  {'No', 'Yes'}\n",
      "Gender:  {'F', 'M'}\n"
     ]
    }
   ],
   "source": [
    "print(\"No-show: \", set(df[\"No-show\"]))\n",
    "print(\"Gender: \", set(df[\"Gender\"]))"
   ]
  },
  {
   "cell_type": "code",
   "execution_count": 17,
   "id": "f3cedaf8-97e7-4c8b-8bf2-e2a078a24c8a",
   "metadata": {
    "canvas": {
     "comments": [],
     "componentType": "CodeCell",
     "copiedOriginId": null,
     "diskcache": false,
     "headerColor": "none",
     "id": "d246251b-acf8-4b45-acc8-96c1fefe0a89",
     "isComponent": false,
     "name": "",
     "parents": []
    }
   },
   "outputs": [
    {
     "data": {
      "text/plain": [
       "No     88208\n",
       "Yes    22319\n",
       "Name: No-show, dtype: int64"
      ]
     },
     "execution_count": 17,
     "metadata": {},
     "output_type": "execute_result"
    }
   ],
   "source": [
    "df[\"No-show\"].value_counts()"
   ]
  },
  {
   "cell_type": "code",
   "execution_count": 18,
   "id": "7ae0d309-10b2-4433-89d6-8df2e7b30bb5",
   "metadata": {
    "canvas": {
     "comments": [],
     "componentType": "CodeCell",
     "copiedOriginId": null,
     "diskcache": false,
     "headerColor": "none",
     "id": "85c396ba-514e-43f9-8102-9cc063986ca0",
     "isComponent": false,
     "name": "",
     "parents": []
    }
   },
   "outputs": [
    {
     "data": {
      "text/plain": [
       "F    71840\n",
       "M    38687\n",
       "Name: Gender, dtype: int64"
      ]
     },
     "execution_count": 18,
     "metadata": {},
     "output_type": "execute_result"
    }
   ],
   "source": [
    "df[\"Gender\"].value_counts()"
   ]
  },
  {
   "cell_type": "code",
   "execution_count": 19,
   "id": "8d403632-9dac-4591-9f22-46a489783bad",
   "metadata": {
    "canvas": {
     "comments": [],
     "componentType": "CodeCell",
     "copiedOriginId": null,
     "diskcache": false,
     "headerColor": "none",
     "id": "65a89fea-c6c7-41d2-8dda-daa84e50d413",
     "isComponent": false,
     "name": "",
     "parents": []
    }
   },
   "outputs": [
    {
     "data": {
      "text/html": [
       "<div>\n",
       "<style scoped>\n",
       "    .dataframe tbody tr th:only-of-type {\n",
       "        vertical-align: middle;\n",
       "    }\n",
       "\n",
       "    .dataframe tbody tr th {\n",
       "        vertical-align: top;\n",
       "    }\n",
       "\n",
       "    .dataframe thead th {\n",
       "        text-align: right;\n",
       "    }\n",
       "</style>\n",
       "<table border=\"1\" class=\"dataframe\">\n",
       "  <thead>\n",
       "    <tr style=\"text-align: right;\">\n",
       "      <th></th>\n",
       "      <th>unique data</th>\n",
       "    </tr>\n",
       "  </thead>\n",
       "  <tbody>\n",
       "    <tr>\n",
       "      <th>Gender</th>\n",
       "      <td>2</td>\n",
       "    </tr>\n",
       "    <tr>\n",
       "      <th>ScheduledDay</th>\n",
       "      <td>103549</td>\n",
       "    </tr>\n",
       "    <tr>\n",
       "      <th>AppointmentDay</th>\n",
       "      <td>27</td>\n",
       "    </tr>\n",
       "    <tr>\n",
       "      <th>Age</th>\n",
       "      <td>104</td>\n",
       "    </tr>\n",
       "    <tr>\n",
       "      <th>Neighbourhood</th>\n",
       "      <td>81</td>\n",
       "    </tr>\n",
       "    <tr>\n",
       "      <th>Scholarship</th>\n",
       "      <td>2</td>\n",
       "    </tr>\n",
       "    <tr>\n",
       "      <th>Hipertension</th>\n",
       "      <td>2</td>\n",
       "    </tr>\n",
       "    <tr>\n",
       "      <th>Diabetes</th>\n",
       "      <td>2</td>\n",
       "    </tr>\n",
       "    <tr>\n",
       "      <th>Alcoholism</th>\n",
       "      <td>2</td>\n",
       "    </tr>\n",
       "    <tr>\n",
       "      <th>Handcap</th>\n",
       "      <td>5</td>\n",
       "    </tr>\n",
       "    <tr>\n",
       "      <th>SMS_received</th>\n",
       "      <td>2</td>\n",
       "    </tr>\n",
       "    <tr>\n",
       "      <th>No-show</th>\n",
       "      <td>2</td>\n",
       "    </tr>\n",
       "  </tbody>\n",
       "</table>\n",
       "</div>"
      ],
      "text/plain": [
       "                unique data\n",
       "Gender                    2\n",
       "ScheduledDay         103549\n",
       "AppointmentDay           27\n",
       "Age                     104\n",
       "Neighbourhood            81\n",
       "Scholarship               2\n",
       "Hipertension              2\n",
       "Diabetes                  2\n",
       "Alcoholism                2\n",
       "Handcap                   5\n",
       "SMS_received              2\n",
       "No-show                   2"
      ]
     },
     "execution_count": 19,
     "metadata": {},
     "output_type": "execute_result"
    }
   ],
   "source": [
    "df.nunique().to_frame(\"unique data\")"
   ]
  },
  {
   "cell_type": "code",
   "execution_count": 20,
   "id": "697a1c80-ed27-4ec3-a6fe-af95c85b541e",
   "metadata": {
    "canvas": {
     "comments": [],
     "componentType": "CodeCell",
     "copiedOriginId": null,
     "diskcache": false,
     "headerColor": "none",
     "id": "a6141a5d-99ba-43b0-8ea6-2a2192f926ff",
     "isComponent": false,
     "name": "",
     "parents": []
    }
   },
   "outputs": [
    {
     "name": "stdout",
     "output_type": "stream",
     "text": [
      "Gender: 110525\n",
      "ScheduledDay: 6978\n",
      "AppointmentDay: 110500\n",
      "Age: 110423\n",
      "Neighbourhood: 110446\n",
      "Scholarship: 110525\n",
      "Hipertension: 110525\n",
      "Diabetes: 110525\n",
      "Alcoholism: 110525\n",
      "Handcap: 110522\n",
      "SMS_received: 110525\n",
      "No-show: 110525\n"
     ]
    }
   ],
   "source": [
    "# Data duplicated\n",
    "for i in df.columns:\n",
    "    print(\"{}: {}\".format(i, df[i].duplicated().sum()))"
   ]
  },
  {
   "cell_type": "code",
   "execution_count": 21,
   "id": "b8199b2b-30fb-411c-99cc-5da24e74d2da",
   "metadata": {
    "canvas": {
     "comments": [],
     "componentType": "CodeCell",
     "copiedOriginId": null,
     "diskcache": false,
     "headerColor": "none",
     "id": "b15e5864-85fa-4c5c-a1db-a7c2007360c5",
     "isComponent": false,
     "name": "",
     "parents": []
    }
   },
   "outputs": [
    {
     "data": {
      "text/plain": [
       "(109892, 12)"
      ]
     },
     "execution_count": 21,
     "metadata": {},
     "output_type": "execute_result"
    }
   ],
   "source": [
    "df.drop_duplicates(inplace=True)\n",
    "df.shape"
   ]
  },
  {
   "cell_type": "code",
   "execution_count": 22,
   "id": "5e3275d6-b6de-434d-a3c7-158cb1238e45",
   "metadata": {
    "canvas": {
     "comments": [],
     "componentType": "CodeCell",
     "copiedOriginId": null,
     "diskcache": false,
     "headerColor": "none",
     "id": "8d14ad26-4d54-4b07-b2fc-5a97c4014b1c",
     "isComponent": false,
     "name": "",
     "parents": []
    }
   },
   "outputs": [
    {
     "data": {
      "text/html": [
       "<div>\n",
       "<style scoped>\n",
       "    .dataframe tbody tr th:only-of-type {\n",
       "        vertical-align: middle;\n",
       "    }\n",
       "\n",
       "    .dataframe tbody tr th {\n",
       "        vertical-align: top;\n",
       "    }\n",
       "\n",
       "    .dataframe thead th {\n",
       "        text-align: right;\n",
       "    }\n",
       "</style>\n",
       "<table border=\"1\" class=\"dataframe\">\n",
       "  <thead>\n",
       "    <tr style=\"text-align: right;\">\n",
       "      <th></th>\n",
       "      <th>Null values</th>\n",
       "    </tr>\n",
       "  </thead>\n",
       "  <tbody>\n",
       "    <tr>\n",
       "      <th>Gender</th>\n",
       "      <td>0</td>\n",
       "    </tr>\n",
       "    <tr>\n",
       "      <th>ScheduledDay</th>\n",
       "      <td>0</td>\n",
       "    </tr>\n",
       "    <tr>\n",
       "      <th>AppointmentDay</th>\n",
       "      <td>0</td>\n",
       "    </tr>\n",
       "    <tr>\n",
       "      <th>Age</th>\n",
       "      <td>0</td>\n",
       "    </tr>\n",
       "    <tr>\n",
       "      <th>Neighbourhood</th>\n",
       "      <td>0</td>\n",
       "    </tr>\n",
       "    <tr>\n",
       "      <th>Scholarship</th>\n",
       "      <td>0</td>\n",
       "    </tr>\n",
       "    <tr>\n",
       "      <th>Hipertension</th>\n",
       "      <td>0</td>\n",
       "    </tr>\n",
       "    <tr>\n",
       "      <th>Diabetes</th>\n",
       "      <td>0</td>\n",
       "    </tr>\n",
       "    <tr>\n",
       "      <th>Alcoholism</th>\n",
       "      <td>0</td>\n",
       "    </tr>\n",
       "    <tr>\n",
       "      <th>Handcap</th>\n",
       "      <td>0</td>\n",
       "    </tr>\n",
       "    <tr>\n",
       "      <th>SMS_received</th>\n",
       "      <td>0</td>\n",
       "    </tr>\n",
       "    <tr>\n",
       "      <th>No-show</th>\n",
       "      <td>0</td>\n",
       "    </tr>\n",
       "  </tbody>\n",
       "</table>\n",
       "</div>"
      ],
      "text/plain": [
       "                Null values\n",
       "Gender                    0\n",
       "ScheduledDay              0\n",
       "AppointmentDay            0\n",
       "Age                       0\n",
       "Neighbourhood             0\n",
       "Scholarship               0\n",
       "Hipertension              0\n",
       "Diabetes                  0\n",
       "Alcoholism                0\n",
       "Handcap                   0\n",
       "SMS_received              0\n",
       "No-show                   0"
      ]
     },
     "execution_count": 22,
     "metadata": {},
     "output_type": "execute_result"
    }
   ],
   "source": [
    "df.isnull().sum().to_frame(\"Null values\")"
   ]
  },
  {
   "cell_type": "markdown",
   "id": "ea97d0bd-8fd5-48f4-a268-56a3997882fb",
   "metadata": {
    "canvas": {
     "comments": [],
     "componentType": "CodeCell",
     "copiedOriginId": null,
     "diskcache": false,
     "headerColor": "none",
     "id": "b4960178-cebe-4372-8d75-51b1a9a86255",
     "isComponent": false,
     "name": "",
     "parents": []
    }
   },
   "source": [
    "## Exploratory Data Analysis (EDA)"
   ]
  },
  {
   "cell_type": "code",
   "execution_count": 23,
   "id": "78eff5f5-f6b8-4a71-af8a-1e0890bbb842",
   "metadata": {
    "canvas": {
     "comments": [],
     "componentType": "CodeCell",
     "copiedOriginId": null,
     "diskcache": false,
     "headerColor": "none",
     "id": "45bdcec2-3029-4f27-924a-24f1ea4df3d1",
     "isComponent": true,
     "name": "EDA",
     "parents": [
      {
       "id": "7121e887-3a61-4f15-949a-47839162c266",
       "name": "Data_cleaning"
      },
      {
       "id": "1df000a8-d9ec-49ac-8f99-38b609558c37",
       "name": "Data_wrangling"
      }
     ]
    },
    "tags": []
   },
   "outputs": [
    {
     "data": {
      "text/html": [
       "<div>\n",
       "<style scoped>\n",
       "    .dataframe tbody tr th:only-of-type {\n",
       "        vertical-align: middle;\n",
       "    }\n",
       "\n",
       "    .dataframe tbody tr th {\n",
       "        vertical-align: top;\n",
       "    }\n",
       "\n",
       "    .dataframe thead th {\n",
       "        text-align: right;\n",
       "    }\n",
       "</style>\n",
       "<table border=\"1\" class=\"dataframe\">\n",
       "  <thead>\n",
       "    <tr style=\"text-align: right;\">\n",
       "      <th></th>\n",
       "      <th>count</th>\n",
       "      <th>mean</th>\n",
       "      <th>std</th>\n",
       "      <th>min</th>\n",
       "      <th>25%</th>\n",
       "      <th>50%</th>\n",
       "      <th>75%</th>\n",
       "      <th>max</th>\n",
       "    </tr>\n",
       "  </thead>\n",
       "  <tbody>\n",
       "    <tr>\n",
       "      <th>Age</th>\n",
       "      <td>109892.0</td>\n",
       "      <td>37.089506</td>\n",
       "      <td>23.121196</td>\n",
       "      <td>-1.0</td>\n",
       "      <td>18.0</td>\n",
       "      <td>37.0</td>\n",
       "      <td>55.0</td>\n",
       "      <td>115.0</td>\n",
       "    </tr>\n",
       "    <tr>\n",
       "      <th>Scholarship</th>\n",
       "      <td>109892.0</td>\n",
       "      <td>0.098287</td>\n",
       "      <td>0.297704</td>\n",
       "      <td>0.0</td>\n",
       "      <td>0.0</td>\n",
       "      <td>0.0</td>\n",
       "      <td>0.0</td>\n",
       "      <td>1.0</td>\n",
       "    </tr>\n",
       "    <tr>\n",
       "      <th>Hipertension</th>\n",
       "      <td>109892.0</td>\n",
       "      <td>0.197248</td>\n",
       "      <td>0.397923</td>\n",
       "      <td>0.0</td>\n",
       "      <td>0.0</td>\n",
       "      <td>0.0</td>\n",
       "      <td>0.0</td>\n",
       "      <td>1.0</td>\n",
       "    </tr>\n",
       "    <tr>\n",
       "      <th>Diabetes</th>\n",
       "      <td>109892.0</td>\n",
       "      <td>0.071825</td>\n",
       "      <td>0.258199</td>\n",
       "      <td>0.0</td>\n",
       "      <td>0.0</td>\n",
       "      <td>0.0</td>\n",
       "      <td>0.0</td>\n",
       "      <td>1.0</td>\n",
       "    </tr>\n",
       "    <tr>\n",
       "      <th>Alcoholism</th>\n",
       "      <td>109892.0</td>\n",
       "      <td>0.030430</td>\n",
       "      <td>0.171768</td>\n",
       "      <td>0.0</td>\n",
       "      <td>0.0</td>\n",
       "      <td>0.0</td>\n",
       "      <td>0.0</td>\n",
       "      <td>1.0</td>\n",
       "    </tr>\n",
       "    <tr>\n",
       "      <th>Handcap</th>\n",
       "      <td>109892.0</td>\n",
       "      <td>0.022131</td>\n",
       "      <td>0.160878</td>\n",
       "      <td>0.0</td>\n",
       "      <td>0.0</td>\n",
       "      <td>0.0</td>\n",
       "      <td>0.0</td>\n",
       "      <td>4.0</td>\n",
       "    </tr>\n",
       "    <tr>\n",
       "      <th>SMS_received</th>\n",
       "      <td>109892.0</td>\n",
       "      <td>0.322881</td>\n",
       "      <td>0.467580</td>\n",
       "      <td>0.0</td>\n",
       "      <td>0.0</td>\n",
       "      <td>0.0</td>\n",
       "      <td>1.0</td>\n",
       "      <td>1.0</td>\n",
       "    </tr>\n",
       "  </tbody>\n",
       "</table>\n",
       "</div>"
      ],
      "text/plain": [
       "                 count       mean        std  min   25%   50%   75%    max\n",
       "Age           109892.0  37.089506  23.121196 -1.0  18.0  37.0  55.0  115.0\n",
       "Scholarship   109892.0   0.098287   0.297704  0.0   0.0   0.0   0.0    1.0\n",
       "Hipertension  109892.0   0.197248   0.397923  0.0   0.0   0.0   0.0    1.0\n",
       "Diabetes      109892.0   0.071825   0.258199  0.0   0.0   0.0   0.0    1.0\n",
       "Alcoholism    109892.0   0.030430   0.171768  0.0   0.0   0.0   0.0    1.0\n",
       "Handcap       109892.0   0.022131   0.160878  0.0   0.0   0.0   0.0    4.0\n",
       "SMS_received  109892.0   0.322881   0.467580  0.0   0.0   0.0   1.0    1.0"
      ]
     },
     "execution_count": 23,
     "metadata": {},
     "output_type": "execute_result"
    }
   ],
   "source": [
    "df.describe().T"
   ]
  },
  {
   "cell_type": "code",
   "execution_count": 24,
   "id": "9bb18d06-136a-4f8d-ab40-24c5d63563de",
   "metadata": {
    "canvas": {
     "comments": [],
     "componentType": "CodeCell",
     "copiedOriginId": null,
     "diskcache": false,
     "headerColor": "none",
     "id": "f48a598f-98db-4c74-9f46-8b0a38afb838",
     "isComponent": false,
     "name": "",
     "parents": []
    }
   },
   "outputs": [
    {
     "data": {
      "image/png": "[encoded data removed]",
      "text/plain": [
       "<Figure size 1800x720 with 2 Axes>"
      ]
     },
     "metadata": {
      "needs_background": "light"
     },
     "output_type": "display_data"
    }
   ],
   "source": [
    "# plot missing values\n",
    "ms.matrix(df);"
   ]
  },
  {
   "cell_type": "code",
   "execution_count": 25,
   "id": "0cbd52c4-752f-43f5-9e1b-811ba24eaf27",
   "metadata": {
    "canvas": {
     "comments": [],
     "componentType": "CodeCell",
     "copiedOriginId": null,
     "diskcache": false,
     "headerColor": "none",
     "id": "dfe5c8cb-ea30-422e-9e15-81a9bd998dbb",
     "isComponent": false,
     "name": "",
     "parents": []
    }
   },
   "outputs": [
    {
     "data": {
      "image/png": "[encoded data removed]",
      "text/plain": [
       "<Figure size 432x288 with 2 Axes>"
      ]
     },
     "metadata": {
      "needs_background": "light"
     },
     "output_type": "display_data"
    }
   ],
   "source": [
    "sns.heatmap(df.corr(), annot=True, linewidths=3);"
   ]
  },
  {
   "cell_type": "code",
   "execution_count": 26,
   "id": "56370c4e-ea58-404b-9894-eed42f92f211",
   "metadata": {
    "canvas": {
     "comments": [],
     "componentType": "CodeCell",
     "copiedOriginId": null,
     "diskcache": false,
     "headerColor": "none",
     "id": "aa591afb-6226-4283-9342-ce5913a53e4c",
     "isComponent": false,
     "name": "",
     "parents": []
    }
   },
   "outputs": [
    {
     "data": {
      "image/png": "[encoded data removed]",
      "text/plain": [
       "<Figure size 360x360 with 1 Axes>"
      ]
     },
     "metadata": {
      "needs_background": "light"
     },
     "output_type": "display_data"
    }
   ],
   "source": [
    "df[\"Age\"].value_counts().plot.hist(figsize=(5, 5)).legend();"
   ]
  },
  {
   "cell_type": "code",
   "execution_count": 27,
   "id": "66033e67-e7ce-46e3-8dcc-ae8be1f36903",
   "metadata": {
    "canvas": {
     "comments": [],
     "componentType": "CodeCell",
     "copiedOriginId": null,
     "diskcache": false,
     "headerColor": "none",
     "id": "d0fb5e06-e663-4978-97b8-ed4f05654856",
     "isComponent": false,
     "name": "",
     "parents": []
    }
   },
   "outputs": [
    {
     "name": "stdout",
     "output_type": "stream",
     "text": [
      "Scholarship:  {0, 1}\n",
      "Diabetes:  {0, 1}\n"
     ]
    }
   ],
   "source": [
    "print('Scholarship: ', set(df['Scholarship']))\n",
    "print('Diabetes: ', set(df['Diabetes']))"
   ]
  },
  {
   "cell_type": "code",
   "execution_count": 28,
   "id": "e311a4c6-05b9-4181-9b0a-e0b7eeef57cb",
   "metadata": {
    "canvas": {
     "comments": [],
     "componentType": "CodeCell",
     "copiedOriginId": null,
     "diskcache": false,
     "headerColor": "none",
     "id": "55b51037-ccf9-4617-8d96-e35ebcd7e29e",
     "isComponent": false,
     "name": "",
     "parents": []
    }
   },
   "outputs": [
    {
     "data": {
      "text/plain": [
       "Scholarship  Diabetes\n",
       "1            1           566\n",
       "dtype: int64"
      ]
     },
     "execution_count": 28,
     "metadata": {},
     "output_type": "execute_result"
    }
   ],
   "source": [
    "df[[\"Scholarship\", \"Diabetes\"]].query(\"Scholarship == 1 and Diabetes == 1\").value_counts()"
   ]
  },
  {
   "cell_type": "code",
   "execution_count": 29,
   "id": "ae174046-4f90-435d-adef-5d32d4be7582",
   "metadata": {
    "canvas": {
     "comments": [],
     "componentType": "CodeCell",
     "copiedOriginId": null,
     "diskcache": false,
     "headerColor": "none",
     "id": "ab0e4f4a-85e4-408b-bda8-2e55028a2bfd",
     "isComponent": false,
     "name": "",
     "parents": []
    }
   },
   "outputs": [
    {
     "data": {
      "text/plain": [
       "Scholarship  Diabetes\n",
       "1            0           10235\n",
       "dtype: int64"
      ]
     },
     "execution_count": 29,
     "metadata": {},
     "output_type": "execute_result"
    }
   ],
   "source": [
    "df[[\"Scholarship\", \"Diabetes\"]] .query(\"Scholarship == 1 and Diabetes == 0\").value_counts()"
   ]
  },
  {
   "cell_type": "code",
   "execution_count": 30,
   "id": "738e1ae9-ea3a-4b39-b503-19df90d6cba9",
   "metadata": {
    "canvas": {
     "comments": [],
     "componentType": "CodeCell",
     "copiedOriginId": null,
     "diskcache": false,
     "headerColor": "none",
     "id": "a429b929-3115-4a82-a8ad-230f06fb2790",
     "isComponent": false,
     "name": "",
     "parents": []
    }
   },
   "outputs": [
    {
     "data": {
      "text/plain": [
       "Scholarship  Diabetes\n",
       "0            0           91764\n",
       "dtype: int64"
      ]
     },
     "execution_count": 30,
     "metadata": {},
     "output_type": "execute_result"
    }
   ],
   "source": [
    "df[[\"Scholarship\", \"Diabetes\"]] .query(\"Scholarship == 0 and Diabetes == 0\").value_counts()"
   ]
  },
  {
   "cell_type": "code",
   "execution_count": 31,
   "id": "f457f31f-c077-4104-a869-67c72679aec9",
   "metadata": {
    "canvas": {
     "comments": [],
     "componentType": "CodeCell",
     "copiedOriginId": null,
     "diskcache": false,
     "headerColor": "none",
     "id": "ff0519f8-ffe8-4076-a6fc-214145bf397d",
     "isComponent": false,
     "name": "",
     "parents": []
    }
   },
   "outputs": [
    {
     "data": {
      "text/plain": [
       "Scholarship  Diabetes\n",
       "0            1           7327\n",
       "dtype: int64"
      ]
     },
     "execution_count": 31,
     "metadata": {},
     "output_type": "execute_result"
    }
   ],
   "source": [
    "df[[\"Scholarship\", \"Diabetes\"]] .query(\"Scholarship == 0 and Diabetes == 1\").value_counts()"
   ]
  },
  {
   "cell_type": "code",
   "execution_count": 11,
   "id": "dd9ea159-f795-4761-a764-55f0020c376e",
   "metadata": {
    "canvas": {
     "comments": [],
     "componentType": "CodeCell",
     "copiedOriginId": null,
     "diskcache": false,
     "headerColor": "none",
     "id": "a1a853b7-2771-4805-9800-f253ffc4d359",
     "isComponent": false,
     "name": "",
     "parents": []
    }
   },
   "outputs": [
    {
     "name": "stdout",
     "output_type": "stream",
     "text": [
      "0    99666\n",
      "1    10861\n",
      "Name: Scholarship, dtype: int64\n"
     ]
    },
    {
     "data": {
      "image/png": "[encoded data removed]",
      "text/plain": [
       "<Figure size 360x360 with 1 Axes>"
      ]
     },
     "metadata": {
      "needs_background": "light"
     },
     "output_type": "display_data"
    }
   ],
   "source": [
    "print(df[\"Scholarship\"].value_counts())\n",
    "df[\"Scholarship\"].value_counts().plot.pie(figsize=(5, 5), autopct=\"%.0f%%\", explode=[0, 0.1], shadow=True, frame=True).legend();"
   ]
  },
  {
   "cell_type": "code",
   "execution_count": 13,
   "id": "a3057237-298f-4473-ac4a-93a4b1e7c38c",
   "metadata": {
    "canvas": {
     "comments": [],
     "componentType": "CodeCell",
     "copiedOriginId": null,
     "diskcache": false,
     "headerColor": "none",
     "id": "fda502f1-8577-4b4b-9abe-37278c3934a0",
     "isComponent": false,
     "name": "",
     "parents": []
    }
   },
   "outputs": [
    {
     "name": "stdout",
     "output_type": "stream",
     "text": [
      "F    71840\n",
      "M    38687\n",
      "Name: Gender, dtype: int64\n"
     ]
    },
    {
     "data": {
      "image/png": "[encoded data removed]",
      "text/plain": [
       "<Figure size 360x360 with 1 Axes>"
      ]
     },
     "metadata": {
      "needs_background": "light"
     },
     "output_type": "display_data"
    }
   ],
   "source": [
    "print(df[\"Gender\"].value_counts());\n",
    "df[\"Gender\"].value_counts().plot.pie(figsize=(5, 5), autopct=\"%.0f%%\", explode=[0, 0.1], shadow=True, frame=True).legend();"
   ]
  },
  {
   "cell_type": "code",
   "execution_count": null,
   "id": "322233d3-55ea-4c7d-bf50-57721dcc3313",
   "metadata": {
    "canvas": {
     "comments": [],
     "componentType": "CodeCell",
     "copiedOriginId": null,
     "diskcache": false,
     "headerColor": "none",
     "id": "422cf686-14e7-4054-8682-52e837f9a4b5",
     "isComponent": false,
     "name": "",
     "parents": []
    }
   },
   "outputs": [],
   "source": [
    "print(df[\"Hipertension\"].value_counts())\n",
    "df[\"Hipertension\"].value_counts().plot.pie(figsize=(5, 5), autopct=\"%.2f\").legend();"
   ]
  },
  {
   "cell_type": "code",
   "execution_count": 51,
   "id": "ff13a4a0-1e3a-4923-a951-ceb5612b02a9",
   "metadata": {
    "canvas": {
     "comments": [],
     "componentType": "CodeCell",
     "copiedOriginId": null,
     "diskcache": false,
     "headerColor": "none",
     "id": "03043d04-6b14-431e-b5bc-aba1400e0100",
     "isComponent": false,
     "name": "",
     "parents": []
    }
   },
   "outputs": [
    {
     "name": "stdout",
     "output_type": "stream",
     "text": [
      "0    101999\n",
      "1      7893\n",
      "Name: Diabetes, dtype: int64\n"
     ]
    },
    {
     "data": {
      "image/png": "[encoded data removed]",
      "text/plain": [
       "<Figure size 360x360 with 1 Axes>"
      ]
     },
     "metadata": {},
     "output_type": "display_data"
    }
   ],
   "source": [
    "print(df[\"Diabetes\"].value_counts())\n",
    "df[\"Diabetes\"].value_counts().plot.pie(figsize=(5, 5), autopct=\"%.0f%%\", explode=[0, 0.1]).legend();"
   ]
  },
  {
   "cell_type": "code",
   "execution_count": 53,
   "id": "d17cfd7c-b04b-46ee-a3c5-184dda383afd",
   "metadata": {
    "canvas": {
     "comments": [],
     "componentType": "CodeCell",
     "copiedOriginId": null,
     "diskcache": false,
     "headerColor": "none",
     "id": "a86d044a-91b4-4331-b64f-8bec5488f0a9",
     "isComponent": false,
     "name": "",
     "parents": []
    }
   },
   "outputs": [
    {
     "name": "stdout",
     "output_type": "stream",
     "text": [
      "0    106548\n",
      "1      3344\n",
      "Name: Alcoholism, dtype: int64\n"
     ]
    },
    {
     "data": {
      "image/png": "[encoded data removed]",
      "text/plain": [
       "<Figure size 360x360 with 1 Axes>"
      ]
     },
     "metadata": {},
     "output_type": "display_data"
    }
   ],
   "source": [
    "print(df[\"Alcoholism\"].value_counts())\n",
    "df[\"Alcoholism\"].value_counts().plot.pie(figsize=(5, 5), autopct=\"%.2f%%\", explode=[0, 0.1]).legend();"
   ]
  },
  {
   "cell_type": "code",
   "execution_count": 61,
   "id": "d8df2285-3bce-4e0f-940b-4cf600fd99e1",
   "metadata": {
    "canvas": {
     "comments": [],
     "componentType": "CodeCell",
     "copiedOriginId": null,
     "diskcache": false,
     "headerColor": "none",
     "id": "dd801fb6-2db0-4ef5-873d-804c5180b8ef",
     "isComponent": false,
     "name": "",
     "parents": []
    }
   },
   "outputs": [
    {
     "name": "stdout",
     "output_type": "stream",
     "text": [
      "0    107673\n",
      "1      2023\n",
      "2       182\n",
      "3        11\n",
      "4         3\n",
      "Name: Handcap, dtype: int64\n"
     ]
    },
    {
     "data": {
      "image/png": "[encoded data removed]",
      "text/plain": [
       "<Figure size 360x360 with 1 Axes>"
      ]
     },
     "metadata": {},
     "output_type": "display_data"
    }
   ],
   "source": [
    "print(df[\"Handcap\"].value_counts())\n",
    "df[\"Handcap\"].value_counts().plot.pie(figsize=(5, 5), autopct=\"%.0f%%\").legend();"
   ]
  },
  {
   "cell_type": "code",
   "execution_count": 63,
   "id": "f7a31fa1-972d-4e57-8609-730e1d50f30b",
   "metadata": {
    "canvas": {
     "comments": [],
     "componentType": "CodeCell",
     "copiedOriginId": null,
     "diskcache": false,
     "headerColor": "none",
     "id": "cf436fcc-7fa7-460e-9ca1-e2613d2b4036",
     "isComponent": false,
     "name": "",
     "parents": []
    }
   },
   "outputs": [
    {
     "name": "stdout",
     "output_type": "stream",
     "text": [
      "0    74410\n",
      "1    35482\n",
      "Name: SMS_received, dtype: int64\n"
     ]
    },
    {
     "data": {
      "image/png": "[encoded data removed]",
      "text/plain": [
       "<Figure size 360x360 with 1 Axes>"
      ]
     },
     "metadata": {},
     "output_type": "display_data"
    }
   ],
   "source": [
    "print(df[\"SMS_received\"].value_counts())\n",
    "df[\"SMS_received\"].value_counts().plot.pie(figsize=(5, 5), autopct=\"%.2f%%\", explode=[0, 0.1]).legend();"
   ]
  },
  {
   "cell_type": "code",
   "execution_count": 64,
   "id": "ec06a356-f1e8-497d-9b64-5db4c1165a9f",
   "metadata": {
    "canvas": {
     "comments": [],
     "componentType": "CodeCell",
     "copiedOriginId": null,
     "diskcache": false,
     "headerColor": "none",
     "id": "40eab63c-414e-4add-9f9f-e573651a5806",
     "isComponent": false,
     "name": "",
     "parents": []
    }
   },
   "outputs": [
    {
     "name": "stdout",
     "output_type": "stream",
     "text": [
      "No     87794\n",
      "Yes    22098\n",
      "Name: No-show, dtype: int64\n"
     ]
    },
    {
     "data": {
      "image/png": "[encoded data removed]",
      "text/plain": [
       "<Figure size 360x360 with 1 Axes>"
      ]
     },
     "metadata": {},
     "output_type": "display_data"
    }
   ],
   "source": [
    "print(df[\"No-show\"].value_counts())\n",
    "df[\"No-show\"].value_counts().plot.pie(figsize=(5, 5), autopct=\"%.2f%%\", explode=[0, 0.1]).legend();"
   ]
  },
  {
   "cell_type": "code",
   "execution_count": 65,
   "id": "217aaec6-ce70-4caa-8b8c-d9bedbddd6dc",
   "metadata": {
    "canvas": {
     "comments": [],
     "componentType": "CodeCell",
     "copiedOriginId": null,
     "diskcache": false,
     "headerColor": "none",
     "id": "0aa1dadd-550a-4760-9c4f-e43a195352af",
     "isComponent": false,
     "name": "",
     "parents": []
    }
   },
   "outputs": [
    {
     "data": {
      "image/png": "[encoded data removed]",
      "text/plain": [
       "<Figure size 360x360 with 1 Axes>"
      ]
     },
     "metadata": {
      "needs_background": "light"
     },
     "output_type": "display_data"
    }
   ],
   "source": [
    "# df[\"Age\"].value_counts().plot.density(figsize=(5, 5)).legend();\n",
    "df[\"Age\"].value_counts().plot.hist(figsize=(5, 5)).legend();"
   ]
  },
  {
   "cell_type": "code",
   "execution_count": 66,
   "id": "d5b56352-47f7-4c4b-9322-410938044e79",
   "metadata": {
    "canvas": {
     "comments": [],
     "componentType": "CodeCell",
     "copiedOriginId": null,
     "diskcache": false,
     "headerColor": "none",
     "id": "b69d4daa-7aad-4092-a0e7-0ee1e38bb141",
     "isComponent": false,
     "name": "",
     "parents": []
    }
   },
   "outputs": [
    {
     "data": {
      "image/png": "[encoded data removed]",
      "text/plain": [
       "<Figure size 1260x1260 with 56 Axes>"
      ]
     },
     "metadata": {
      "needs_background": "light"
     },
     "output_type": "display_data"
    }
   ],
   "source": [
    "sns.pairplot(df);"
   ]
  },
  {
   "cell_type": "code",
   "execution_count": 67,
   "id": "8035ae87-08ed-4731-9cd3-84fbf55e1a60",
   "metadata": {
    "canvas": {
     "comments": [],
     "componentType": "CodeCell",
     "copiedOriginId": null,
     "diskcache": false,
     "headerColor": "none",
     "id": "49a4cbeb-4687-409b-b0e3-37dd0b3cbbc3",
     "isComponent": false,
     "name": "",
     "parents": []
    }
   },
   "outputs": [],
   "source": [
    "df.to_csv(\"time_series_ScheduledDay.csv\")"
   ]
  },
  {
   "cell_type": "code",
   "execution_count": 68,
   "id": "530d4796-4883-4b49-8e91-1c4126acac57",
   "metadata": {
    "canvas": {
     "comments": [],
     "componentType": "CodeCell",
     "copiedOriginId": null,
     "diskcache": false,
     "headerColor": "none",
     "id": "803834bb-3b9d-445d-b0c2-ba2175c3c6e7",
     "isComponent": false,
     "name": "",
     "parents": []
    }
   },
   "outputs": [
    {
     "data": {
      "text/html": [
       "<div>\n",
       "<style scoped>\n",
       "    .dataframe tbody tr th:only-of-type {\n",
       "        vertical-align: middle;\n",
       "    }\n",
       "\n",
       "    .dataframe tbody tr th {\n",
       "        vertical-align: top;\n",
       "    }\n",
       "\n",
       "    .dataframe thead th {\n",
       "        text-align: right;\n",
       "    }\n",
       "</style>\n",
       "<table border=\"1\" class=\"dataframe\">\n",
       "  <thead>\n",
       "    <tr style=\"text-align: right;\">\n",
       "      <th></th>\n",
       "      <th>Unnamed: 0</th>\n",
       "      <th>Gender</th>\n",
       "      <th>AppointmentDay</th>\n",
       "      <th>Age</th>\n",
       "      <th>Neighbourhood</th>\n",
       "      <th>Scholarship</th>\n",
       "      <th>Hipertension</th>\n",
       "      <th>Diabetes</th>\n",
       "      <th>Alcoholism</th>\n",
       "      <th>Handcap</th>\n",
       "      <th>SMS_received</th>\n",
       "      <th>No-show</th>\n",
       "    </tr>\n",
       "    <tr>\n",
       "      <th>ScheduledDay</th>\n",
       "      <th></th>\n",
       "      <th></th>\n",
       "      <th></th>\n",
       "      <th></th>\n",
       "      <th></th>\n",
       "      <th></th>\n",
       "      <th></th>\n",
       "      <th></th>\n",
       "      <th></th>\n",
       "      <th></th>\n",
       "      <th></th>\n",
       "      <th></th>\n",
       "    </tr>\n",
       "  </thead>\n",
       "  <tbody>\n",
       "    <tr>\n",
       "      <th>2016-04-29 18:38:08+00:00</th>\n",
       "      <td>0</td>\n",
       "      <td>F</td>\n",
       "      <td>2016-04-29 00:00:00+00:00</td>\n",
       "      <td>62</td>\n",
       "      <td>JARDIM DA PENHA</td>\n",
       "      <td>0</td>\n",
       "      <td>1</td>\n",
       "      <td>0</td>\n",
       "      <td>0</td>\n",
       "      <td>0</td>\n",
       "      <td>0</td>\n",
       "      <td>No</td>\n",
       "    </tr>\n",
       "    <tr>\n",
       "      <th>2016-04-29 16:08:27+00:00</th>\n",
       "      <td>1</td>\n",
       "      <td>M</td>\n",
       "      <td>2016-04-29 00:00:00+00:00</td>\n",
       "      <td>56</td>\n",
       "      <td>JARDIM DA PENHA</td>\n",
       "      <td>0</td>\n",
       "      <td>0</td>\n",
       "      <td>0</td>\n",
       "      <td>0</td>\n",
       "      <td>0</td>\n",
       "      <td>0</td>\n",
       "      <td>No</td>\n",
       "    </tr>\n",
       "    <tr>\n",
       "      <th>2016-04-29 16:19:04+00:00</th>\n",
       "      <td>2</td>\n",
       "      <td>F</td>\n",
       "      <td>2016-04-29 00:00:00+00:00</td>\n",
       "      <td>62</td>\n",
       "      <td>MATA DA PRAIA</td>\n",
       "      <td>0</td>\n",
       "      <td>0</td>\n",
       "      <td>0</td>\n",
       "      <td>0</td>\n",
       "      <td>0</td>\n",
       "      <td>0</td>\n",
       "      <td>No</td>\n",
       "    </tr>\n",
       "    <tr>\n",
       "      <th>2016-04-29 17:29:31+00:00</th>\n",
       "      <td>3</td>\n",
       "      <td>F</td>\n",
       "      <td>2016-04-29 00:00:00+00:00</td>\n",
       "      <td>8</td>\n",
       "      <td>PONTAL DE CAMBURI</td>\n",
       "      <td>0</td>\n",
       "      <td>0</td>\n",
       "      <td>0</td>\n",
       "      <td>0</td>\n",
       "      <td>0</td>\n",
       "      <td>0</td>\n",
       "      <td>No</td>\n",
       "    </tr>\n",
       "    <tr>\n",
       "      <th>2016-04-29 16:07:23+00:00</th>\n",
       "      <td>4</td>\n",
       "      <td>F</td>\n",
       "      <td>2016-04-29 00:00:00+00:00</td>\n",
       "      <td>56</td>\n",
       "      <td>JARDIM DA PENHA</td>\n",
       "      <td>0</td>\n",
       "      <td>1</td>\n",
       "      <td>1</td>\n",
       "      <td>0</td>\n",
       "      <td>0</td>\n",
       "      <td>0</td>\n",
       "      <td>No</td>\n",
       "    </tr>\n",
       "  </tbody>\n",
       "</table>\n",
       "</div>"
      ],
      "text/plain": [
       "                           Unnamed: 0 Gender             AppointmentDay  Age  \\\n",
       "ScheduledDay                                                                   \n",
       "2016-04-29 18:38:08+00:00           0      F  2016-04-29 00:00:00+00:00   62   \n",
       "2016-04-29 16:08:27+00:00           1      M  2016-04-29 00:00:00+00:00   56   \n",
       "2016-04-29 16:19:04+00:00           2      F  2016-04-29 00:00:00+00:00   62   \n",
       "2016-04-29 17:29:31+00:00           3      F  2016-04-29 00:00:00+00:00    8   \n",
       "2016-04-29 16:07:23+00:00           4      F  2016-04-29 00:00:00+00:00   56   \n",
       "\n",
       "                               Neighbourhood  Scholarship  Hipertension  \\\n",
       "ScheduledDay                                                              \n",
       "2016-04-29 18:38:08+00:00    JARDIM DA PENHA            0             1   \n",
       "2016-04-29 16:08:27+00:00    JARDIM DA PENHA            0             0   \n",
       "2016-04-29 16:19:04+00:00      MATA DA PRAIA            0             0   \n",
       "2016-04-29 17:29:31+00:00  PONTAL DE CAMBURI            0             0   \n",
       "2016-04-29 16:07:23+00:00    JARDIM DA PENHA            0             1   \n",
       "\n",
       "                           Diabetes  Alcoholism  Handcap  SMS_received No-show  \n",
       "ScheduledDay                                                                    \n",
       "2016-04-29 18:38:08+00:00         0           0        0             0      No  \n",
       "2016-04-29 16:08:27+00:00         0           0        0             0      No  \n",
       "2016-04-29 16:19:04+00:00         0           0        0             0      No  \n",
       "2016-04-29 17:29:31+00:00         0           0        0             0      No  \n",
       "2016-04-29 16:07:23+00:00         1           0        0             0      No  "
      ]
     },
     "execution_count": 68,
     "metadata": {},
     "output_type": "execute_result"
    }
   ],
   "source": [
    "ts = pd.read_csv(\"time_series_ScheduledDay.csv\", index_col='ScheduledDay', parse_dates=True)\n",
    "ts.head()"
   ]
  },
  {
   "cell_type": "code",
   "execution_count": 69,
   "id": "351acf6c-98ec-4fd8-af09-1c0ad6a0451e",
   "metadata": {
    "canvas": {
     "comments": [],
     "componentType": "CodeCell",
     "copiedOriginId": null,
     "diskcache": false,
     "headerColor": "none",
     "id": "f85c55da-ded6-4a10-aba5-97ea649c8a13",
     "isComponent": false,
     "name": "",
     "parents": []
    }
   },
   "outputs": [],
   "source": [
    "ts.drop('Unnamed: 0', axis=1, inplace=True)"
   ]
  },
  {
   "cell_type": "code",
   "execution_count": 70,
   "id": "53ee561a-cb2a-4df9-be76-0f624e6b84c8",
   "metadata": {
    "canvas": {
     "comments": [],
     "componentType": "CodeCell",
     "copiedOriginId": null,
     "diskcache": false,
     "headerColor": "none",
     "id": "82543f65-4491-489a-a7af-6e484388bb57",
     "isComponent": false,
     "name": "",
     "parents": []
    }
   },
   "outputs": [
    {
     "data": {
      "text/html": [
       "<div>\n",
       "<style scoped>\n",
       "    .dataframe tbody tr th:only-of-type {\n",
       "        vertical-align: middle;\n",
       "    }\n",
       "\n",
       "    .dataframe tbody tr th {\n",
       "        vertical-align: top;\n",
       "    }\n",
       "\n",
       "    .dataframe thead th {\n",
       "        text-align: right;\n",
       "    }\n",
       "</style>\n",
       "<table border=\"1\" class=\"dataframe\">\n",
       "  <thead>\n",
       "    <tr style=\"text-align: right;\">\n",
       "      <th></th>\n",
       "      <th>Gender</th>\n",
       "      <th>AppointmentDay</th>\n",
       "      <th>Age</th>\n",
       "      <th>Neighbourhood</th>\n",
       "      <th>Scholarship</th>\n",
       "      <th>Hipertension</th>\n",
       "      <th>Diabetes</th>\n",
       "      <th>Alcoholism</th>\n",
       "      <th>Handcap</th>\n",
       "      <th>SMS_received</th>\n",
       "      <th>No-show</th>\n",
       "    </tr>\n",
       "    <tr>\n",
       "      <th>ScheduledDay</th>\n",
       "      <th></th>\n",
       "      <th></th>\n",
       "      <th></th>\n",
       "      <th></th>\n",
       "      <th></th>\n",
       "      <th></th>\n",
       "      <th></th>\n",
       "      <th></th>\n",
       "      <th></th>\n",
       "      <th></th>\n",
       "      <th></th>\n",
       "    </tr>\n",
       "  </thead>\n",
       "  <tbody>\n",
       "    <tr>\n",
       "      <th>2016-04-29 18:38:08+00:00</th>\n",
       "      <td>F</td>\n",
       "      <td>2016-04-29 00:00:00+00:00</td>\n",
       "      <td>62</td>\n",
       "      <td>JARDIM DA PENHA</td>\n",
       "      <td>0</td>\n",
       "      <td>1</td>\n",
       "      <td>0</td>\n",
       "      <td>0</td>\n",
       "      <td>0</td>\n",
       "      <td>0</td>\n",
       "      <td>No</td>\n",
       "    </tr>\n",
       "    <tr>\n",
       "      <th>2016-04-29 16:08:27+00:00</th>\n",
       "      <td>M</td>\n",
       "      <td>2016-04-29 00:00:00+00:00</td>\n",
       "      <td>56</td>\n",
       "      <td>JARDIM DA PENHA</td>\n",
       "      <td>0</td>\n",
       "      <td>0</td>\n",
       "      <td>0</td>\n",
       "      <td>0</td>\n",
       "      <td>0</td>\n",
       "      <td>0</td>\n",
       "      <td>No</td>\n",
       "    </tr>\n",
       "    <tr>\n",
       "      <th>2016-04-29 16:19:04+00:00</th>\n",
       "      <td>F</td>\n",
       "      <td>2016-04-29 00:00:00+00:00</td>\n",
       "      <td>62</td>\n",
       "      <td>MATA DA PRAIA</td>\n",
       "      <td>0</td>\n",
       "      <td>0</td>\n",
       "      <td>0</td>\n",
       "      <td>0</td>\n",
       "      <td>0</td>\n",
       "      <td>0</td>\n",
       "      <td>No</td>\n",
       "    </tr>\n",
       "    <tr>\n",
       "      <th>2016-04-29 17:29:31+00:00</th>\n",
       "      <td>F</td>\n",
       "      <td>2016-04-29 00:00:00+00:00</td>\n",
       "      <td>8</td>\n",
       "      <td>PONTAL DE CAMBURI</td>\n",
       "      <td>0</td>\n",
       "      <td>0</td>\n",
       "      <td>0</td>\n",
       "      <td>0</td>\n",
       "      <td>0</td>\n",
       "      <td>0</td>\n",
       "      <td>No</td>\n",
       "    </tr>\n",
       "    <tr>\n",
       "      <th>2016-04-29 16:07:23+00:00</th>\n",
       "      <td>F</td>\n",
       "      <td>2016-04-29 00:00:00+00:00</td>\n",
       "      <td>56</td>\n",
       "      <td>JARDIM DA PENHA</td>\n",
       "      <td>0</td>\n",
       "      <td>1</td>\n",
       "      <td>1</td>\n",
       "      <td>0</td>\n",
       "      <td>0</td>\n",
       "      <td>0</td>\n",
       "      <td>No</td>\n",
       "    </tr>\n",
       "  </tbody>\n",
       "</table>\n",
       "</div>"
      ],
      "text/plain": [
       "                          Gender             AppointmentDay  Age  \\\n",
       "ScheduledDay                                                       \n",
       "2016-04-29 18:38:08+00:00      F  2016-04-29 00:00:00+00:00   62   \n",
       "2016-04-29 16:08:27+00:00      M  2016-04-29 00:00:00+00:00   56   \n",
       "2016-04-29 16:19:04+00:00      F  2016-04-29 00:00:00+00:00   62   \n",
       "2016-04-29 17:29:31+00:00      F  2016-04-29 00:00:00+00:00    8   \n",
       "2016-04-29 16:07:23+00:00      F  2016-04-29 00:00:00+00:00   56   \n",
       "\n",
       "                               Neighbourhood  Scholarship  Hipertension  \\\n",
       "ScheduledDay                                                              \n",
       "2016-04-29 18:38:08+00:00    JARDIM DA PENHA            0             1   \n",
       "2016-04-29 16:08:27+00:00    JARDIM DA PENHA            0             0   \n",
       "2016-04-29 16:19:04+00:00      MATA DA PRAIA            0             0   \n",
       "2016-04-29 17:29:31+00:00  PONTAL DE CAMBURI            0             0   \n",
       "2016-04-29 16:07:23+00:00    JARDIM DA PENHA            0             1   \n",
       "\n",
       "                           Diabetes  Alcoholism  Handcap  SMS_received No-show  \n",
       "ScheduledDay                                                                    \n",
       "2016-04-29 18:38:08+00:00         0           0        0             0      No  \n",
       "2016-04-29 16:08:27+00:00         0           0        0             0      No  \n",
       "2016-04-29 16:19:04+00:00         0           0        0             0      No  \n",
       "2016-04-29 17:29:31+00:00         0           0        0             0      No  \n",
       "2016-04-29 16:07:23+00:00         1           0        0             0      No  "
      ]
     },
     "execution_count": 70,
     "metadata": {},
     "output_type": "execute_result"
    }
   ],
   "source": [
    "ts.head()"
   ]
  },
  {
   "cell_type": "code",
   "execution_count": 71,
   "id": "1ccaa43a-ac4f-42fa-a0d5-4fa0324f77cd",
   "metadata": {
    "canvas": {
     "comments": [],
     "componentType": "CodeCell",
     "copiedOriginId": null,
     "diskcache": false,
     "headerColor": "none",
     "id": "866bc01f-1314-4fe2-8994-4d3b2beac00d",
     "isComponent": false,
     "name": "",
     "parents": []
    }
   },
   "outputs": [
    {
     "data": {
      "text/html": [
       "<div>\n",
       "<style scoped>\n",
       "    .dataframe tbody tr th:only-of-type {\n",
       "        vertical-align: middle;\n",
       "    }\n",
       "\n",
       "    .dataframe tbody tr th {\n",
       "        vertical-align: top;\n",
       "    }\n",
       "\n",
       "    .dataframe thead th {\n",
       "        text-align: right;\n",
       "    }\n",
       "</style>\n",
       "<table border=\"1\" class=\"dataframe\">\n",
       "  <thead>\n",
       "    <tr style=\"text-align: right;\">\n",
       "      <th></th>\n",
       "      <th>Gender</th>\n",
       "      <th>AppointmentDay</th>\n",
       "      <th>Age</th>\n",
       "      <th>Neighbourhood</th>\n",
       "      <th>Scholarship</th>\n",
       "      <th>Hipertension</th>\n",
       "      <th>Diabetes</th>\n",
       "      <th>Alcoholism</th>\n",
       "      <th>Handcap</th>\n",
       "      <th>SMS_received</th>\n",
       "      <th>No-show</th>\n",
       "    </tr>\n",
       "    <tr>\n",
       "      <th>ScheduledDay</th>\n",
       "      <th></th>\n",
       "      <th></th>\n",
       "      <th></th>\n",
       "      <th></th>\n",
       "      <th></th>\n",
       "      <th></th>\n",
       "      <th></th>\n",
       "      <th></th>\n",
       "      <th></th>\n",
       "      <th></th>\n",
       "      <th></th>\n",
       "    </tr>\n",
       "  </thead>\n",
       "  <tbody>\n",
       "    <tr>\n",
       "      <th>2016-05-03 09:15:35+00:00</th>\n",
       "      <td>F</td>\n",
       "      <td>2016-06-07 00:00:00+00:00</td>\n",
       "      <td>56</td>\n",
       "      <td>MARIA ORTIZ</td>\n",
       "      <td>0</td>\n",
       "      <td>0</td>\n",
       "      <td>0</td>\n",
       "      <td>0</td>\n",
       "      <td>0</td>\n",
       "      <td>1</td>\n",
       "      <td>No</td>\n",
       "    </tr>\n",
       "    <tr>\n",
       "      <th>2016-05-03 07:27:33+00:00</th>\n",
       "      <td>F</td>\n",
       "      <td>2016-06-07 00:00:00+00:00</td>\n",
       "      <td>51</td>\n",
       "      <td>MARIA ORTIZ</td>\n",
       "      <td>0</td>\n",
       "      <td>0</td>\n",
       "      <td>0</td>\n",
       "      <td>0</td>\n",
       "      <td>0</td>\n",
       "      <td>1</td>\n",
       "      <td>No</td>\n",
       "    </tr>\n",
       "    <tr>\n",
       "      <th>2016-04-27 16:03:52+00:00</th>\n",
       "      <td>F</td>\n",
       "      <td>2016-06-07 00:00:00+00:00</td>\n",
       "      <td>21</td>\n",
       "      <td>MARIA ORTIZ</td>\n",
       "      <td>0</td>\n",
       "      <td>0</td>\n",
       "      <td>0</td>\n",
       "      <td>0</td>\n",
       "      <td>0</td>\n",
       "      <td>1</td>\n",
       "      <td>No</td>\n",
       "    </tr>\n",
       "    <tr>\n",
       "      <th>2016-04-27 15:09:23+00:00</th>\n",
       "      <td>F</td>\n",
       "      <td>2016-06-07 00:00:00+00:00</td>\n",
       "      <td>38</td>\n",
       "      <td>MARIA ORTIZ</td>\n",
       "      <td>0</td>\n",
       "      <td>0</td>\n",
       "      <td>0</td>\n",
       "      <td>0</td>\n",
       "      <td>0</td>\n",
       "      <td>1</td>\n",
       "      <td>No</td>\n",
       "    </tr>\n",
       "    <tr>\n",
       "      <th>2016-04-27 13:30:56+00:00</th>\n",
       "      <td>F</td>\n",
       "      <td>2016-06-07 00:00:00+00:00</td>\n",
       "      <td>54</td>\n",
       "      <td>MARIA ORTIZ</td>\n",
       "      <td>0</td>\n",
       "      <td>0</td>\n",
       "      <td>0</td>\n",
       "      <td>0</td>\n",
       "      <td>0</td>\n",
       "      <td>1</td>\n",
       "      <td>No</td>\n",
       "    </tr>\n",
       "  </tbody>\n",
       "</table>\n",
       "</div>"
      ],
      "text/plain": [
       "                          Gender             AppointmentDay  Age  \\\n",
       "ScheduledDay                                                       \n",
       "2016-05-03 09:15:35+00:00      F  2016-06-07 00:00:00+00:00   56   \n",
       "2016-05-03 07:27:33+00:00      F  2016-06-07 00:00:00+00:00   51   \n",
       "2016-04-27 16:03:52+00:00      F  2016-06-07 00:00:00+00:00   21   \n",
       "2016-04-27 15:09:23+00:00      F  2016-06-07 00:00:00+00:00   38   \n",
       "2016-04-27 13:30:56+00:00      F  2016-06-07 00:00:00+00:00   54   \n",
       "\n",
       "                          Neighbourhood  Scholarship  Hipertension  Diabetes  \\\n",
       "ScheduledDay                                                                   \n",
       "2016-05-03 09:15:35+00:00   MARIA ORTIZ            0             0         0   \n",
       "2016-05-03 07:27:33+00:00   MARIA ORTIZ            0             0         0   \n",
       "2016-04-27 16:03:52+00:00   MARIA ORTIZ            0             0         0   \n",
       "2016-04-27 15:09:23+00:00   MARIA ORTIZ            0             0         0   \n",
       "2016-04-27 13:30:56+00:00   MARIA ORTIZ            0             0         0   \n",
       "\n",
       "                           Alcoholism  Handcap  SMS_received No-show  \n",
       "ScheduledDay                                                          \n",
       "2016-05-03 09:15:35+00:00           0        0             1      No  \n",
       "2016-05-03 07:27:33+00:00           0        0             1      No  \n",
       "2016-04-27 16:03:52+00:00           0        0             1      No  \n",
       "2016-04-27 15:09:23+00:00           0        0             1      No  \n",
       "2016-04-27 13:30:56+00:00           0        0             1      No  "
      ]
     },
     "execution_count": 71,
     "metadata": {},
     "output_type": "execute_result"
    }
   ],
   "source": [
    "ts.tail()"
   ]
  },
  {
   "cell_type": "code",
   "execution_count": 72,
   "id": "a026cd60-6e2c-4594-9fca-5d5b1d6002a8",
   "metadata": {
    "canvas": {
     "comments": [],
     "componentType": "CodeCell",
     "copiedOriginId": null,
     "diskcache": false,
     "headerColor": "none",
     "id": "461d2cec-796a-4ce2-b4ab-6c52c39651ca",
     "isComponent": false,
     "name": "",
     "parents": []
    }
   },
   "outputs": [
    {
     "data": {
      "text/plain": [
       "(109892, 11)"
      ]
     },
     "execution_count": 72,
     "metadata": {},
     "output_type": "execute_result"
    }
   ],
   "source": [
    "ts.shape"
   ]
  },
  {
   "cell_type": "code",
   "execution_count": 73,
   "id": "af870355-8673-4140-8f73-c5db9b763a32",
   "metadata": {
    "canvas": {
     "comments": [],
     "componentType": "CodeCell",
     "copiedOriginId": null,
     "diskcache": false,
     "headerColor": "none",
     "id": "dc6d60c6-0af8-48bb-a18c-504a586a9811",
     "isComponent": false,
     "name": "",
     "parents": []
    }
   },
   "outputs": [
    {
     "data": {
      "text/plain": [
       "{'No', 'Yes'}"
      ]
     },
     "execution_count": 73,
     "metadata": {},
     "output_type": "execute_result"
    }
   ],
   "source": [
    "set(ts[\"No-show\"])"
   ]
  },
  {
   "cell_type": "code",
   "execution_count": 74,
   "id": "18d135de-fa13-4f6c-97ec-9330fa513f95",
   "metadata": {
    "canvas": {
     "comments": [],
     "componentType": "CodeCell",
     "copiedOriginId": null,
     "diskcache": false,
     "headerColor": "none",
     "id": "2a918300-a4b3-48ed-8015-56ce295253ea",
     "isComponent": false,
     "name": "",
     "parents": []
    }
   },
   "outputs": [],
   "source": [
    "ts.replace([\"No\", \"Yes\"], [1, 0], inplace=True)"
   ]
  },
  {
   "cell_type": "code",
   "execution_count": 75,
   "id": "fba125bf-bb3d-4895-b8a6-a345b11e3732",
   "metadata": {
    "canvas": {
     "comments": [],
     "componentType": "CodeCell",
     "copiedOriginId": null,
     "diskcache": false,
     "headerColor": "none",
     "id": "4c063873-a271-488a-8bcd-3edaeca7f6fb",
     "isComponent": false,
     "name": "",
     "parents": []
    }
   },
   "outputs": [
    {
     "data": {
      "text/plain": [
       "{0, 1}"
      ]
     },
     "execution_count": 75,
     "metadata": {},
     "output_type": "execute_result"
    }
   ],
   "source": [
    "set(ts[\"No-show\"])"
   ]
  },
  {
   "cell_type": "markdown",
   "id": "16151f1f-1ed2-4cf1-add3-b5c8281c575f",
   "metadata": {
    "canvas": {
     "comments": [],
     "componentType": "CodeCell",
     "copiedOriginId": null,
     "diskcache": false,
     "headerColor": "none",
     "id": "67d2d3ea-40d9-4242-8c27-68d7cb5f44c3",
     "isComponent": false,
     "name": "",
     "parents": []
    }
   },
   "source": [
    "## Time Series"
   ]
  },
  {
   "cell_type": "code",
   "execution_count": 76,
   "id": "4115fc2b-587d-474f-9e99-f1e0aef244b6",
   "metadata": {
    "canvas": {
     "comments": [],
     "componentType": "CodeCell",
     "copiedOriginId": null,
     "diskcache": false,
     "headerColor": "none",
     "id": "9236e4ab-707d-44ca-98f3-917affddafd2",
     "isComponent": true,
     "name": "Time_series",
     "parents": [
      {
       "id": "45bdcec2-3029-4f27-924a-24f1ea4df3d1",
       "name": "EDA"
      }
     ]
    },
    "tags": []
   },
   "outputs": [
    {
     "data": {
      "image/png": "[encoded data removed]",
      "text/plain": [
       "<Figure size 504x360 with 1 Axes>"
      ]
     },
     "metadata": {
      "needs_background": "light"
     },
     "output_type": "display_data"
    }
   ],
   "source": [
    "plt.figure(figsize=(7, 5))\n",
    "ts.loc['2016', 'Scholarship'].resample('M').mean().plot(label='average per montn', lw=3, ls=':', alpha=0.8)\n",
    "ts.loc['2016', 'Scholarship'].resample('W').mean().plot(label='average per week', lw=2, ls='--', alpha=0.8)\n",
    "ts.loc['2016', 'Scholarship'].resample('D').mean().plot(label='average per day', lw=3, ls=':', alpha=0.8)\n",
    "ts.loc['2016', 'Scholarship'].resample('M').std().plot(label='std per month', lw=2, ls='--', alpha=0.8)\n",
    "ts.loc['2016', 'Scholarship'].resample('W').std().plot(label='std per week', lw=2, ls='--', alpha=0.8)\n",
    "plt.title(\"Scholarship - ScheduledDay \")\n",
    "plt.legend()\n",
    "plt.show()"
   ]
  },
  {
   "cell_type": "code",
   "execution_count": 77,
   "id": "9ae1e003-f891-4804-b29b-984193c040ff",
   "metadata": {
    "canvas": {
     "comments": [],
     "componentType": "CodeCell",
     "copiedOriginId": null,
     "diskcache": false,
     "headerColor": "none",
     "id": "16b41fdf-5cfc-4308-a8a4-c4d0afed9fce",
     "isComponent": false,
     "name": "",
     "parents": []
    }
   },
   "outputs": [
    {
     "data": {
      "text/html": [
       "<div>\n",
       "<style scoped>\n",
       "    .dataframe tbody tr th:only-of-type {\n",
       "        vertical-align: middle;\n",
       "    }\n",
       "\n",
       "    .dataframe tbody tr th {\n",
       "        vertical-align: top;\n",
       "    }\n",
       "\n",
       "    .dataframe thead th {\n",
       "        text-align: right;\n",
       "    }\n",
       "</style>\n",
       "<table border=\"1\" class=\"dataframe\">\n",
       "  <thead>\n",
       "    <tr style=\"text-align: right;\">\n",
       "      <th></th>\n",
       "      <th>mean</th>\n",
       "      <th>std</th>\n",
       "      <th>min</th>\n",
       "      <th>max</th>\n",
       "    </tr>\n",
       "    <tr>\n",
       "      <th>ScheduledDay</th>\n",
       "      <th></th>\n",
       "      <th></th>\n",
       "      <th></th>\n",
       "      <th></th>\n",
       "    </tr>\n",
       "  </thead>\n",
       "  <tbody>\n",
       "    <tr>\n",
       "      <th>2016-01-31 00:00:00+00:00</th>\n",
       "      <td>0.066667</td>\n",
       "      <td>0.251549</td>\n",
       "      <td>0</td>\n",
       "      <td>1</td>\n",
       "    </tr>\n",
       "    <tr>\n",
       "      <th>2016-02-29 00:00:00+00:00</th>\n",
       "      <td>0.039286</td>\n",
       "      <td>0.194622</td>\n",
       "      <td>0</td>\n",
       "      <td>1</td>\n",
       "    </tr>\n",
       "    <tr>\n",
       "      <th>2016-03-31 00:00:00+00:00</th>\n",
       "      <td>0.057558</td>\n",
       "      <td>0.232938</td>\n",
       "      <td>0</td>\n",
       "      <td>1</td>\n",
       "    </tr>\n",
       "    <tr>\n",
       "      <th>2016-04-30 00:00:00+00:00</th>\n",
       "      <td>0.099005</td>\n",
       "      <td>0.298674</td>\n",
       "      <td>0</td>\n",
       "      <td>1</td>\n",
       "    </tr>\n",
       "    <tr>\n",
       "      <th>2016-05-31 00:00:00+00:00</th>\n",
       "      <td>0.099442</td>\n",
       "      <td>0.299257</td>\n",
       "      <td>0</td>\n",
       "      <td>1</td>\n",
       "    </tr>\n",
       "    <tr>\n",
       "      <th>2016-06-30 00:00:00+00:00</th>\n",
       "      <td>0.103375</td>\n",
       "      <td>0.304460</td>\n",
       "      <td>0</td>\n",
       "      <td>1</td>\n",
       "    </tr>\n",
       "  </tbody>\n",
       "</table>\n",
       "</div>"
      ],
      "text/plain": [
       "                               mean       std  min  max\n",
       "ScheduledDay                                           \n",
       "2016-01-31 00:00:00+00:00  0.066667  0.251549    0    1\n",
       "2016-02-29 00:00:00+00:00  0.039286  0.194622    0    1\n",
       "2016-03-31 00:00:00+00:00  0.057558  0.232938    0    1\n",
       "2016-04-30 00:00:00+00:00  0.099005  0.298674    0    1\n",
       "2016-05-31 00:00:00+00:00  0.099442  0.299257    0    1\n",
       "2016-06-30 00:00:00+00:00  0.103375  0.304460    0    1"
      ]
     },
     "execution_count": 77,
     "metadata": {},
     "output_type": "execute_result"
    }
   ],
   "source": [
    "ts.loc['2016', 'Scholarship'].resample('M').agg(['mean', 'std', 'min', 'max'])"
   ]
  },
  {
   "cell_type": "code",
   "execution_count": 78,
   "id": "6f0aba5b-dac3-4776-a182-07aa35b7c9dd",
   "metadata": {
    "canvas": {
     "comments": [],
     "componentType": "CodeCell",
     "copiedOriginId": null,
     "diskcache": false,
     "headerColor": "none",
     "id": "bdf3a050-24a3-4d03-9ecd-2c8abf89fcc7",
     "isComponent": false,
     "name": "",
     "parents": []
    }
   },
   "outputs": [
    {
     "data": {
      "text/html": [
       "<div>\n",
       "<style scoped>\n",
       "    .dataframe tbody tr th:only-of-type {\n",
       "        vertical-align: middle;\n",
       "    }\n",
       "\n",
       "    .dataframe tbody tr th {\n",
       "        vertical-align: top;\n",
       "    }\n",
       "\n",
       "    .dataframe thead th {\n",
       "        text-align: right;\n",
       "    }\n",
       "</style>\n",
       "<table border=\"1\" class=\"dataframe\">\n",
       "  <thead>\n",
       "    <tr style=\"text-align: right;\">\n",
       "      <th></th>\n",
       "      <th>mean</th>\n",
       "      <th>std</th>\n",
       "      <th>min</th>\n",
       "      <th>max</th>\n",
       "    </tr>\n",
       "    <tr>\n",
       "      <th>ScheduledDay</th>\n",
       "      <th></th>\n",
       "      <th></th>\n",
       "      <th></th>\n",
       "      <th></th>\n",
       "    </tr>\n",
       "  </thead>\n",
       "  <tbody>\n",
       "    <tr>\n",
       "      <th>2016-01-10 00:00:00+00:00</th>\n",
       "      <td>0.111111</td>\n",
       "      <td>0.323381</td>\n",
       "      <td>0</td>\n",
       "      <td>1</td>\n",
       "    </tr>\n",
       "    <tr>\n",
       "      <th>2016-01-17 00:00:00+00:00</th>\n",
       "      <td>0.090909</td>\n",
       "      <td>0.301511</td>\n",
       "      <td>0</td>\n",
       "      <td>1</td>\n",
       "    </tr>\n",
       "    <tr>\n",
       "      <th>2016-01-24 00:00:00+00:00</th>\n",
       "      <td>0.000000</td>\n",
       "      <td>0.000000</td>\n",
       "      <td>0</td>\n",
       "      <td>0</td>\n",
       "    </tr>\n",
       "    <tr>\n",
       "      <th>2016-01-31 00:00:00+00:00</th>\n",
       "      <td>0.052632</td>\n",
       "      <td>0.229416</td>\n",
       "      <td>0</td>\n",
       "      <td>1</td>\n",
       "    </tr>\n",
       "    <tr>\n",
       "      <th>2016-02-07 00:00:00+00:00</th>\n",
       "      <td>0.055556</td>\n",
       "      <td>0.232311</td>\n",
       "      <td>0</td>\n",
       "      <td>1</td>\n",
       "    </tr>\n",
       "    <tr>\n",
       "      <th>2016-02-14 00:00:00+00:00</th>\n",
       "      <td>0.000000</td>\n",
       "      <td>0.000000</td>\n",
       "      <td>0</td>\n",
       "      <td>0</td>\n",
       "    </tr>\n",
       "    <tr>\n",
       "      <th>2016-02-21 00:00:00+00:00</th>\n",
       "      <td>0.064516</td>\n",
       "      <td>0.247676</td>\n",
       "      <td>0</td>\n",
       "      <td>1</td>\n",
       "    </tr>\n",
       "    <tr>\n",
       "      <th>2016-02-28 00:00:00+00:00</th>\n",
       "      <td>0.031008</td>\n",
       "      <td>0.174014</td>\n",
       "      <td>0</td>\n",
       "      <td>1</td>\n",
       "    </tr>\n",
       "    <tr>\n",
       "      <th>2016-03-06 00:00:00+00:00</th>\n",
       "      <td>0.025727</td>\n",
       "      <td>0.158409</td>\n",
       "      <td>0</td>\n",
       "      <td>1</td>\n",
       "    </tr>\n",
       "    <tr>\n",
       "      <th>2016-03-13 00:00:00+00:00</th>\n",
       "      <td>0.064767</td>\n",
       "      <td>0.246433</td>\n",
       "      <td>0</td>\n",
       "      <td>1</td>\n",
       "    </tr>\n",
       "    <tr>\n",
       "      <th>2016-03-20 00:00:00+00:00</th>\n",
       "      <td>0.057018</td>\n",
       "      <td>0.232046</td>\n",
       "      <td>0</td>\n",
       "      <td>1</td>\n",
       "    </tr>\n",
       "    <tr>\n",
       "      <th>2016-03-27 00:00:00+00:00</th>\n",
       "      <td>0.053407</td>\n",
       "      <td>0.225051</td>\n",
       "      <td>0</td>\n",
       "      <td>1</td>\n",
       "    </tr>\n",
       "    <tr>\n",
       "      <th>2016-04-03 00:00:00+00:00</th>\n",
       "      <td>0.070046</td>\n",
       "      <td>0.255296</td>\n",
       "      <td>0</td>\n",
       "      <td>1</td>\n",
       "    </tr>\n",
       "    <tr>\n",
       "      <th>2016-04-10 00:00:00+00:00</th>\n",
       "      <td>0.079131</td>\n",
       "      <td>0.269998</td>\n",
       "      <td>0</td>\n",
       "      <td>1</td>\n",
       "    </tr>\n",
       "    <tr>\n",
       "      <th>2016-04-17 00:00:00+00:00</th>\n",
       "      <td>0.086174</td>\n",
       "      <td>0.280654</td>\n",
       "      <td>0</td>\n",
       "      <td>1</td>\n",
       "    </tr>\n",
       "    <tr>\n",
       "      <th>2016-04-24 00:00:00+00:00</th>\n",
       "      <td>0.100022</td>\n",
       "      <td>0.300062</td>\n",
       "      <td>0</td>\n",
       "      <td>1</td>\n",
       "    </tr>\n",
       "    <tr>\n",
       "      <th>2016-05-01 00:00:00+00:00</th>\n",
       "      <td>0.108866</td>\n",
       "      <td>0.311483</td>\n",
       "      <td>0</td>\n",
       "      <td>1</td>\n",
       "    </tr>\n",
       "    <tr>\n",
       "      <th>2016-05-08 00:00:00+00:00</th>\n",
       "      <td>0.100726</td>\n",
       "      <td>0.300973</td>\n",
       "      <td>0</td>\n",
       "      <td>1</td>\n",
       "    </tr>\n",
       "    <tr>\n",
       "      <th>2016-05-15 00:00:00+00:00</th>\n",
       "      <td>0.097976</td>\n",
       "      <td>0.297290</td>\n",
       "      <td>0</td>\n",
       "      <td>1</td>\n",
       "    </tr>\n",
       "    <tr>\n",
       "      <th>2016-05-22 00:00:00+00:00</th>\n",
       "      <td>0.097921</td>\n",
       "      <td>0.297217</td>\n",
       "      <td>0</td>\n",
       "      <td>1</td>\n",
       "    </tr>\n",
       "    <tr>\n",
       "      <th>2016-05-29 00:00:00+00:00</th>\n",
       "      <td>0.099778</td>\n",
       "      <td>0.299728</td>\n",
       "      <td>0</td>\n",
       "      <td>1</td>\n",
       "    </tr>\n",
       "    <tr>\n",
       "      <th>2016-06-05 00:00:00+00:00</th>\n",
       "      <td>0.102413</td>\n",
       "      <td>0.303202</td>\n",
       "      <td>0</td>\n",
       "      <td>1</td>\n",
       "    </tr>\n",
       "    <tr>\n",
       "      <th>2016-06-12 00:00:00+00:00</th>\n",
       "      <td>0.105891</td>\n",
       "      <td>0.307725</td>\n",
       "      <td>0</td>\n",
       "      <td>1</td>\n",
       "    </tr>\n",
       "  </tbody>\n",
       "</table>\n",
       "</div>"
      ],
      "text/plain": [
       "                               mean       std  min  max\n",
       "ScheduledDay                                           \n",
       "2016-01-10 00:00:00+00:00  0.111111  0.323381    0    1\n",
       "2016-01-17 00:00:00+00:00  0.090909  0.301511    0    1\n",
       "2016-01-24 00:00:00+00:00  0.000000  0.000000    0    0\n",
       "2016-01-31 00:00:00+00:00  0.052632  0.229416    0    1\n",
       "2016-02-07 00:00:00+00:00  0.055556  0.232311    0    1\n",
       "2016-02-14 00:00:00+00:00  0.000000  0.000000    0    0\n",
       "2016-02-21 00:00:00+00:00  0.064516  0.247676    0    1\n",
       "2016-02-28 00:00:00+00:00  0.031008  0.174014    0    1\n",
       "2016-03-06 00:00:00+00:00  0.025727  0.158409    0    1\n",
       "2016-03-13 00:00:00+00:00  0.064767  0.246433    0    1\n",
       "2016-03-20 00:00:00+00:00  0.057018  0.232046    0    1\n",
       "2016-03-27 00:00:00+00:00  0.053407  0.225051    0    1\n",
       "2016-04-03 00:00:00+00:00  0.070046  0.255296    0    1\n",
       "2016-04-10 00:00:00+00:00  0.079131  0.269998    0    1\n",
       "2016-04-17 00:00:00+00:00  0.086174  0.280654    0    1\n",
       "2016-04-24 00:00:00+00:00  0.100022  0.300062    0    1\n",
       "2016-05-01 00:00:00+00:00  0.108866  0.311483    0    1\n",
       "2016-05-08 00:00:00+00:00  0.100726  0.300973    0    1\n",
       "2016-05-15 00:00:00+00:00  0.097976  0.297290    0    1\n",
       "2016-05-22 00:00:00+00:00  0.097921  0.297217    0    1\n",
       "2016-05-29 00:00:00+00:00  0.099778  0.299728    0    1\n",
       "2016-06-05 00:00:00+00:00  0.102413  0.303202    0    1\n",
       "2016-06-12 00:00:00+00:00  0.105891  0.307725    0    1"
      ]
     },
     "execution_count": 78,
     "metadata": {},
     "output_type": "execute_result"
    }
   ],
   "source": [
    "ts.loc['2016', 'Scholarship'].resample('W').agg(['mean', 'std', 'min', 'max'])"
   ]
  },
  {
   "cell_type": "code",
   "execution_count": 79,
   "id": "bb8e4ea4-a83a-492a-82f6-7a1ce56d7b02",
   "metadata": {
    "canvas": {
     "comments": [],
     "componentType": "CodeCell",
     "copiedOriginId": null,
     "diskcache": false,
     "headerColor": "none",
     "id": "d30528f2-3cbe-421d-9ec0-cf631a3ce592",
     "isComponent": false,
     "name": "",
     "parents": []
    }
   },
   "outputs": [
    {
     "data": {
      "image/png": "[encoded data removed]",
      "text/plain": [
       "<Figure size 504x360 with 1 Axes>"
      ]
     },
     "metadata": {
      "needs_background": "light"
     },
     "output_type": "display_data"
    }
   ],
   "source": [
    "plt.figure(figsize=(7, 5))\n",
    "ts.loc['2016', 'Hipertension'].resample('M').mean().plot(label='average per month', lw=3, ls=':', alpha=0.8)\n",
    "ts.loc['2016', 'Hipertension'].resample('W').mean().plot(label='average per week', lw=2, ls='--', alpha=0.8)\n",
    "ts.loc['2016', 'Hipertension'].resample('D').mean().plot(label='average per day', lw=3, ls=':', alpha=0.8)\n",
    "ts.loc['2016', 'Hipertension'].resample('M').std().plot(label='std per month', lw=2, ls='--', alpha=0.8)\n",
    "ts.loc['2016', 'Hipertension'].resample('W').std().plot(label='std per week', lw=2, ls='--', alpha=0.8)\n",
    "plt.title(\"Hipertension - ScheduledDay \")\n",
    "plt.legend()\n",
    "plt.show()"
   ]
  },
  {
   "cell_type": "code",
   "execution_count": 80,
   "id": "bfdada58-ab45-4fa4-90fd-47a00700b4ab",
   "metadata": {
    "canvas": {
     "comments": [],
     "componentType": "CodeCell",
     "copiedOriginId": null,
     "diskcache": false,
     "headerColor": "none",
     "id": "a51d1eea-9b45-4846-8373-ce27671e4b02",
     "isComponent": false,
     "name": "",
     "parents": []
    }
   },
   "outputs": [
    {
     "data": {
      "text/html": [
       "<div>\n",
       "<style scoped>\n",
       "    .dataframe tbody tr th:only-of-type {\n",
       "        vertical-align: middle;\n",
       "    }\n",
       "\n",
       "    .dataframe tbody tr th {\n",
       "        vertical-align: top;\n",
       "    }\n",
       "\n",
       "    .dataframe thead th {\n",
       "        text-align: right;\n",
       "    }\n",
       "</style>\n",
       "<table border=\"1\" class=\"dataframe\">\n",
       "  <thead>\n",
       "    <tr style=\"text-align: right;\">\n",
       "      <th></th>\n",
       "      <th>mean</th>\n",
       "      <th>std</th>\n",
       "      <th>min</th>\n",
       "      <th>max</th>\n",
       "    </tr>\n",
       "    <tr>\n",
       "      <th>ScheduledDay</th>\n",
       "      <th></th>\n",
       "      <th></th>\n",
       "      <th></th>\n",
       "      <th></th>\n",
       "    </tr>\n",
       "  </thead>\n",
       "  <tbody>\n",
       "    <tr>\n",
       "      <th>2016-01-31 00:00:00+00:00</th>\n",
       "      <td>0.516667</td>\n",
       "      <td>0.503939</td>\n",
       "      <td>0</td>\n",
       "      <td>1</td>\n",
       "    </tr>\n",
       "    <tr>\n",
       "      <th>2016-02-29 00:00:00+00:00</th>\n",
       "      <td>0.310714</td>\n",
       "      <td>0.463615</td>\n",
       "      <td>0</td>\n",
       "      <td>1</td>\n",
       "    </tr>\n",
       "    <tr>\n",
       "      <th>2016-03-31 00:00:00+00:00</th>\n",
       "      <td>0.169321</td>\n",
       "      <td>0.375088</td>\n",
       "      <td>0</td>\n",
       "      <td>1</td>\n",
       "    </tr>\n",
       "    <tr>\n",
       "      <th>2016-04-30 00:00:00+00:00</th>\n",
       "      <td>0.179817</td>\n",
       "      <td>0.384042</td>\n",
       "      <td>0</td>\n",
       "      <td>1</td>\n",
       "    </tr>\n",
       "    <tr>\n",
       "      <th>2016-05-31 00:00:00+00:00</th>\n",
       "      <td>0.203059</td>\n",
       "      <td>0.402279</td>\n",
       "      <td>0</td>\n",
       "      <td>1</td>\n",
       "    </tr>\n",
       "    <tr>\n",
       "      <th>2016-06-30 00:00:00+00:00</th>\n",
       "      <td>0.201648</td>\n",
       "      <td>0.401245</td>\n",
       "      <td>0</td>\n",
       "      <td>1</td>\n",
       "    </tr>\n",
       "  </tbody>\n",
       "</table>\n",
       "</div>"
      ],
      "text/plain": [
       "                               mean       std  min  max\n",
       "ScheduledDay                                           \n",
       "2016-01-31 00:00:00+00:00  0.516667  0.503939    0    1\n",
       "2016-02-29 00:00:00+00:00  0.310714  0.463615    0    1\n",
       "2016-03-31 00:00:00+00:00  0.169321  0.375088    0    1\n",
       "2016-04-30 00:00:00+00:00  0.179817  0.384042    0    1\n",
       "2016-05-31 00:00:00+00:00  0.203059  0.402279    0    1\n",
       "2016-06-30 00:00:00+00:00  0.201648  0.401245    0    1"
      ]
     },
     "execution_count": 80,
     "metadata": {},
     "output_type": "execute_result"
    }
   ],
   "source": [
    "ts.loc['2016', 'Hipertension'].resample('M').agg(['mean', 'std', 'min', 'max'])"
   ]
  },
  {
   "cell_type": "code",
   "execution_count": 81,
   "id": "8cbf0e36-a4ff-474b-be7f-31c2604b4318",
   "metadata": {
    "canvas": {
     "comments": [],
     "componentType": "CodeCell",
     "copiedOriginId": null,
     "diskcache": false,
     "headerColor": "none",
     "id": "0ceaee4a-87cf-4934-a762-9ca21f7f0a42",
     "isComponent": false,
     "name": "",
     "parents": []
    }
   },
   "outputs": [
    {
     "data": {
      "text/html": [
       "<div>\n",
       "<style scoped>\n",
       "    .dataframe tbody tr th:only-of-type {\n",
       "        vertical-align: middle;\n",
       "    }\n",
       "\n",
       "    .dataframe tbody tr th {\n",
       "        vertical-align: top;\n",
       "    }\n",
       "\n",
       "    .dataframe thead th {\n",
       "        text-align: right;\n",
       "    }\n",
       "</style>\n",
       "<table border=\"1\" class=\"dataframe\">\n",
       "  <thead>\n",
       "    <tr style=\"text-align: right;\">\n",
       "      <th></th>\n",
       "      <th>mean</th>\n",
       "      <th>std</th>\n",
       "      <th>min</th>\n",
       "      <th>max</th>\n",
       "    </tr>\n",
       "    <tr>\n",
       "      <th>ScheduledDay</th>\n",
       "      <th></th>\n",
       "      <th></th>\n",
       "      <th></th>\n",
       "      <th></th>\n",
       "    </tr>\n",
       "  </thead>\n",
       "  <tbody>\n",
       "    <tr>\n",
       "      <th>2016-01-10 00:00:00+00:00</th>\n",
       "      <td>0.611111</td>\n",
       "      <td>0.501631</td>\n",
       "      <td>0</td>\n",
       "      <td>1</td>\n",
       "    </tr>\n",
       "    <tr>\n",
       "      <th>2016-01-17 00:00:00+00:00</th>\n",
       "      <td>0.636364</td>\n",
       "      <td>0.504525</td>\n",
       "      <td>0</td>\n",
       "      <td>1</td>\n",
       "    </tr>\n",
       "    <tr>\n",
       "      <th>2016-01-24 00:00:00+00:00</th>\n",
       "      <td>0.583333</td>\n",
       "      <td>0.514929</td>\n",
       "      <td>0</td>\n",
       "      <td>1</td>\n",
       "    </tr>\n",
       "    <tr>\n",
       "      <th>2016-01-31 00:00:00+00:00</th>\n",
       "      <td>0.315789</td>\n",
       "      <td>0.477567</td>\n",
       "      <td>0</td>\n",
       "      <td>1</td>\n",
       "    </tr>\n",
       "    <tr>\n",
       "      <th>2016-02-07 00:00:00+00:00</th>\n",
       "      <td>0.555556</td>\n",
       "      <td>0.503953</td>\n",
       "      <td>0</td>\n",
       "      <td>1</td>\n",
       "    </tr>\n",
       "    <tr>\n",
       "      <th>2016-02-14 00:00:00+00:00</th>\n",
       "      <td>0.391304</td>\n",
       "      <td>0.499011</td>\n",
       "      <td>0</td>\n",
       "      <td>1</td>\n",
       "    </tr>\n",
       "    <tr>\n",
       "      <th>2016-02-21 00:00:00+00:00</th>\n",
       "      <td>0.354839</td>\n",
       "      <td>0.482370</td>\n",
       "      <td>0</td>\n",
       "      <td>1</td>\n",
       "    </tr>\n",
       "    <tr>\n",
       "      <th>2016-02-28 00:00:00+00:00</th>\n",
       "      <td>0.232558</td>\n",
       "      <td>0.424110</td>\n",
       "      <td>0</td>\n",
       "      <td>1</td>\n",
       "    </tr>\n",
       "    <tr>\n",
       "      <th>2016-03-06 00:00:00+00:00</th>\n",
       "      <td>0.142058</td>\n",
       "      <td>0.349305</td>\n",
       "      <td>0</td>\n",
       "      <td>1</td>\n",
       "    </tr>\n",
       "    <tr>\n",
       "      <th>2016-03-13 00:00:00+00:00</th>\n",
       "      <td>0.207254</td>\n",
       "      <td>0.405865</td>\n",
       "      <td>0</td>\n",
       "      <td>1</td>\n",
       "    </tr>\n",
       "    <tr>\n",
       "      <th>2016-03-20 00:00:00+00:00</th>\n",
       "      <td>0.211988</td>\n",
       "      <td>0.409016</td>\n",
       "      <td>0</td>\n",
       "      <td>1</td>\n",
       "    </tr>\n",
       "    <tr>\n",
       "      <th>2016-03-27 00:00:00+00:00</th>\n",
       "      <td>0.154696</td>\n",
       "      <td>0.361948</td>\n",
       "      <td>0</td>\n",
       "      <td>1</td>\n",
       "    </tr>\n",
       "    <tr>\n",
       "      <th>2016-04-03 00:00:00+00:00</th>\n",
       "      <td>0.138952</td>\n",
       "      <td>0.345995</td>\n",
       "      <td>0</td>\n",
       "      <td>1</td>\n",
       "    </tr>\n",
       "    <tr>\n",
       "      <th>2016-04-10 00:00:00+00:00</th>\n",
       "      <td>0.146781</td>\n",
       "      <td>0.353961</td>\n",
       "      <td>0</td>\n",
       "      <td>1</td>\n",
       "    </tr>\n",
       "    <tr>\n",
       "      <th>2016-04-17 00:00:00+00:00</th>\n",
       "      <td>0.165483</td>\n",
       "      <td>0.371660</td>\n",
       "      <td>0</td>\n",
       "      <td>1</td>\n",
       "    </tr>\n",
       "    <tr>\n",
       "      <th>2016-04-24 00:00:00+00:00</th>\n",
       "      <td>0.174267</td>\n",
       "      <td>0.379381</td>\n",
       "      <td>0</td>\n",
       "      <td>1</td>\n",
       "    </tr>\n",
       "    <tr>\n",
       "      <th>2016-05-01 00:00:00+00:00</th>\n",
       "      <td>0.196095</td>\n",
       "      <td>0.397056</td>\n",
       "      <td>0</td>\n",
       "      <td>1</td>\n",
       "    </tr>\n",
       "    <tr>\n",
       "      <th>2016-05-08 00:00:00+00:00</th>\n",
       "      <td>0.203100</td>\n",
       "      <td>0.402317</td>\n",
       "      <td>0</td>\n",
       "      <td>1</td>\n",
       "    </tr>\n",
       "    <tr>\n",
       "      <th>2016-05-15 00:00:00+00:00</th>\n",
       "      <td>0.201862</td>\n",
       "      <td>0.401401</td>\n",
       "      <td>0</td>\n",
       "      <td>1</td>\n",
       "    </tr>\n",
       "    <tr>\n",
       "      <th>2016-05-22 00:00:00+00:00</th>\n",
       "      <td>0.200339</td>\n",
       "      <td>0.400265</td>\n",
       "      <td>0</td>\n",
       "      <td>1</td>\n",
       "    </tr>\n",
       "    <tr>\n",
       "      <th>2016-05-29 00:00:00+00:00</th>\n",
       "      <td>0.213811</td>\n",
       "      <td>0.410027</td>\n",
       "      <td>0</td>\n",
       "      <td>1</td>\n",
       "    </tr>\n",
       "    <tr>\n",
       "      <th>2016-06-05 00:00:00+00:00</th>\n",
       "      <td>0.205666</td>\n",
       "      <td>0.404202</td>\n",
       "      <td>0</td>\n",
       "      <td>1</td>\n",
       "    </tr>\n",
       "    <tr>\n",
       "      <th>2016-06-12 00:00:00+00:00</th>\n",
       "      <td>0.193022</td>\n",
       "      <td>0.394705</td>\n",
       "      <td>0</td>\n",
       "      <td>1</td>\n",
       "    </tr>\n",
       "  </tbody>\n",
       "</table>\n",
       "</div>"
      ],
      "text/plain": [
       "                               mean       std  min  max\n",
       "ScheduledDay                                           \n",
       "2016-01-10 00:00:00+00:00  0.611111  0.501631    0    1\n",
       "2016-01-17 00:00:00+00:00  0.636364  0.504525    0    1\n",
       "2016-01-24 00:00:00+00:00  0.583333  0.514929    0    1\n",
       "2016-01-31 00:00:00+00:00  0.315789  0.477567    0    1\n",
       "2016-02-07 00:00:00+00:00  0.555556  0.503953    0    1\n",
       "2016-02-14 00:00:00+00:00  0.391304  0.499011    0    1\n",
       "2016-02-21 00:00:00+00:00  0.354839  0.482370    0    1\n",
       "2016-02-28 00:00:00+00:00  0.232558  0.424110    0    1\n",
       "2016-03-06 00:00:00+00:00  0.142058  0.349305    0    1\n",
       "2016-03-13 00:00:00+00:00  0.207254  0.405865    0    1\n",
       "2016-03-20 00:00:00+00:00  0.211988  0.409016    0    1\n",
       "2016-03-27 00:00:00+00:00  0.154696  0.361948    0    1\n",
       "2016-04-03 00:00:00+00:00  0.138952  0.345995    0    1\n",
       "2016-04-10 00:00:00+00:00  0.146781  0.353961    0    1\n",
       "2016-04-17 00:00:00+00:00  0.165483  0.371660    0    1\n",
       "2016-04-24 00:00:00+00:00  0.174267  0.379381    0    1\n",
       "2016-05-01 00:00:00+00:00  0.196095  0.397056    0    1\n",
       "2016-05-08 00:00:00+00:00  0.203100  0.402317    0    1\n",
       "2016-05-15 00:00:00+00:00  0.201862  0.401401    0    1\n",
       "2016-05-22 00:00:00+00:00  0.200339  0.400265    0    1\n",
       "2016-05-29 00:00:00+00:00  0.213811  0.410027    0    1\n",
       "2016-06-05 00:00:00+00:00  0.205666  0.404202    0    1\n",
       "2016-06-12 00:00:00+00:00  0.193022  0.394705    0    1"
      ]
     },
     "execution_count": 81,
     "metadata": {},
     "output_type": "execute_result"
    }
   ],
   "source": [
    "ts.loc['2016', 'Hipertension'].resample('W').agg(['mean', 'std', 'min', 'max'])"
   ]
  },
  {
   "cell_type": "code",
   "execution_count": 82,
   "id": "3089b39e-41f1-456e-b7e2-125a9b7bf2b6",
   "metadata": {
    "canvas": {
     "comments": [],
     "componentType": "CodeCell",
     "copiedOriginId": null,
     "diskcache": false,
     "headerColor": "none",
     "id": "14f2e5df-55ea-4a5f-b7c5-00434fe42131",
     "isComponent": false,
     "name": "",
     "parents": []
    }
   },
   "outputs": [
    {
     "data": {
      "image/png": "[encoded data removed]",
      "text/plain": [
       "<Figure size 504x360 with 1 Axes>"
      ]
     },
     "metadata": {
      "needs_background": "light"
     },
     "output_type": "display_data"
    }
   ],
   "source": [
    "plt.figure(figsize=(7, 5))\n",
    "ts.loc['2016', 'Diabetes'].resample('M').mean().plot(label='average per month', lw=3, ls=':', alpha=0.8)\n",
    "ts.loc['2016', 'Diabetes'].resample('W').mean().plot(label='average per week', lw=2, ls='--', alpha=0.8)\n",
    "ts.loc['2016', 'Diabetes'].resample('D').mean().plot(label='average per day', lw=3, ls=':', alpha=0.8)\n",
    "ts.loc['2016', 'Diabetes'].resample('M').std().plot(label='std per month', lw=2, ls='--', alpha=0.8)\n",
    "ts.loc['2016', 'Diabetes'].resample('W').std().plot(label='std per week', lw=2, ls='--', alpha=0.8)\n",
    "plt.title(\"Diabetes - ScheduledDay \")\n",
    "plt.legend()\n",
    "plt.show()"
   ]
  },
  {
   "cell_type": "code",
   "execution_count": 83,
   "id": "ad18141d-a880-4a1c-8109-1555e9537a4c",
   "metadata": {
    "canvas": {
     "comments": [],
     "componentType": "CodeCell",
     "copiedOriginId": null,
     "diskcache": false,
     "headerColor": "none",
     "id": "a0ea9131-d17c-4317-adc6-e8edfa38d83c",
     "isComponent": false,
     "name": "",
     "parents": []
    }
   },
   "outputs": [
    {
     "data": {
      "text/html": [
       "<div>\n",
       "<style scoped>\n",
       "    .dataframe tbody tr th:only-of-type {\n",
       "        vertical-align: middle;\n",
       "    }\n",
       "\n",
       "    .dataframe tbody tr th {\n",
       "        vertical-align: top;\n",
       "    }\n",
       "\n",
       "    .dataframe thead th {\n",
       "        text-align: right;\n",
       "    }\n",
       "</style>\n",
       "<table border=\"1\" class=\"dataframe\">\n",
       "  <thead>\n",
       "    <tr style=\"text-align: right;\">\n",
       "      <th></th>\n",
       "      <th>mean</th>\n",
       "      <th>std</th>\n",
       "      <th>min</th>\n",
       "      <th>max</th>\n",
       "    </tr>\n",
       "    <tr>\n",
       "      <th>ScheduledDay</th>\n",
       "      <th></th>\n",
       "      <th></th>\n",
       "      <th></th>\n",
       "      <th></th>\n",
       "    </tr>\n",
       "  </thead>\n",
       "  <tbody>\n",
       "    <tr>\n",
       "      <th>2016-01-31 00:00:00+00:00</th>\n",
       "      <td>0.116667</td>\n",
       "      <td>0.323732</td>\n",
       "      <td>0</td>\n",
       "      <td>1</td>\n",
       "    </tr>\n",
       "    <tr>\n",
       "      <th>2016-02-29 00:00:00+00:00</th>\n",
       "      <td>0.114286</td>\n",
       "      <td>0.318728</td>\n",
       "      <td>0</td>\n",
       "      <td>1</td>\n",
       "    </tr>\n",
       "    <tr>\n",
       "      <th>2016-03-31 00:00:00+00:00</th>\n",
       "      <td>0.055882</td>\n",
       "      <td>0.229725</td>\n",
       "      <td>0</td>\n",
       "      <td>1</td>\n",
       "    </tr>\n",
       "    <tr>\n",
       "      <th>2016-04-30 00:00:00+00:00</th>\n",
       "      <td>0.059514</td>\n",
       "      <td>0.236590</td>\n",
       "      <td>0</td>\n",
       "      <td>1</td>\n",
       "    </tr>\n",
       "    <tr>\n",
       "      <th>2016-05-31 00:00:00+00:00</th>\n",
       "      <td>0.075529</td>\n",
       "      <td>0.264244</td>\n",
       "      <td>0</td>\n",
       "      <td>1</td>\n",
       "    </tr>\n",
       "    <tr>\n",
       "      <th>2016-06-30 00:00:00+00:00</th>\n",
       "      <td>0.079026</td>\n",
       "      <td>0.269789</td>\n",
       "      <td>0</td>\n",
       "      <td>1</td>\n",
       "    </tr>\n",
       "  </tbody>\n",
       "</table>\n",
       "</div>"
      ],
      "text/plain": [
       "                               mean       std  min  max\n",
       "ScheduledDay                                           \n",
       "2016-01-31 00:00:00+00:00  0.116667  0.323732    0    1\n",
       "2016-02-29 00:00:00+00:00  0.114286  0.318728    0    1\n",
       "2016-03-31 00:00:00+00:00  0.055882  0.229725    0    1\n",
       "2016-04-30 00:00:00+00:00  0.059514  0.236590    0    1\n",
       "2016-05-31 00:00:00+00:00  0.075529  0.264244    0    1\n",
       "2016-06-30 00:00:00+00:00  0.079026  0.269789    0    1"
      ]
     },
     "execution_count": 83,
     "metadata": {},
     "output_type": "execute_result"
    }
   ],
   "source": [
    "ts.loc['2016', 'Diabetes'].resample('M').agg(['mean', 'std', 'min', 'max'])"
   ]
  },
  {
   "cell_type": "code",
   "execution_count": 84,
   "id": "6a0f6148-ba35-414a-a055-716b7655f99f",
   "metadata": {
    "canvas": {
     "comments": [],
     "componentType": "CodeCell",
     "copiedOriginId": null,
     "diskcache": false,
     "headerColor": "none",
     "id": "1a659f1d-c584-480d-adc6-17fa014011f6",
     "isComponent": false,
     "name": "",
     "parents": []
    }
   },
   "outputs": [
    {
     "data": {
      "text/html": [
       "<div>\n",
       "<style scoped>\n",
       "    .dataframe tbody tr th:only-of-type {\n",
       "        vertical-align: middle;\n",
       "    }\n",
       "\n",
       "    .dataframe tbody tr th {\n",
       "        vertical-align: top;\n",
       "    }\n",
       "\n",
       "    .dataframe thead th {\n",
       "        text-align: right;\n",
       "    }\n",
       "</style>\n",
       "<table border=\"1\" class=\"dataframe\">\n",
       "  <thead>\n",
       "    <tr style=\"text-align: right;\">\n",
       "      <th></th>\n",
       "      <th>mean</th>\n",
       "      <th>std</th>\n",
       "      <th>min</th>\n",
       "      <th>max</th>\n",
       "    </tr>\n",
       "    <tr>\n",
       "      <th>ScheduledDay</th>\n",
       "      <th></th>\n",
       "      <th></th>\n",
       "      <th></th>\n",
       "      <th></th>\n",
       "    </tr>\n",
       "  </thead>\n",
       "  <tbody>\n",
       "    <tr>\n",
       "      <th>2016-01-10 00:00:00+00:00</th>\n",
       "      <td>0.055556</td>\n",
       "      <td>0.235702</td>\n",
       "      <td>0</td>\n",
       "      <td>1</td>\n",
       "    </tr>\n",
       "    <tr>\n",
       "      <th>2016-01-17 00:00:00+00:00</th>\n",
       "      <td>0.181818</td>\n",
       "      <td>0.404520</td>\n",
       "      <td>0</td>\n",
       "      <td>1</td>\n",
       "    </tr>\n",
       "    <tr>\n",
       "      <th>2016-01-24 00:00:00+00:00</th>\n",
       "      <td>0.250000</td>\n",
       "      <td>0.452267</td>\n",
       "      <td>0</td>\n",
       "      <td>1</td>\n",
       "    </tr>\n",
       "    <tr>\n",
       "      <th>2016-01-31 00:00:00+00:00</th>\n",
       "      <td>0.052632</td>\n",
       "      <td>0.229416</td>\n",
       "      <td>0</td>\n",
       "      <td>1</td>\n",
       "    </tr>\n",
       "    <tr>\n",
       "      <th>2016-02-07 00:00:00+00:00</th>\n",
       "      <td>0.222222</td>\n",
       "      <td>0.421637</td>\n",
       "      <td>0</td>\n",
       "      <td>1</td>\n",
       "    </tr>\n",
       "    <tr>\n",
       "      <th>2016-02-14 00:00:00+00:00</th>\n",
       "      <td>0.130435</td>\n",
       "      <td>0.344350</td>\n",
       "      <td>0</td>\n",
       "      <td>1</td>\n",
       "    </tr>\n",
       "    <tr>\n",
       "      <th>2016-02-21 00:00:00+00:00</th>\n",
       "      <td>0.145161</td>\n",
       "      <td>0.355139</td>\n",
       "      <td>0</td>\n",
       "      <td>1</td>\n",
       "    </tr>\n",
       "    <tr>\n",
       "      <th>2016-02-28 00:00:00+00:00</th>\n",
       "      <td>0.085271</td>\n",
       "      <td>0.280374</td>\n",
       "      <td>0</td>\n",
       "      <td>1</td>\n",
       "    </tr>\n",
       "    <tr>\n",
       "      <th>2016-03-06 00:00:00+00:00</th>\n",
       "      <td>0.051454</td>\n",
       "      <td>0.221046</td>\n",
       "      <td>0</td>\n",
       "      <td>1</td>\n",
       "    </tr>\n",
       "    <tr>\n",
       "      <th>2016-03-13 00:00:00+00:00</th>\n",
       "      <td>0.075130</td>\n",
       "      <td>0.263942</td>\n",
       "      <td>0</td>\n",
       "      <td>1</td>\n",
       "    </tr>\n",
       "    <tr>\n",
       "      <th>2016-03-20 00:00:00+00:00</th>\n",
       "      <td>0.073099</td>\n",
       "      <td>0.260490</td>\n",
       "      <td>0</td>\n",
       "      <td>1</td>\n",
       "    </tr>\n",
       "    <tr>\n",
       "      <th>2016-03-27 00:00:00+00:00</th>\n",
       "      <td>0.034991</td>\n",
       "      <td>0.183926</td>\n",
       "      <td>0</td>\n",
       "      <td>1</td>\n",
       "    </tr>\n",
       "    <tr>\n",
       "      <th>2016-04-03 00:00:00+00:00</th>\n",
       "      <td>0.051822</td>\n",
       "      <td>0.221731</td>\n",
       "      <td>0</td>\n",
       "      <td>1</td>\n",
       "    </tr>\n",
       "    <tr>\n",
       "      <th>2016-04-10 00:00:00+00:00</th>\n",
       "      <td>0.047150</td>\n",
       "      <td>0.212004</td>\n",
       "      <td>0</td>\n",
       "      <td>1</td>\n",
       "    </tr>\n",
       "    <tr>\n",
       "      <th>2016-04-17 00:00:00+00:00</th>\n",
       "      <td>0.052083</td>\n",
       "      <td>0.222221</td>\n",
       "      <td>0</td>\n",
       "      <td>1</td>\n",
       "    </tr>\n",
       "    <tr>\n",
       "      <th>2016-04-24 00:00:00+00:00</th>\n",
       "      <td>0.057942</td>\n",
       "      <td>0.233660</td>\n",
       "      <td>0</td>\n",
       "      <td>1</td>\n",
       "    </tr>\n",
       "    <tr>\n",
       "      <th>2016-05-01 00:00:00+00:00</th>\n",
       "      <td>0.065063</td>\n",
       "      <td>0.246647</td>\n",
       "      <td>0</td>\n",
       "      <td>1</td>\n",
       "    </tr>\n",
       "    <tr>\n",
       "      <th>2016-05-08 00:00:00+00:00</th>\n",
       "      <td>0.073124</td>\n",
       "      <td>0.260347</td>\n",
       "      <td>0</td>\n",
       "      <td>1</td>\n",
       "    </tr>\n",
       "    <tr>\n",
       "      <th>2016-05-15 00:00:00+00:00</th>\n",
       "      <td>0.076619</td>\n",
       "      <td>0.265993</td>\n",
       "      <td>0</td>\n",
       "      <td>1</td>\n",
       "    </tr>\n",
       "    <tr>\n",
       "      <th>2016-05-22 00:00:00+00:00</th>\n",
       "      <td>0.077368</td>\n",
       "      <td>0.267182</td>\n",
       "      <td>0</td>\n",
       "      <td>1</td>\n",
       "    </tr>\n",
       "    <tr>\n",
       "      <th>2016-05-29 00:00:00+00:00</th>\n",
       "      <td>0.074755</td>\n",
       "      <td>0.263016</td>\n",
       "      <td>0</td>\n",
       "      <td>1</td>\n",
       "    </tr>\n",
       "    <tr>\n",
       "      <th>2016-06-05 00:00:00+00:00</th>\n",
       "      <td>0.078489</td>\n",
       "      <td>0.268949</td>\n",
       "      <td>0</td>\n",
       "      <td>1</td>\n",
       "    </tr>\n",
       "    <tr>\n",
       "      <th>2016-06-12 00:00:00+00:00</th>\n",
       "      <td>0.076613</td>\n",
       "      <td>0.266000</td>\n",
       "      <td>0</td>\n",
       "      <td>1</td>\n",
       "    </tr>\n",
       "  </tbody>\n",
       "</table>\n",
       "</div>"
      ],
      "text/plain": [
       "                               mean       std  min  max\n",
       "ScheduledDay                                           \n",
       "2016-01-10 00:00:00+00:00  0.055556  0.235702    0    1\n",
       "2016-01-17 00:00:00+00:00  0.181818  0.404520    0    1\n",
       "2016-01-24 00:00:00+00:00  0.250000  0.452267    0    1\n",
       "2016-01-31 00:00:00+00:00  0.052632  0.229416    0    1\n",
       "2016-02-07 00:00:00+00:00  0.222222  0.421637    0    1\n",
       "2016-02-14 00:00:00+00:00  0.130435  0.344350    0    1\n",
       "2016-02-21 00:00:00+00:00  0.145161  0.355139    0    1\n",
       "2016-02-28 00:00:00+00:00  0.085271  0.280374    0    1\n",
       "2016-03-06 00:00:00+00:00  0.051454  0.221046    0    1\n",
       "2016-03-13 00:00:00+00:00  0.075130  0.263942    0    1\n",
       "2016-03-20 00:00:00+00:00  0.073099  0.260490    0    1\n",
       "2016-03-27 00:00:00+00:00  0.034991  0.183926    0    1\n",
       "2016-04-03 00:00:00+00:00  0.051822  0.221731    0    1\n",
       "2016-04-10 00:00:00+00:00  0.047150  0.212004    0    1\n",
       "2016-04-17 00:00:00+00:00  0.052083  0.222221    0    1\n",
       "2016-04-24 00:00:00+00:00  0.057942  0.233660    0    1\n",
       "2016-05-01 00:00:00+00:00  0.065063  0.246647    0    1\n",
       "2016-05-08 00:00:00+00:00  0.073124  0.260347    0    1\n",
       "2016-05-15 00:00:00+00:00  0.076619  0.265993    0    1\n",
       "2016-05-22 00:00:00+00:00  0.077368  0.267182    0    1\n",
       "2016-05-29 00:00:00+00:00  0.074755  0.263016    0    1\n",
       "2016-06-05 00:00:00+00:00  0.078489  0.268949    0    1\n",
       "2016-06-12 00:00:00+00:00  0.076613  0.266000    0    1"
      ]
     },
     "execution_count": 84,
     "metadata": {},
     "output_type": "execute_result"
    }
   ],
   "source": [
    "ts.loc['2016', 'Diabetes'].resample('W').agg(['mean', 'std', 'min', 'max'])"
   ]
  },
  {
   "cell_type": "code",
   "execution_count": 85,
   "id": "129f5bf1-d907-4235-addf-17fc1d4ff630",
   "metadata": {
    "canvas": {
     "comments": [],
     "componentType": "CodeCell",
     "copiedOriginId": null,
     "diskcache": false,
     "headerColor": "none",
     "id": "51641779-8590-4934-bb66-b59119c8f8a3",
     "isComponent": false,
     "name": "",
     "parents": []
    }
   },
   "outputs": [
    {
     "data": {
      "image/png": "[encoded data removed]",
      "text/plain": [
       "<Figure size 504x360 with 1 Axes>"
      ]
     },
     "metadata": {
      "needs_background": "light"
     },
     "output_type": "display_data"
    }
   ],
   "source": [
    "plt.figure(figsize=(7, 5))\n",
    "ts.loc['2016', 'Alcoholism'].resample('M').mean().plot(label='average per month', lw=3, ls=':', alpha=0.8)\n",
    "ts.loc['2016', 'Alcoholism'].resample('W').mean().plot(label='average per week', lw=2, ls='--', alpha=0.8)\n",
    "ts.loc['2016', 'Alcoholism'].resample('D').mean().plot(label='average par day', lw=3, ls=':', alpha=0.8)\n",
    "ts.loc['2016', 'Alcoholism'].resample('M').std().plot(label='std per moth', lw=2, ls='--', alpha=0.8)\n",
    "ts.loc['2016', 'Alcoholism'].resample('W').std().plot(label='std per week', lw=2, ls='--', alpha=0.8)\n",
    "plt.title(\"Alcoholism - ScheduledDay \")\n",
    "plt.legend()\n",
    "plt.show()"
   ]
  },
  {
   "cell_type": "code",
   "execution_count": 86,
   "id": "835d6538-d6d9-4823-b57b-261cb317b5d6",
   "metadata": {
    "canvas": {
     "comments": [],
     "componentType": "CodeCell",
     "copiedOriginId": null,
     "diskcache": false,
     "headerColor": "none",
     "id": "250b9d58-3943-4f25-87dd-268ef104df5e",
     "isComponent": false,
     "name": "",
     "parents": []
    }
   },
   "outputs": [
    {
     "data": {
      "text/html": [
       "<div>\n",
       "<style scoped>\n",
       "    .dataframe tbody tr th:only-of-type {\n",
       "        vertical-align: middle;\n",
       "    }\n",
       "\n",
       "    .dataframe tbody tr th {\n",
       "        vertical-align: top;\n",
       "    }\n",
       "\n",
       "    .dataframe thead th {\n",
       "        text-align: right;\n",
       "    }\n",
       "</style>\n",
       "<table border=\"1\" class=\"dataframe\">\n",
       "  <thead>\n",
       "    <tr style=\"text-align: right;\">\n",
       "      <th></th>\n",
       "      <th>mean</th>\n",
       "      <th>std</th>\n",
       "      <th>min</th>\n",
       "      <th>max</th>\n",
       "    </tr>\n",
       "    <tr>\n",
       "      <th>ScheduledDay</th>\n",
       "      <th></th>\n",
       "      <th></th>\n",
       "      <th></th>\n",
       "      <th></th>\n",
       "    </tr>\n",
       "  </thead>\n",
       "  <tbody>\n",
       "    <tr>\n",
       "      <th>2016-01-31 00:00:00+00:00</th>\n",
       "      <td>0.050000</td>\n",
       "      <td>0.219784</td>\n",
       "      <td>0</td>\n",
       "      <td>1</td>\n",
       "    </tr>\n",
       "    <tr>\n",
       "      <th>2016-02-29 00:00:00+00:00</th>\n",
       "      <td>0.014286</td>\n",
       "      <td>0.118879</td>\n",
       "      <td>0</td>\n",
       "      <td>1</td>\n",
       "    </tr>\n",
       "    <tr>\n",
       "      <th>2016-03-31 00:00:00+00:00</th>\n",
       "      <td>0.012015</td>\n",
       "      <td>0.108966</td>\n",
       "      <td>0</td>\n",
       "      <td>1</td>\n",
       "    </tr>\n",
       "    <tr>\n",
       "      <th>2016-04-30 00:00:00+00:00</th>\n",
       "      <td>0.023806</td>\n",
       "      <td>0.152447</td>\n",
       "      <td>0</td>\n",
       "      <td>1</td>\n",
       "    </tr>\n",
       "    <tr>\n",
       "      <th>2016-05-31 00:00:00+00:00</th>\n",
       "      <td>0.032516</td>\n",
       "      <td>0.177368</td>\n",
       "      <td>0</td>\n",
       "      <td>1</td>\n",
       "    </tr>\n",
       "    <tr>\n",
       "      <th>2016-06-30 00:00:00+00:00</th>\n",
       "      <td>0.037545</td>\n",
       "      <td>0.190099</td>\n",
       "      <td>0</td>\n",
       "      <td>1</td>\n",
       "    </tr>\n",
       "  </tbody>\n",
       "</table>\n",
       "</div>"
      ],
      "text/plain": [
       "                               mean       std  min  max\n",
       "ScheduledDay                                           \n",
       "2016-01-31 00:00:00+00:00  0.050000  0.219784    0    1\n",
       "2016-02-29 00:00:00+00:00  0.014286  0.118879    0    1\n",
       "2016-03-31 00:00:00+00:00  0.012015  0.108966    0    1\n",
       "2016-04-30 00:00:00+00:00  0.023806  0.152447    0    1\n",
       "2016-05-31 00:00:00+00:00  0.032516  0.177368    0    1\n",
       "2016-06-30 00:00:00+00:00  0.037545  0.190099    0    1"
      ]
     },
     "execution_count": 86,
     "metadata": {},
     "output_type": "execute_result"
    }
   ],
   "source": [
    "ts.loc['2016', 'Alcoholism'].resample('M').agg(['mean', 'std', 'min', 'max'])"
   ]
  },
  {
   "cell_type": "code",
   "execution_count": 87,
   "id": "89bc9c4d-0211-4c00-b5d1-565bb7fa1a3c",
   "metadata": {
    "canvas": {
     "comments": [],
     "componentType": "CodeCell",
     "copiedOriginId": null,
     "diskcache": false,
     "headerColor": "none",
     "id": "5c727bcf-a473-4acf-aa84-58a9ba7a2b8d",
     "isComponent": false,
     "name": "",
     "parents": []
    }
   },
   "outputs": [
    {
     "data": {
      "text/html": [
       "<div>\n",
       "<style scoped>\n",
       "    .dataframe tbody tr th:only-of-type {\n",
       "        vertical-align: middle;\n",
       "    }\n",
       "\n",
       "    .dataframe tbody tr th {\n",
       "        vertical-align: top;\n",
       "    }\n",
       "\n",
       "    .dataframe thead th {\n",
       "        text-align: right;\n",
       "    }\n",
       "</style>\n",
       "<table border=\"1\" class=\"dataframe\">\n",
       "  <thead>\n",
       "    <tr style=\"text-align: right;\">\n",
       "      <th></th>\n",
       "      <th>mean</th>\n",
       "      <th>std</th>\n",
       "      <th>min</th>\n",
       "      <th>max</th>\n",
       "    </tr>\n",
       "    <tr>\n",
       "      <th>ScheduledDay</th>\n",
       "      <th></th>\n",
       "      <th></th>\n",
       "      <th></th>\n",
       "      <th></th>\n",
       "    </tr>\n",
       "  </thead>\n",
       "  <tbody>\n",
       "    <tr>\n",
       "      <th>2016-01-10 00:00:00+00:00</th>\n",
       "      <td>0.000000</td>\n",
       "      <td>0.000000</td>\n",
       "      <td>0</td>\n",
       "      <td>0</td>\n",
       "    </tr>\n",
       "    <tr>\n",
       "      <th>2016-01-17 00:00:00+00:00</th>\n",
       "      <td>0.090909</td>\n",
       "      <td>0.301511</td>\n",
       "      <td>0</td>\n",
       "      <td>1</td>\n",
       "    </tr>\n",
       "    <tr>\n",
       "      <th>2016-01-24 00:00:00+00:00</th>\n",
       "      <td>0.000000</td>\n",
       "      <td>0.000000</td>\n",
       "      <td>0</td>\n",
       "      <td>0</td>\n",
       "    </tr>\n",
       "    <tr>\n",
       "      <th>2016-01-31 00:00:00+00:00</th>\n",
       "      <td>0.105263</td>\n",
       "      <td>0.315302</td>\n",
       "      <td>0</td>\n",
       "      <td>1</td>\n",
       "    </tr>\n",
       "    <tr>\n",
       "      <th>2016-02-07 00:00:00+00:00</th>\n",
       "      <td>0.000000</td>\n",
       "      <td>0.000000</td>\n",
       "      <td>0</td>\n",
       "      <td>0</td>\n",
       "    </tr>\n",
       "    <tr>\n",
       "      <th>2016-02-14 00:00:00+00:00</th>\n",
       "      <td>0.000000</td>\n",
       "      <td>0.000000</td>\n",
       "      <td>0</td>\n",
       "      <td>0</td>\n",
       "    </tr>\n",
       "    <tr>\n",
       "      <th>2016-02-21 00:00:00+00:00</th>\n",
       "      <td>0.000000</td>\n",
       "      <td>0.000000</td>\n",
       "      <td>0</td>\n",
       "      <td>0</td>\n",
       "    </tr>\n",
       "    <tr>\n",
       "      <th>2016-02-28 00:00:00+00:00</th>\n",
       "      <td>0.023256</td>\n",
       "      <td>0.151302</td>\n",
       "      <td>0</td>\n",
       "      <td>1</td>\n",
       "    </tr>\n",
       "    <tr>\n",
       "      <th>2016-03-06 00:00:00+00:00</th>\n",
       "      <td>0.005593</td>\n",
       "      <td>0.074618</td>\n",
       "      <td>0</td>\n",
       "      <td>1</td>\n",
       "    </tr>\n",
       "    <tr>\n",
       "      <th>2016-03-13 00:00:00+00:00</th>\n",
       "      <td>0.010363</td>\n",
       "      <td>0.101400</td>\n",
       "      <td>0</td>\n",
       "      <td>1</td>\n",
       "    </tr>\n",
       "    <tr>\n",
       "      <th>2016-03-20 00:00:00+00:00</th>\n",
       "      <td>0.014620</td>\n",
       "      <td>0.120113</td>\n",
       "      <td>0</td>\n",
       "      <td>1</td>\n",
       "    </tr>\n",
       "    <tr>\n",
       "      <th>2016-03-27 00:00:00+00:00</th>\n",
       "      <td>0.014733</td>\n",
       "      <td>0.120593</td>\n",
       "      <td>0</td>\n",
       "      <td>1</td>\n",
       "    </tr>\n",
       "    <tr>\n",
       "      <th>2016-04-03 00:00:00+00:00</th>\n",
       "      <td>0.015945</td>\n",
       "      <td>0.125300</td>\n",
       "      <td>0</td>\n",
       "      <td>1</td>\n",
       "    </tr>\n",
       "    <tr>\n",
       "      <th>2016-04-10 00:00:00+00:00</th>\n",
       "      <td>0.018860</td>\n",
       "      <td>0.136059</td>\n",
       "      <td>0</td>\n",
       "      <td>1</td>\n",
       "    </tr>\n",
       "    <tr>\n",
       "      <th>2016-04-17 00:00:00+00:00</th>\n",
       "      <td>0.018939</td>\n",
       "      <td>0.136327</td>\n",
       "      <td>0</td>\n",
       "      <td>1</td>\n",
       "    </tr>\n",
       "    <tr>\n",
       "      <th>2016-04-24 00:00:00+00:00</th>\n",
       "      <td>0.021591</td>\n",
       "      <td>0.145359</td>\n",
       "      <td>0</td>\n",
       "      <td>1</td>\n",
       "    </tr>\n",
       "    <tr>\n",
       "      <th>2016-05-01 00:00:00+00:00</th>\n",
       "      <td>0.027367</td>\n",
       "      <td>0.163157</td>\n",
       "      <td>0</td>\n",
       "      <td>1</td>\n",
       "    </tr>\n",
       "    <tr>\n",
       "      <th>2016-05-08 00:00:00+00:00</th>\n",
       "      <td>0.032236</td>\n",
       "      <td>0.176632</td>\n",
       "      <td>0</td>\n",
       "      <td>1</td>\n",
       "    </tr>\n",
       "    <tr>\n",
       "      <th>2016-05-15 00:00:00+00:00</th>\n",
       "      <td>0.031506</td>\n",
       "      <td>0.174686</td>\n",
       "      <td>0</td>\n",
       "      <td>1</td>\n",
       "    </tr>\n",
       "    <tr>\n",
       "      <th>2016-05-22 00:00:00+00:00</th>\n",
       "      <td>0.033108</td>\n",
       "      <td>0.178923</td>\n",
       "      <td>0</td>\n",
       "      <td>1</td>\n",
       "    </tr>\n",
       "    <tr>\n",
       "      <th>2016-05-29 00:00:00+00:00</th>\n",
       "      <td>0.032784</td>\n",
       "      <td>0.178086</td>\n",
       "      <td>0</td>\n",
       "      <td>1</td>\n",
       "    </tr>\n",
       "    <tr>\n",
       "      <th>2016-06-05 00:00:00+00:00</th>\n",
       "      <td>0.035607</td>\n",
       "      <td>0.185314</td>\n",
       "      <td>0</td>\n",
       "      <td>1</td>\n",
       "    </tr>\n",
       "    <tr>\n",
       "      <th>2016-06-12 00:00:00+00:00</th>\n",
       "      <td>0.038920</td>\n",
       "      <td>0.193421</td>\n",
       "      <td>0</td>\n",
       "      <td>1</td>\n",
       "    </tr>\n",
       "  </tbody>\n",
       "</table>\n",
       "</div>"
      ],
      "text/plain": [
       "                               mean       std  min  max\n",
       "ScheduledDay                                           \n",
       "2016-01-10 00:00:00+00:00  0.000000  0.000000    0    0\n",
       "2016-01-17 00:00:00+00:00  0.090909  0.301511    0    1\n",
       "2016-01-24 00:00:00+00:00  0.000000  0.000000    0    0\n",
       "2016-01-31 00:00:00+00:00  0.105263  0.315302    0    1\n",
       "2016-02-07 00:00:00+00:00  0.000000  0.000000    0    0\n",
       "2016-02-14 00:00:00+00:00  0.000000  0.000000    0    0\n",
       "2016-02-21 00:00:00+00:00  0.000000  0.000000    0    0\n",
       "2016-02-28 00:00:00+00:00  0.023256  0.151302    0    1\n",
       "2016-03-06 00:00:00+00:00  0.005593  0.074618    0    1\n",
       "2016-03-13 00:00:00+00:00  0.010363  0.101400    0    1\n",
       "2016-03-20 00:00:00+00:00  0.014620  0.120113    0    1\n",
       "2016-03-27 00:00:00+00:00  0.014733  0.120593    0    1\n",
       "2016-04-03 00:00:00+00:00  0.015945  0.125300    0    1\n",
       "2016-04-10 00:00:00+00:00  0.018860  0.136059    0    1\n",
       "2016-04-17 00:00:00+00:00  0.018939  0.136327    0    1\n",
       "2016-04-24 00:00:00+00:00  0.021591  0.145359    0    1\n",
       "2016-05-01 00:00:00+00:00  0.027367  0.163157    0    1\n",
       "2016-05-08 00:00:00+00:00  0.032236  0.176632    0    1\n",
       "2016-05-15 00:00:00+00:00  0.031506  0.174686    0    1\n",
       "2016-05-22 00:00:00+00:00  0.033108  0.178923    0    1\n",
       "2016-05-29 00:00:00+00:00  0.032784  0.178086    0    1\n",
       "2016-06-05 00:00:00+00:00  0.035607  0.185314    0    1\n",
       "2016-06-12 00:00:00+00:00  0.038920  0.193421    0    1"
      ]
     },
     "execution_count": 87,
     "metadata": {},
     "output_type": "execute_result"
    }
   ],
   "source": [
    "ts.loc['2016', 'Alcoholism'].resample('W').agg(['mean', 'std', 'min', 'max'])"
   ]
  },
  {
   "cell_type": "code",
   "execution_count": 88,
   "id": "70df8694-3e6a-4771-97da-574fdee3abd6",
   "metadata": {
    "canvas": {
     "comments": [],
     "componentType": "CodeCell",
     "copiedOriginId": null,
     "diskcache": false,
     "headerColor": "none",
     "id": "465746e0-f1b6-4253-bf7c-02c3991a683b",
     "isComponent": false,
     "name": "",
     "parents": []
    }
   },
   "outputs": [
    {
     "data": {
      "image/png": "[encoded data removed]",
      "text/plain": [
       "<Figure size 504x360 with 1 Axes>"
      ]
     },
     "metadata": {
      "needs_background": "light"
     },
     "output_type": "display_data"
    }
   ],
   "source": [
    "plt.figure(figsize=(7, 5))\n",
    "ts.loc['2016', 'Handcap'].resample('M').mean().plot(label='average per month', lw=3, ls=':', alpha=0.8)\n",
    "ts.loc['2016', 'Handcap'].resample('W').mean().plot(label='average per week', lw=2, ls='--', alpha=0.8)\n",
    "ts.loc['2016', 'Handcap'].resample('D').mean().plot(label='average per day', lw=3, ls=':', alpha=0.8)\n",
    "ts.loc['2016', 'Handcap'].resample('M').std().plot(label='std per month', lw=2, ls='--', alpha=0.8)\n",
    "ts.loc['2016', 'Handcap'].resample('W').std().plot(label='std per week', lw=2, ls='--', alpha=0.8)\n",
    "plt.title(\"Handcap - ScheduledDay \")\n",
    "plt.legend()\n",
    "plt.show()"
   ]
  },
  {
   "cell_type": "code",
   "execution_count": 89,
   "id": "2b4bef32-b4fb-4987-816b-0be036ef4c12",
   "metadata": {
    "canvas": {
     "comments": [],
     "componentType": "CodeCell",
     "copiedOriginId": null,
     "diskcache": false,
     "headerColor": "none",
     "id": "4097e7d0-9456-4404-af48-a4ba1de3f154",
     "isComponent": false,
     "name": "",
     "parents": []
    }
   },
   "outputs": [
    {
     "data": {
      "text/html": [
       "<div>\n",
       "<style scoped>\n",
       "    .dataframe tbody tr th:only-of-type {\n",
       "        vertical-align: middle;\n",
       "    }\n",
       "\n",
       "    .dataframe tbody tr th {\n",
       "        vertical-align: top;\n",
       "    }\n",
       "\n",
       "    .dataframe thead th {\n",
       "        text-align: right;\n",
       "    }\n",
       "</style>\n",
       "<table border=\"1\" class=\"dataframe\">\n",
       "  <thead>\n",
       "    <tr style=\"text-align: right;\">\n",
       "      <th></th>\n",
       "      <th>mean</th>\n",
       "      <th>std</th>\n",
       "      <th>min</th>\n",
       "      <th>max</th>\n",
       "    </tr>\n",
       "    <tr>\n",
       "      <th>ScheduledDay</th>\n",
       "      <th></th>\n",
       "      <th></th>\n",
       "      <th></th>\n",
       "      <th></th>\n",
       "    </tr>\n",
       "  </thead>\n",
       "  <tbody>\n",
       "    <tr>\n",
       "      <th>2016-01-31 00:00:00+00:00</th>\n",
       "      <td>0.066667</td>\n",
       "      <td>0.251549</td>\n",
       "      <td>0</td>\n",
       "      <td>1</td>\n",
       "    </tr>\n",
       "    <tr>\n",
       "      <th>2016-02-29 00:00:00+00:00</th>\n",
       "      <td>0.053571</td>\n",
       "      <td>0.240939</td>\n",
       "      <td>0</td>\n",
       "      <td>2</td>\n",
       "    </tr>\n",
       "    <tr>\n",
       "      <th>2016-03-31 00:00:00+00:00</th>\n",
       "      <td>0.014250</td>\n",
       "      <td>0.131926</td>\n",
       "      <td>0</td>\n",
       "      <td>2</td>\n",
       "    </tr>\n",
       "    <tr>\n",
       "      <th>2016-04-30 00:00:00+00:00</th>\n",
       "      <td>0.017357</td>\n",
       "      <td>0.143940</td>\n",
       "      <td>0</td>\n",
       "      <td>3</td>\n",
       "    </tr>\n",
       "    <tr>\n",
       "      <th>2016-05-31 00:00:00+00:00</th>\n",
       "      <td>0.023631</td>\n",
       "      <td>0.165428</td>\n",
       "      <td>0</td>\n",
       "      <td>4</td>\n",
       "    </tr>\n",
       "    <tr>\n",
       "      <th>2016-06-30 00:00:00+00:00</th>\n",
       "      <td>0.024568</td>\n",
       "      <td>0.170926</td>\n",
       "      <td>0</td>\n",
       "      <td>4</td>\n",
       "    </tr>\n",
       "  </tbody>\n",
       "</table>\n",
       "</div>"
      ],
      "text/plain": [
       "                               mean       std  min  max\n",
       "ScheduledDay                                           \n",
       "2016-01-31 00:00:00+00:00  0.066667  0.251549    0    1\n",
       "2016-02-29 00:00:00+00:00  0.053571  0.240939    0    2\n",
       "2016-03-31 00:00:00+00:00  0.014250  0.131926    0    2\n",
       "2016-04-30 00:00:00+00:00  0.017357  0.143940    0    3\n",
       "2016-05-31 00:00:00+00:00  0.023631  0.165428    0    4\n",
       "2016-06-30 00:00:00+00:00  0.024568  0.170926    0    4"
      ]
     },
     "execution_count": 89,
     "metadata": {},
     "output_type": "execute_result"
    }
   ],
   "source": [
    "ts.loc['2016', 'Handcap'].resample('M').agg(['mean', 'std', 'min', 'max'])"
   ]
  },
  {
   "cell_type": "code",
   "execution_count": 90,
   "id": "aa83d22c-5564-46fc-a29a-cd6607d32e08",
   "metadata": {
    "canvas": {
     "comments": [],
     "componentType": "CodeCell",
     "copiedOriginId": null,
     "diskcache": false,
     "headerColor": "none",
     "id": "e9a3f2bd-7439-4e08-846c-ad0ddaeb8966",
     "isComponent": false,
     "name": "",
     "parents": []
    }
   },
   "outputs": [
    {
     "data": {
      "text/html": [
       "<div>\n",
       "<style scoped>\n",
       "    .dataframe tbody tr th:only-of-type {\n",
       "        vertical-align: middle;\n",
       "    }\n",
       "\n",
       "    .dataframe tbody tr th {\n",
       "        vertical-align: top;\n",
       "    }\n",
       "\n",
       "    .dataframe thead th {\n",
       "        text-align: right;\n",
       "    }\n",
       "</style>\n",
       "<table border=\"1\" class=\"dataframe\">\n",
       "  <thead>\n",
       "    <tr style=\"text-align: right;\">\n",
       "      <th></th>\n",
       "      <th>mean</th>\n",
       "      <th>std</th>\n",
       "      <th>min</th>\n",
       "      <th>max</th>\n",
       "    </tr>\n",
       "    <tr>\n",
       "      <th>ScheduledDay</th>\n",
       "      <th></th>\n",
       "      <th></th>\n",
       "      <th></th>\n",
       "      <th></th>\n",
       "    </tr>\n",
       "  </thead>\n",
       "  <tbody>\n",
       "    <tr>\n",
       "      <th>2016-01-10 00:00:00+00:00</th>\n",
       "      <td>0.055556</td>\n",
       "      <td>0.235702</td>\n",
       "      <td>0</td>\n",
       "      <td>1</td>\n",
       "    </tr>\n",
       "    <tr>\n",
       "      <th>2016-01-17 00:00:00+00:00</th>\n",
       "      <td>0.000000</td>\n",
       "      <td>0.000000</td>\n",
       "      <td>0</td>\n",
       "      <td>0</td>\n",
       "    </tr>\n",
       "    <tr>\n",
       "      <th>2016-01-24 00:00:00+00:00</th>\n",
       "      <td>0.083333</td>\n",
       "      <td>0.288675</td>\n",
       "      <td>0</td>\n",
       "      <td>1</td>\n",
       "    </tr>\n",
       "    <tr>\n",
       "      <th>2016-01-31 00:00:00+00:00</th>\n",
       "      <td>0.105263</td>\n",
       "      <td>0.315302</td>\n",
       "      <td>0</td>\n",
       "      <td>1</td>\n",
       "    </tr>\n",
       "    <tr>\n",
       "      <th>2016-02-07 00:00:00+00:00</th>\n",
       "      <td>0.055556</td>\n",
       "      <td>0.232311</td>\n",
       "      <td>0</td>\n",
       "      <td>1</td>\n",
       "    </tr>\n",
       "    <tr>\n",
       "      <th>2016-02-14 00:00:00+00:00</th>\n",
       "      <td>0.086957</td>\n",
       "      <td>0.288104</td>\n",
       "      <td>0</td>\n",
       "      <td>1</td>\n",
       "    </tr>\n",
       "    <tr>\n",
       "      <th>2016-02-21 00:00:00+00:00</th>\n",
       "      <td>0.048387</td>\n",
       "      <td>0.216335</td>\n",
       "      <td>0</td>\n",
       "      <td>1</td>\n",
       "    </tr>\n",
       "    <tr>\n",
       "      <th>2016-02-28 00:00:00+00:00</th>\n",
       "      <td>0.046512</td>\n",
       "      <td>0.245601</td>\n",
       "      <td>0</td>\n",
       "      <td>2</td>\n",
       "    </tr>\n",
       "    <tr>\n",
       "      <th>2016-03-06 00:00:00+00:00</th>\n",
       "      <td>0.010067</td>\n",
       "      <td>0.099885</td>\n",
       "      <td>0</td>\n",
       "      <td>1</td>\n",
       "    </tr>\n",
       "    <tr>\n",
       "      <th>2016-03-13 00:00:00+00:00</th>\n",
       "      <td>0.023316</td>\n",
       "      <td>0.182267</td>\n",
       "      <td>0</td>\n",
       "      <td>2</td>\n",
       "    </tr>\n",
       "    <tr>\n",
       "      <th>2016-03-20 00:00:00+00:00</th>\n",
       "      <td>0.013158</td>\n",
       "      <td>0.137333</td>\n",
       "      <td>0</td>\n",
       "      <td>2</td>\n",
       "    </tr>\n",
       "    <tr>\n",
       "      <th>2016-03-27 00:00:00+00:00</th>\n",
       "      <td>0.005525</td>\n",
       "      <td>0.074192</td>\n",
       "      <td>0</td>\n",
       "      <td>1</td>\n",
       "    </tr>\n",
       "    <tr>\n",
       "      <th>2016-04-03 00:00:00+00:00</th>\n",
       "      <td>0.014806</td>\n",
       "      <td>0.129903</td>\n",
       "      <td>0</td>\n",
       "      <td>2</td>\n",
       "    </tr>\n",
       "    <tr>\n",
       "      <th>2016-04-10 00:00:00+00:00</th>\n",
       "      <td>0.018040</td>\n",
       "      <td>0.147729</td>\n",
       "      <td>0</td>\n",
       "      <td>2</td>\n",
       "    </tr>\n",
       "    <tr>\n",
       "      <th>2016-04-17 00:00:00+00:00</th>\n",
       "      <td>0.013021</td>\n",
       "      <td>0.130831</td>\n",
       "      <td>0</td>\n",
       "      <td>3</td>\n",
       "    </tr>\n",
       "    <tr>\n",
       "      <th>2016-04-24 00:00:00+00:00</th>\n",
       "      <td>0.016964</td>\n",
       "      <td>0.146724</td>\n",
       "      <td>0</td>\n",
       "      <td>3</td>\n",
       "    </tr>\n",
       "    <tr>\n",
       "      <th>2016-05-01 00:00:00+00:00</th>\n",
       "      <td>0.019376</td>\n",
       "      <td>0.148891</td>\n",
       "      <td>0</td>\n",
       "      <td>3</td>\n",
       "    </tr>\n",
       "    <tr>\n",
       "      <th>2016-05-08 00:00:00+00:00</th>\n",
       "      <td>0.022607</td>\n",
       "      <td>0.163813</td>\n",
       "      <td>0</td>\n",
       "      <td>3</td>\n",
       "    </tr>\n",
       "    <tr>\n",
       "      <th>2016-05-15 00:00:00+00:00</th>\n",
       "      <td>0.023644</td>\n",
       "      <td>0.164624</td>\n",
       "      <td>0</td>\n",
       "      <td>4</td>\n",
       "    </tr>\n",
       "    <tr>\n",
       "      <th>2016-05-22 00:00:00+00:00</th>\n",
       "      <td>0.025108</td>\n",
       "      <td>0.170393</td>\n",
       "      <td>0</td>\n",
       "      <td>2</td>\n",
       "    </tr>\n",
       "    <tr>\n",
       "      <th>2016-05-29 00:00:00+00:00</th>\n",
       "      <td>0.023440</td>\n",
       "      <td>0.159464</td>\n",
       "      <td>0</td>\n",
       "      <td>3</td>\n",
       "    </tr>\n",
       "    <tr>\n",
       "      <th>2016-06-05 00:00:00+00:00</th>\n",
       "      <td>0.023225</td>\n",
       "      <td>0.165240</td>\n",
       "      <td>0</td>\n",
       "      <td>4</td>\n",
       "    </tr>\n",
       "    <tr>\n",
       "      <th>2016-06-12 00:00:00+00:00</th>\n",
       "      <td>0.026122</td>\n",
       "      <td>0.178204</td>\n",
       "      <td>0</td>\n",
       "      <td>4</td>\n",
       "    </tr>\n",
       "  </tbody>\n",
       "</table>\n",
       "</div>"
      ],
      "text/plain": [
       "                               mean       std  min  max\n",
       "ScheduledDay                                           \n",
       "2016-01-10 00:00:00+00:00  0.055556  0.235702    0    1\n",
       "2016-01-17 00:00:00+00:00  0.000000  0.000000    0    0\n",
       "2016-01-24 00:00:00+00:00  0.083333  0.288675    0    1\n",
       "2016-01-31 00:00:00+00:00  0.105263  0.315302    0    1\n",
       "2016-02-07 00:00:00+00:00  0.055556  0.232311    0    1\n",
       "2016-02-14 00:00:00+00:00  0.086957  0.288104    0    1\n",
       "2016-02-21 00:00:00+00:00  0.048387  0.216335    0    1\n",
       "2016-02-28 00:00:00+00:00  0.046512  0.245601    0    2\n",
       "2016-03-06 00:00:00+00:00  0.010067  0.099885    0    1\n",
       "2016-03-13 00:00:00+00:00  0.023316  0.182267    0    2\n",
       "2016-03-20 00:00:00+00:00  0.013158  0.137333    0    2\n",
       "2016-03-27 00:00:00+00:00  0.005525  0.074192    0    1\n",
       "2016-04-03 00:00:00+00:00  0.014806  0.129903    0    2\n",
       "2016-04-10 00:00:00+00:00  0.018040  0.147729    0    2\n",
       "2016-04-17 00:00:00+00:00  0.013021  0.130831    0    3\n",
       "2016-04-24 00:00:00+00:00  0.016964  0.146724    0    3\n",
       "2016-05-01 00:00:00+00:00  0.019376  0.148891    0    3\n",
       "2016-05-08 00:00:00+00:00  0.022607  0.163813    0    3\n",
       "2016-05-15 00:00:00+00:00  0.023644  0.164624    0    4\n",
       "2016-05-22 00:00:00+00:00  0.025108  0.170393    0    2\n",
       "2016-05-29 00:00:00+00:00  0.023440  0.159464    0    3\n",
       "2016-06-05 00:00:00+00:00  0.023225  0.165240    0    4\n",
       "2016-06-12 00:00:00+00:00  0.026122  0.178204    0    4"
      ]
     },
     "execution_count": 90,
     "metadata": {},
     "output_type": "execute_result"
    }
   ],
   "source": [
    "ts.loc['2016', 'Handcap'].resample('W').agg(['mean', 'std', 'min', 'max'])"
   ]
  },
  {
   "cell_type": "code",
   "execution_count": 91,
   "id": "8509feaf-e0ce-4c66-a0e7-ac808f138912",
   "metadata": {
    "canvas": {
     "comments": [],
     "componentType": "CodeCell",
     "copiedOriginId": null,
     "diskcache": false,
     "headerColor": "none",
     "id": "b84fa78e-4689-4481-9632-7ba521d38b65",
     "isComponent": false,
     "name": "",
     "parents": []
    }
   },
   "outputs": [
    {
     "data": {
      "image/png": "[encoded data removed]",
      "text/plain": [
       "<Figure size 504x360 with 1 Axes>"
      ]
     },
     "metadata": {
      "needs_background": "light"
     },
     "output_type": "display_data"
    }
   ],
   "source": [
    "plt.figure(figsize=(7, 5))\n",
    "ts.loc['2016', 'SMS_received'].resample('M').mean().plot(label='average per month', lw=3, ls=':', alpha=0.8)\n",
    "ts.loc['2016', 'SMS_received'].resample('W').mean().plot(label='average per week', lw=2, ls='--', alpha=0.8)\n",
    "ts.loc['2016', 'SMS_received'].resample('D').mean().plot(label='average per day', lw=3, ls=':', alpha=0.8)\n",
    "ts.loc['2016', 'SMS_received'].resample('M').std().plot(label='std per month', lw=2, ls='--', alpha=0.8)\n",
    "ts.loc['2016', 'SMS_received'].resample('W').std().plot(label='std per week', lw=2, ls='--', alpha=0.8)\n",
    "plt.title(\"SMS_received - ScheduledDay \")\n",
    "plt.legend()\n",
    "plt.show()"
   ]
  },
  {
   "cell_type": "code",
   "execution_count": 92,
   "id": "fac29c1b-4e7b-4a1f-8000-80ef8bc3cf3e",
   "metadata": {
    "canvas": {
     "comments": [],
     "componentType": "CodeCell",
     "copiedOriginId": null,
     "diskcache": false,
     "headerColor": "none",
     "id": "73fd73f9-a57c-4619-bbca-0c2c2a258fee",
     "isComponent": false,
     "name": "",
     "parents": []
    }
   },
   "outputs": [
    {
     "data": {
      "text/html": [
       "<div>\n",
       "<style scoped>\n",
       "    .dataframe tbody tr th:only-of-type {\n",
       "        vertical-align: middle;\n",
       "    }\n",
       "\n",
       "    .dataframe tbody tr th {\n",
       "        vertical-align: top;\n",
       "    }\n",
       "\n",
       "    .dataframe thead th {\n",
       "        text-align: right;\n",
       "    }\n",
       "</style>\n",
       "<table border=\"1\" class=\"dataframe\">\n",
       "  <thead>\n",
       "    <tr style=\"text-align: right;\">\n",
       "      <th></th>\n",
       "      <th>mean</th>\n",
       "      <th>std</th>\n",
       "      <th>min</th>\n",
       "      <th>max</th>\n",
       "    </tr>\n",
       "    <tr>\n",
       "      <th>ScheduledDay</th>\n",
       "      <th></th>\n",
       "      <th></th>\n",
       "      <th></th>\n",
       "      <th></th>\n",
       "    </tr>\n",
       "  </thead>\n",
       "  <tbody>\n",
       "    <tr>\n",
       "      <th>2016-01-31 00:00:00+00:00</th>\n",
       "      <td>0.583333</td>\n",
       "      <td>0.497167</td>\n",
       "      <td>0</td>\n",
       "      <td>1</td>\n",
       "    </tr>\n",
       "    <tr>\n",
       "      <th>2016-02-29 00:00:00+00:00</th>\n",
       "      <td>0.592857</td>\n",
       "      <td>0.492182</td>\n",
       "      <td>0</td>\n",
       "      <td>1</td>\n",
       "    </tr>\n",
       "    <tr>\n",
       "      <th>2016-03-31 00:00:00+00:00</th>\n",
       "      <td>0.625873</td>\n",
       "      <td>0.483964</td>\n",
       "      <td>0</td>\n",
       "      <td>1</td>\n",
       "    </tr>\n",
       "    <tr>\n",
       "      <th>2016-04-30 00:00:00+00:00</th>\n",
       "      <td>0.575000</td>\n",
       "      <td>0.494353</td>\n",
       "      <td>0</td>\n",
       "      <td>1</td>\n",
       "    </tr>\n",
       "    <tr>\n",
       "      <th>2016-05-31 00:00:00+00:00</th>\n",
       "      <td>0.244566</td>\n",
       "      <td>0.429833</td>\n",
       "      <td>0</td>\n",
       "      <td>1</td>\n",
       "    </tr>\n",
       "    <tr>\n",
       "      <th>2016-06-30 00:00:00+00:00</th>\n",
       "      <td>0.156740</td>\n",
       "      <td>0.363569</td>\n",
       "      <td>0</td>\n",
       "      <td>1</td>\n",
       "    </tr>\n",
       "  </tbody>\n",
       "</table>\n",
       "</div>"
      ],
      "text/plain": [
       "                               mean       std  min  max\n",
       "ScheduledDay                                           \n",
       "2016-01-31 00:00:00+00:00  0.583333  0.497167    0    1\n",
       "2016-02-29 00:00:00+00:00  0.592857  0.492182    0    1\n",
       "2016-03-31 00:00:00+00:00  0.625873  0.483964    0    1\n",
       "2016-04-30 00:00:00+00:00  0.575000  0.494353    0    1\n",
       "2016-05-31 00:00:00+00:00  0.244566  0.429833    0    1\n",
       "2016-06-30 00:00:00+00:00  0.156740  0.363569    0    1"
      ]
     },
     "execution_count": 92,
     "metadata": {},
     "output_type": "execute_result"
    }
   ],
   "source": [
    "ts.loc['2016', 'SMS_received'].resample('M').agg(['mean', 'std', 'min', 'max'])"
   ]
  },
  {
   "cell_type": "code",
   "execution_count": 93,
   "id": "7168c2f3-1137-490c-864f-10d32c965fc6",
   "metadata": {
    "canvas": {
     "comments": [],
     "componentType": "CodeCell",
     "copiedOriginId": null,
     "diskcache": false,
     "headerColor": "none",
     "id": "9f9c6815-9101-4471-a99f-5e3d30805bff",
     "isComponent": false,
     "name": "",
     "parents": []
    }
   },
   "outputs": [
    {
     "data": {
      "text/html": [
       "<div>\n",
       "<style scoped>\n",
       "    .dataframe tbody tr th:only-of-type {\n",
       "        vertical-align: middle;\n",
       "    }\n",
       "\n",
       "    .dataframe tbody tr th {\n",
       "        vertical-align: top;\n",
       "    }\n",
       "\n",
       "    .dataframe thead th {\n",
       "        text-align: right;\n",
       "    }\n",
       "</style>\n",
       "<table border=\"1\" class=\"dataframe\">\n",
       "  <thead>\n",
       "    <tr style=\"text-align: right;\">\n",
       "      <th></th>\n",
       "      <th>mean</th>\n",
       "      <th>std</th>\n",
       "      <th>min</th>\n",
       "      <th>max</th>\n",
       "    </tr>\n",
       "    <tr>\n",
       "      <th>ScheduledDay</th>\n",
       "      <th></th>\n",
       "      <th></th>\n",
       "      <th></th>\n",
       "      <th></th>\n",
       "    </tr>\n",
       "  </thead>\n",
       "  <tbody>\n",
       "    <tr>\n",
       "      <th>2016-01-10 00:00:00+00:00</th>\n",
       "      <td>0.333333</td>\n",
       "      <td>0.485071</td>\n",
       "      <td>0</td>\n",
       "      <td>1</td>\n",
       "    </tr>\n",
       "    <tr>\n",
       "      <th>2016-01-17 00:00:00+00:00</th>\n",
       "      <td>1.000000</td>\n",
       "      <td>0.000000</td>\n",
       "      <td>1</td>\n",
       "      <td>1</td>\n",
       "    </tr>\n",
       "    <tr>\n",
       "      <th>2016-01-24 00:00:00+00:00</th>\n",
       "      <td>0.416667</td>\n",
       "      <td>0.514929</td>\n",
       "      <td>0</td>\n",
       "      <td>1</td>\n",
       "    </tr>\n",
       "    <tr>\n",
       "      <th>2016-01-31 00:00:00+00:00</th>\n",
       "      <td>0.684211</td>\n",
       "      <td>0.477567</td>\n",
       "      <td>0</td>\n",
       "      <td>1</td>\n",
       "    </tr>\n",
       "    <tr>\n",
       "      <th>2016-02-07 00:00:00+00:00</th>\n",
       "      <td>0.750000</td>\n",
       "      <td>0.439155</td>\n",
       "      <td>0</td>\n",
       "      <td>1</td>\n",
       "    </tr>\n",
       "    <tr>\n",
       "      <th>2016-02-14 00:00:00+00:00</th>\n",
       "      <td>0.347826</td>\n",
       "      <td>0.486985</td>\n",
       "      <td>0</td>\n",
       "      <td>1</td>\n",
       "    </tr>\n",
       "    <tr>\n",
       "      <th>2016-02-21 00:00:00+00:00</th>\n",
       "      <td>0.500000</td>\n",
       "      <td>0.504082</td>\n",
       "      <td>0</td>\n",
       "      <td>1</td>\n",
       "    </tr>\n",
       "    <tr>\n",
       "      <th>2016-02-28 00:00:00+00:00</th>\n",
       "      <td>0.635659</td>\n",
       "      <td>0.483121</td>\n",
       "      <td>0</td>\n",
       "      <td>1</td>\n",
       "    </tr>\n",
       "    <tr>\n",
       "      <th>2016-03-06 00:00:00+00:00</th>\n",
       "      <td>0.591723</td>\n",
       "      <td>0.491790</td>\n",
       "      <td>0</td>\n",
       "      <td>1</td>\n",
       "    </tr>\n",
       "    <tr>\n",
       "      <th>2016-03-13 00:00:00+00:00</th>\n",
       "      <td>0.642487</td>\n",
       "      <td>0.479890</td>\n",
       "      <td>0</td>\n",
       "      <td>1</td>\n",
       "    </tr>\n",
       "    <tr>\n",
       "      <th>2016-03-20 00:00:00+00:00</th>\n",
       "      <td>0.612573</td>\n",
       "      <td>0.487519</td>\n",
       "      <td>0</td>\n",
       "      <td>1</td>\n",
       "    </tr>\n",
       "    <tr>\n",
       "      <th>2016-03-27 00:00:00+00:00</th>\n",
       "      <td>0.629834</td>\n",
       "      <td>0.483294</td>\n",
       "      <td>0</td>\n",
       "      <td>1</td>\n",
       "    </tr>\n",
       "    <tr>\n",
       "      <th>2016-04-03 00:00:00+00:00</th>\n",
       "      <td>0.710706</td>\n",
       "      <td>0.453564</td>\n",
       "      <td>0</td>\n",
       "      <td>1</td>\n",
       "    </tr>\n",
       "    <tr>\n",
       "      <th>2016-04-10 00:00:00+00:00</th>\n",
       "      <td>0.675687</td>\n",
       "      <td>0.468214</td>\n",
       "      <td>0</td>\n",
       "      <td>1</td>\n",
       "    </tr>\n",
       "    <tr>\n",
       "      <th>2016-04-17 00:00:00+00:00</th>\n",
       "      <td>0.564867</td>\n",
       "      <td>0.495833</td>\n",
       "      <td>0</td>\n",
       "      <td>1</td>\n",
       "    </tr>\n",
       "    <tr>\n",
       "      <th>2016-04-24 00:00:00+00:00</th>\n",
       "      <td>0.558934</td>\n",
       "      <td>0.496569</td>\n",
       "      <td>0</td>\n",
       "      <td>1</td>\n",
       "    </tr>\n",
       "    <tr>\n",
       "      <th>2016-05-01 00:00:00+00:00</th>\n",
       "      <td>0.553755</td>\n",
       "      <td>0.497121</td>\n",
       "      <td>0</td>\n",
       "      <td>1</td>\n",
       "    </tr>\n",
       "    <tr>\n",
       "      <th>2016-05-08 00:00:00+00:00</th>\n",
       "      <td>0.227406</td>\n",
       "      <td>0.419168</td>\n",
       "      <td>0</td>\n",
       "      <td>1</td>\n",
       "    </tr>\n",
       "    <tr>\n",
       "      <th>2016-05-15 00:00:00+00:00</th>\n",
       "      <td>0.130263</td>\n",
       "      <td>0.336602</td>\n",
       "      <td>0</td>\n",
       "      <td>1</td>\n",
       "    </tr>\n",
       "    <tr>\n",
       "      <th>2016-05-22 00:00:00+00:00</th>\n",
       "      <td>0.332944</td>\n",
       "      <td>0.471280</td>\n",
       "      <td>0</td>\n",
       "      <td>1</td>\n",
       "    </tr>\n",
       "    <tr>\n",
       "      <th>2016-05-29 00:00:00+00:00</th>\n",
       "      <td>0.432689</td>\n",
       "      <td>0.495488</td>\n",
       "      <td>0</td>\n",
       "      <td>1</td>\n",
       "    </tr>\n",
       "    <tr>\n",
       "      <th>2016-06-05 00:00:00+00:00</th>\n",
       "      <td>0.235607</td>\n",
       "      <td>0.424392</td>\n",
       "      <td>0</td>\n",
       "      <td>1</td>\n",
       "    </tr>\n",
       "    <tr>\n",
       "      <th>2016-06-12 00:00:00+00:00</th>\n",
       "      <td>0.000000</td>\n",
       "      <td>0.000000</td>\n",
       "      <td>0</td>\n",
       "      <td>0</td>\n",
       "    </tr>\n",
       "  </tbody>\n",
       "</table>\n",
       "</div>"
      ],
      "text/plain": [
       "                               mean       std  min  max\n",
       "ScheduledDay                                           \n",
       "2016-01-10 00:00:00+00:00  0.333333  0.485071    0    1\n",
       "2016-01-17 00:00:00+00:00  1.000000  0.000000    1    1\n",
       "2016-01-24 00:00:00+00:00  0.416667  0.514929    0    1\n",
       "2016-01-31 00:00:00+00:00  0.684211  0.477567    0    1\n",
       "2016-02-07 00:00:00+00:00  0.750000  0.439155    0    1\n",
       "2016-02-14 00:00:00+00:00  0.347826  0.486985    0    1\n",
       "2016-02-21 00:00:00+00:00  0.500000  0.504082    0    1\n",
       "2016-02-28 00:00:00+00:00  0.635659  0.483121    0    1\n",
       "2016-03-06 00:00:00+00:00  0.591723  0.491790    0    1\n",
       "2016-03-13 00:00:00+00:00  0.642487  0.479890    0    1\n",
       "2016-03-20 00:00:00+00:00  0.612573  0.487519    0    1\n",
       "2016-03-27 00:00:00+00:00  0.629834  0.483294    0    1\n",
       "2016-04-03 00:00:00+00:00  0.710706  0.453564    0    1\n",
       "2016-04-10 00:00:00+00:00  0.675687  0.468214    0    1\n",
       "2016-04-17 00:00:00+00:00  0.564867  0.495833    0    1\n",
       "2016-04-24 00:00:00+00:00  0.558934  0.496569    0    1\n",
       "2016-05-01 00:00:00+00:00  0.553755  0.497121    0    1\n",
       "2016-05-08 00:00:00+00:00  0.227406  0.419168    0    1\n",
       "2016-05-15 00:00:00+00:00  0.130263  0.336602    0    1\n",
       "2016-05-22 00:00:00+00:00  0.332944  0.471280    0    1\n",
       "2016-05-29 00:00:00+00:00  0.432689  0.495488    0    1\n",
       "2016-06-05 00:00:00+00:00  0.235607  0.424392    0    1\n",
       "2016-06-12 00:00:00+00:00  0.000000  0.000000    0    0"
      ]
     },
     "execution_count": 93,
     "metadata": {},
     "output_type": "execute_result"
    }
   ],
   "source": [
    "ts.loc['2016', 'SMS_received'].resample('W').agg(['mean', 'std', 'min', 'max'])"
   ]
  },
  {
   "cell_type": "code",
   "execution_count": 94,
   "id": "9384b4bc-7b9f-44fc-b908-5dd97c1a56ff",
   "metadata": {
    "canvas": {
     "comments": [],
     "componentType": "CodeCell",
     "copiedOriginId": null,
     "diskcache": false,
     "headerColor": "none",
     "id": "3e5e3bf6-b6d0-4b75-89fa-0ae023bf00ca",
     "isComponent": false,
     "name": "",
     "parents": []
    }
   },
   "outputs": [
    {
     "data": {
      "image/png": "[encoded data removed]",
      "text/plain": [
       "<Figure size 504x360 with 1 Axes>"
      ]
     },
     "metadata": {
      "needs_background": "light"
     },
     "output_type": "display_data"
    }
   ],
   "source": [
    "plt.figure(figsize=(7, 5))\n",
    "ts.loc['2016', 'No-show'].resample('M').mean().plot(label='average per month', lw=3, ls=':', alpha=0.8)\n",
    "ts.loc['2016', 'No-show'].resample('W').mean().plot(label='average per weak', lw=2, ls='--', alpha=0.8)\n",
    "ts.loc['2016', 'No-show'].resample('D').mean().plot(label='average per day', lw=3, ls=':', alpha=0.8)\n",
    "ts.loc['2016', 'No-show'].resample('M').std().plot(label='std per month', lw=2, ls='--', alpha=0.8)\n",
    "ts.loc['2016', 'No-show'].resample('W').std().plot(label='std per week', lw=2, ls='--', alpha=0.8)\n",
    "ts.loc['2016', 'No-show'].rolling(window=7)\n",
    "plt.title(\"No-show - ScheduledDay\")\n",
    "plt.legend()\n",
    "plt.show()"
   ]
  },
  {
   "cell_type": "code",
   "execution_count": 95,
   "id": "abeb87d4-7fba-42fe-80a8-3ed1d786e1d5",
   "metadata": {
    "canvas": {
     "comments": [],
     "componentType": "CodeCell",
     "copiedOriginId": null,
     "diskcache": false,
     "headerColor": "none",
     "id": "e98293a6-8dba-4559-b46f-dac95a5101f2",
     "isComponent": false,
     "name": "",
     "parents": []
    }
   },
   "outputs": [
    {
     "data": {
      "text/html": [
       "<div>\n",
       "<style scoped>\n",
       "    .dataframe tbody tr th:only-of-type {\n",
       "        vertical-align: middle;\n",
       "    }\n",
       "\n",
       "    .dataframe tbody tr th {\n",
       "        vertical-align: top;\n",
       "    }\n",
       "\n",
       "    .dataframe thead th {\n",
       "        text-align: right;\n",
       "    }\n",
       "</style>\n",
       "<table border=\"1\" class=\"dataframe\">\n",
       "  <thead>\n",
       "    <tr style=\"text-align: right;\">\n",
       "      <th></th>\n",
       "      <th>mean</th>\n",
       "      <th>std</th>\n",
       "      <th>min</th>\n",
       "      <th>max</th>\n",
       "    </tr>\n",
       "    <tr>\n",
       "      <th>ScheduledDay</th>\n",
       "      <th></th>\n",
       "      <th></th>\n",
       "      <th></th>\n",
       "      <th></th>\n",
       "    </tr>\n",
       "  </thead>\n",
       "  <tbody>\n",
       "    <tr>\n",
       "      <th>2016-01-31 00:00:00+00:00</th>\n",
       "      <td>0.700000</td>\n",
       "      <td>0.462125</td>\n",
       "      <td>0</td>\n",
       "      <td>1</td>\n",
       "    </tr>\n",
       "    <tr>\n",
       "      <th>2016-02-29 00:00:00+00:00</th>\n",
       "      <td>0.710714</td>\n",
       "      <td>0.454243</td>\n",
       "      <td>0</td>\n",
       "      <td>1</td>\n",
       "    </tr>\n",
       "    <tr>\n",
       "      <th>2016-03-31 00:00:00+00:00</th>\n",
       "      <td>0.670299</td>\n",
       "      <td>0.470170</td>\n",
       "      <td>0</td>\n",
       "      <td>1</td>\n",
       "    </tr>\n",
       "    <tr>\n",
       "      <th>2016-04-30 00:00:00+00:00</th>\n",
       "      <td>0.691242</td>\n",
       "      <td>0.461990</td>\n",
       "      <td>0</td>\n",
       "      <td>1</td>\n",
       "    </tr>\n",
       "    <tr>\n",
       "      <th>2016-05-31 00:00:00+00:00</th>\n",
       "      <td>0.826088</td>\n",
       "      <td>0.379037</td>\n",
       "      <td>0</td>\n",
       "      <td>1</td>\n",
       "    </tr>\n",
       "    <tr>\n",
       "      <th>2016-06-30 00:00:00+00:00</th>\n",
       "      <td>0.899468</td>\n",
       "      <td>0.300719</td>\n",
       "      <td>0</td>\n",
       "      <td>1</td>\n",
       "    </tr>\n",
       "  </tbody>\n",
       "</table>\n",
       "</div>"
      ],
      "text/plain": [
       "                               mean       std  min  max\n",
       "ScheduledDay                                           \n",
       "2016-01-31 00:00:00+00:00  0.700000  0.462125    0    1\n",
       "2016-02-29 00:00:00+00:00  0.710714  0.454243    0    1\n",
       "2016-03-31 00:00:00+00:00  0.670299  0.470170    0    1\n",
       "2016-04-30 00:00:00+00:00  0.691242  0.461990    0    1\n",
       "2016-05-31 00:00:00+00:00  0.826088  0.379037    0    1\n",
       "2016-06-30 00:00:00+00:00  0.899468  0.300719    0    1"
      ]
     },
     "execution_count": 95,
     "metadata": {},
     "output_type": "execute_result"
    }
   ],
   "source": [
    "ts.loc['2016', 'No-show'].resample('M').agg(['mean', 'std', 'min', 'max'])"
   ]
  },
  {
   "cell_type": "code",
   "execution_count": 96,
   "id": "fee54221-46e7-4343-bf9b-15cabcb4bb8a",
   "metadata": {
    "canvas": {
     "comments": [],
     "componentType": "CodeCell",
     "copiedOriginId": null,
     "diskcache": false,
     "headerColor": "none",
     "id": "c8e0796b-8c0e-47ef-8d60-d0276eb3f3a1",
     "isComponent": false,
     "name": "",
     "parents": []
    }
   },
   "outputs": [
    {
     "data": {
      "text/html": [
       "<div>\n",
       "<style scoped>\n",
       "    .dataframe tbody tr th:only-of-type {\n",
       "        vertical-align: middle;\n",
       "    }\n",
       "\n",
       "    .dataframe tbody tr th {\n",
       "        vertical-align: top;\n",
       "    }\n",
       "\n",
       "    .dataframe thead th {\n",
       "        text-align: right;\n",
       "    }\n",
       "</style>\n",
       "<table border=\"1\" class=\"dataframe\">\n",
       "  <thead>\n",
       "    <tr style=\"text-align: right;\">\n",
       "      <th></th>\n",
       "      <th>mean</th>\n",
       "      <th>std</th>\n",
       "      <th>min</th>\n",
       "      <th>max</th>\n",
       "    </tr>\n",
       "    <tr>\n",
       "      <th>ScheduledDay</th>\n",
       "      <th></th>\n",
       "      <th></th>\n",
       "      <th></th>\n",
       "      <th></th>\n",
       "    </tr>\n",
       "  </thead>\n",
       "  <tbody>\n",
       "    <tr>\n",
       "      <th>2016-01-10 00:00:00+00:00</th>\n",
       "      <td>0.666667</td>\n",
       "      <td>0.485071</td>\n",
       "      <td>0</td>\n",
       "      <td>1</td>\n",
       "    </tr>\n",
       "    <tr>\n",
       "      <th>2016-01-17 00:00:00+00:00</th>\n",
       "      <td>0.636364</td>\n",
       "      <td>0.504525</td>\n",
       "      <td>0</td>\n",
       "      <td>1</td>\n",
       "    </tr>\n",
       "    <tr>\n",
       "      <th>2016-01-24 00:00:00+00:00</th>\n",
       "      <td>0.833333</td>\n",
       "      <td>0.389249</td>\n",
       "      <td>0</td>\n",
       "      <td>1</td>\n",
       "    </tr>\n",
       "    <tr>\n",
       "      <th>2016-01-31 00:00:00+00:00</th>\n",
       "      <td>0.684211</td>\n",
       "      <td>0.477567</td>\n",
       "      <td>0</td>\n",
       "      <td>1</td>\n",
       "    </tr>\n",
       "    <tr>\n",
       "      <th>2016-02-07 00:00:00+00:00</th>\n",
       "      <td>0.750000</td>\n",
       "      <td>0.439155</td>\n",
       "      <td>0</td>\n",
       "      <td>1</td>\n",
       "    </tr>\n",
       "    <tr>\n",
       "      <th>2016-02-14 00:00:00+00:00</th>\n",
       "      <td>0.913043</td>\n",
       "      <td>0.288104</td>\n",
       "      <td>0</td>\n",
       "      <td>1</td>\n",
       "    </tr>\n",
       "    <tr>\n",
       "      <th>2016-02-21 00:00:00+00:00</th>\n",
       "      <td>0.661290</td>\n",
       "      <td>0.477134</td>\n",
       "      <td>0</td>\n",
       "      <td>1</td>\n",
       "    </tr>\n",
       "    <tr>\n",
       "      <th>2016-02-28 00:00:00+00:00</th>\n",
       "      <td>0.658915</td>\n",
       "      <td>0.475922</td>\n",
       "      <td>0</td>\n",
       "      <td>1</td>\n",
       "    </tr>\n",
       "    <tr>\n",
       "      <th>2016-03-06 00:00:00+00:00</th>\n",
       "      <td>0.747204</td>\n",
       "      <td>0.434858</td>\n",
       "      <td>0</td>\n",
       "      <td>1</td>\n",
       "    </tr>\n",
       "    <tr>\n",
       "      <th>2016-03-13 00:00:00+00:00</th>\n",
       "      <td>0.645078</td>\n",
       "      <td>0.479111</td>\n",
       "      <td>0</td>\n",
       "      <td>1</td>\n",
       "    </tr>\n",
       "    <tr>\n",
       "      <th>2016-03-20 00:00:00+00:00</th>\n",
       "      <td>0.628655</td>\n",
       "      <td>0.483518</td>\n",
       "      <td>0</td>\n",
       "      <td>1</td>\n",
       "    </tr>\n",
       "    <tr>\n",
       "      <th>2016-03-27 00:00:00+00:00</th>\n",
       "      <td>0.661142</td>\n",
       "      <td>0.473758</td>\n",
       "      <td>0</td>\n",
       "      <td>1</td>\n",
       "    </tr>\n",
       "    <tr>\n",
       "      <th>2016-04-03 00:00:00+00:00</th>\n",
       "      <td>0.674260</td>\n",
       "      <td>0.468784</td>\n",
       "      <td>0</td>\n",
       "      <td>1</td>\n",
       "    </tr>\n",
       "    <tr>\n",
       "      <th>2016-04-10 00:00:00+00:00</th>\n",
       "      <td>0.677327</td>\n",
       "      <td>0.467595</td>\n",
       "      <td>0</td>\n",
       "      <td>1</td>\n",
       "    </tr>\n",
       "    <tr>\n",
       "      <th>2016-04-17 00:00:00+00:00</th>\n",
       "      <td>0.646307</td>\n",
       "      <td>0.478172</td>\n",
       "      <td>0</td>\n",
       "      <td>1</td>\n",
       "    </tr>\n",
       "    <tr>\n",
       "      <th>2016-04-24 00:00:00+00:00</th>\n",
       "      <td>0.668649</td>\n",
       "      <td>0.470751</td>\n",
       "      <td>0</td>\n",
       "      <td>1</td>\n",
       "    </tr>\n",
       "    <tr>\n",
       "      <th>2016-05-01 00:00:00+00:00</th>\n",
       "      <td>0.714792</td>\n",
       "      <td>0.451531</td>\n",
       "      <td>0</td>\n",
       "      <td>1</td>\n",
       "    </tr>\n",
       "    <tr>\n",
       "      <th>2016-05-08 00:00:00+00:00</th>\n",
       "      <td>0.802667</td>\n",
       "      <td>0.397996</td>\n",
       "      <td>0</td>\n",
       "      <td>1</td>\n",
       "    </tr>\n",
       "    <tr>\n",
       "      <th>2016-05-15 00:00:00+00:00</th>\n",
       "      <td>0.823342</td>\n",
       "      <td>0.381389</td>\n",
       "      <td>0</td>\n",
       "      <td>1</td>\n",
       "    </tr>\n",
       "    <tr>\n",
       "      <th>2016-05-22 00:00:00+00:00</th>\n",
       "      <td>0.835280</td>\n",
       "      <td>0.370939</td>\n",
       "      <td>0</td>\n",
       "      <td>1</td>\n",
       "    </tr>\n",
       "    <tr>\n",
       "      <th>2016-05-29 00:00:00+00:00</th>\n",
       "      <td>0.848115</td>\n",
       "      <td>0.358938</td>\n",
       "      <td>0</td>\n",
       "      <td>1</td>\n",
       "    </tr>\n",
       "    <tr>\n",
       "      <th>2016-06-05 00:00:00+00:00</th>\n",
       "      <td>0.868066</td>\n",
       "      <td>0.338431</td>\n",
       "      <td>0</td>\n",
       "      <td>1</td>\n",
       "    </tr>\n",
       "    <tr>\n",
       "      <th>2016-06-12 00:00:00+00:00</th>\n",
       "      <td>0.933731</td>\n",
       "      <td>0.248774</td>\n",
       "      <td>0</td>\n",
       "      <td>1</td>\n",
       "    </tr>\n",
       "  </tbody>\n",
       "</table>\n",
       "</div>"
      ],
      "text/plain": [
       "                               mean       std  min  max\n",
       "ScheduledDay                                           \n",
       "2016-01-10 00:00:00+00:00  0.666667  0.485071    0    1\n",
       "2016-01-17 00:00:00+00:00  0.636364  0.504525    0    1\n",
       "2016-01-24 00:00:00+00:00  0.833333  0.389249    0    1\n",
       "2016-01-31 00:00:00+00:00  0.684211  0.477567    0    1\n",
       "2016-02-07 00:00:00+00:00  0.750000  0.439155    0    1\n",
       "2016-02-14 00:00:00+00:00  0.913043  0.288104    0    1\n",
       "2016-02-21 00:00:00+00:00  0.661290  0.477134    0    1\n",
       "2016-02-28 00:00:00+00:00  0.658915  0.475922    0    1\n",
       "2016-03-06 00:00:00+00:00  0.747204  0.434858    0    1\n",
       "2016-03-13 00:00:00+00:00  0.645078  0.479111    0    1\n",
       "2016-03-20 00:00:00+00:00  0.628655  0.483518    0    1\n",
       "2016-03-27 00:00:00+00:00  0.661142  0.473758    0    1\n",
       "2016-04-03 00:00:00+00:00  0.674260  0.468784    0    1\n",
       "2016-04-10 00:00:00+00:00  0.677327  0.467595    0    1\n",
       "2016-04-17 00:00:00+00:00  0.646307  0.478172    0    1\n",
       "2016-04-24 00:00:00+00:00  0.668649  0.470751    0    1\n",
       "2016-05-01 00:00:00+00:00  0.714792  0.451531    0    1\n",
       "2016-05-08 00:00:00+00:00  0.802667  0.397996    0    1\n",
       "2016-05-15 00:00:00+00:00  0.823342  0.381389    0    1\n",
       "2016-05-22 00:00:00+00:00  0.835280  0.370939    0    1\n",
       "2016-05-29 00:00:00+00:00  0.848115  0.358938    0    1\n",
       "2016-06-05 00:00:00+00:00  0.868066  0.338431    0    1\n",
       "2016-06-12 00:00:00+00:00  0.933731  0.248774    0    1"
      ]
     },
     "execution_count": 96,
     "metadata": {},
     "output_type": "execute_result"
    }
   ],
   "source": [
    "ts.loc['2016', 'No-show'].resample('W').agg(['mean', 'std', 'min', 'max'])"
   ]
  },
  {
   "cell_type": "code",
   "execution_count": 97,
   "id": "0946b966-f179-4c24-88df-50e23a462b73",
   "metadata": {
    "canvas": {
     "comments": [],
     "componentType": "CodeCell",
     "copiedOriginId": null,
     "diskcache": false,
     "headerColor": "none",
     "id": "724054a6-22c0-424b-8f7d-d395646ae1b6",
     "isComponent": false,
     "name": "",
     "parents": []
    }
   },
   "outputs": [
    {
     "data": {
      "text/html": [
       "<div>\n",
       "<style scoped>\n",
       "    .dataframe tbody tr th:only-of-type {\n",
       "        vertical-align: middle;\n",
       "    }\n",
       "\n",
       "    .dataframe tbody tr th {\n",
       "        vertical-align: top;\n",
       "    }\n",
       "\n",
       "    .dataframe thead th {\n",
       "        text-align: right;\n",
       "    }\n",
       "</style>\n",
       "<table border=\"1\" class=\"dataframe\">\n",
       "  <thead>\n",
       "    <tr style=\"text-align: right;\">\n",
       "      <th></th>\n",
       "      <th>Gender</th>\n",
       "      <th>AppointmentDay</th>\n",
       "      <th>Age</th>\n",
       "      <th>Neighbourhood</th>\n",
       "      <th>Scholarship</th>\n",
       "      <th>Hipertension</th>\n",
       "      <th>Diabetes</th>\n",
       "      <th>Alcoholism</th>\n",
       "      <th>Handcap</th>\n",
       "      <th>SMS_received</th>\n",
       "      <th>No_show</th>\n",
       "    </tr>\n",
       "    <tr>\n",
       "      <th>ScheduledDay</th>\n",
       "      <th></th>\n",
       "      <th></th>\n",
       "      <th></th>\n",
       "      <th></th>\n",
       "      <th></th>\n",
       "      <th></th>\n",
       "      <th></th>\n",
       "      <th></th>\n",
       "      <th></th>\n",
       "      <th></th>\n",
       "      <th></th>\n",
       "    </tr>\n",
       "  </thead>\n",
       "  <tbody>\n",
       "    <tr>\n",
       "      <th>2016-04-29 18:38:08+00:00</th>\n",
       "      <td>F</td>\n",
       "      <td>2016-04-29 00:00:00+00:00</td>\n",
       "      <td>62</td>\n",
       "      <td>JARDIM DA PENHA</td>\n",
       "      <td>0</td>\n",
       "      <td>1</td>\n",
       "      <td>0</td>\n",
       "      <td>0</td>\n",
       "      <td>0</td>\n",
       "      <td>0</td>\n",
       "      <td>1</td>\n",
       "    </tr>\n",
       "    <tr>\n",
       "      <th>2016-04-29 16:08:27+00:00</th>\n",
       "      <td>M</td>\n",
       "      <td>2016-04-29 00:00:00+00:00</td>\n",
       "      <td>56</td>\n",
       "      <td>JARDIM DA PENHA</td>\n",
       "      <td>0</td>\n",
       "      <td>0</td>\n",
       "      <td>0</td>\n",
       "      <td>0</td>\n",
       "      <td>0</td>\n",
       "      <td>0</td>\n",
       "      <td>1</td>\n",
       "    </tr>\n",
       "    <tr>\n",
       "      <th>2016-04-29 16:19:04+00:00</th>\n",
       "      <td>F</td>\n",
       "      <td>2016-04-29 00:00:00+00:00</td>\n",
       "      <td>62</td>\n",
       "      <td>MATA DA PRAIA</td>\n",
       "      <td>0</td>\n",
       "      <td>0</td>\n",
       "      <td>0</td>\n",
       "      <td>0</td>\n",
       "      <td>0</td>\n",
       "      <td>0</td>\n",
       "      <td>1</td>\n",
       "    </tr>\n",
       "    <tr>\n",
       "      <th>2016-04-29 17:29:31+00:00</th>\n",
       "      <td>F</td>\n",
       "      <td>2016-04-29 00:00:00+00:00</td>\n",
       "      <td>8</td>\n",
       "      <td>PONTAL DE CAMBURI</td>\n",
       "      <td>0</td>\n",
       "      <td>0</td>\n",
       "      <td>0</td>\n",
       "      <td>0</td>\n",
       "      <td>0</td>\n",
       "      <td>0</td>\n",
       "      <td>1</td>\n",
       "    </tr>\n",
       "    <tr>\n",
       "      <th>2016-04-29 16:07:23+00:00</th>\n",
       "      <td>F</td>\n",
       "      <td>2016-04-29 00:00:00+00:00</td>\n",
       "      <td>56</td>\n",
       "      <td>JARDIM DA PENHA</td>\n",
       "      <td>0</td>\n",
       "      <td>1</td>\n",
       "      <td>1</td>\n",
       "      <td>0</td>\n",
       "      <td>0</td>\n",
       "      <td>0</td>\n",
       "      <td>1</td>\n",
       "    </tr>\n",
       "  </tbody>\n",
       "</table>\n",
       "</div>"
      ],
      "text/plain": [
       "                          Gender             AppointmentDay  Age  \\\n",
       "ScheduledDay                                                       \n",
       "2016-04-29 18:38:08+00:00      F  2016-04-29 00:00:00+00:00   62   \n",
       "2016-04-29 16:08:27+00:00      M  2016-04-29 00:00:00+00:00   56   \n",
       "2016-04-29 16:19:04+00:00      F  2016-04-29 00:00:00+00:00   62   \n",
       "2016-04-29 17:29:31+00:00      F  2016-04-29 00:00:00+00:00    8   \n",
       "2016-04-29 16:07:23+00:00      F  2016-04-29 00:00:00+00:00   56   \n",
       "\n",
       "                               Neighbourhood  Scholarship  Hipertension  \\\n",
       "ScheduledDay                                                              \n",
       "2016-04-29 18:38:08+00:00    JARDIM DA PENHA            0             1   \n",
       "2016-04-29 16:08:27+00:00    JARDIM DA PENHA            0             0   \n",
       "2016-04-29 16:19:04+00:00      MATA DA PRAIA            0             0   \n",
       "2016-04-29 17:29:31+00:00  PONTAL DE CAMBURI            0             0   \n",
       "2016-04-29 16:07:23+00:00    JARDIM DA PENHA            0             1   \n",
       "\n",
       "                           Diabetes  Alcoholism  Handcap  SMS_received  \\\n",
       "ScheduledDay                                                             \n",
       "2016-04-29 18:38:08+00:00         0           0        0             0   \n",
       "2016-04-29 16:08:27+00:00         0           0        0             0   \n",
       "2016-04-29 16:19:04+00:00         0           0        0             0   \n",
       "2016-04-29 17:29:31+00:00         0           0        0             0   \n",
       "2016-04-29 16:07:23+00:00         1           0        0             0   \n",
       "\n",
       "                           No_show  \n",
       "ScheduledDay                        \n",
       "2016-04-29 18:38:08+00:00        1  \n",
       "2016-04-29 16:08:27+00:00        1  \n",
       "2016-04-29 16:19:04+00:00        1  \n",
       "2016-04-29 17:29:31+00:00        1  \n",
       "2016-04-29 16:07:23+00:00        1  "
      ]
     },
     "execution_count": 97,
     "metadata": {},
     "output_type": "execute_result"
    }
   ],
   "source": [
    "t = ts.rename(columns={\"No-show\": \"No_show\"})\n",
    "t.head()"
   ]
  },
  {
   "cell_type": "code",
   "execution_count": 98,
   "id": "22ef25b9-cc7a-4e00-a98a-7139d357bc56",
   "metadata": {
    "canvas": {
     "comments": [],
     "componentType": "CodeCell",
     "copiedOriginId": null,
     "diskcache": false,
     "headerColor": "none",
     "id": "cede873f-5eb9-4ed7-bbcc-c2d677cebffc",
     "isComponent": false,
     "name": "",
     "parents": []
    }
   },
   "outputs": [
    {
     "data": {
      "text/plain": [
       "Scholarship  No_show\n",
       "0            0          19542\n",
       "dtype: int64"
      ]
     },
     "execution_count": 98,
     "metadata": {},
     "output_type": "execute_result"
    }
   ],
   "source": [
    "t[[\"Scholarship\", \"No_show\"]].query(\"Scholarship == 0 and No_show == 0\").value_counts()"
   ]
  },
  {
   "cell_type": "code",
   "execution_count": 99,
   "id": "bdc2d279-9e94-4e9b-9d03-11abcfbdbda3",
   "metadata": {
    "canvas": {
     "comments": [],
     "componentType": "CodeCell",
     "copiedOriginId": null,
     "diskcache": false,
     "headerColor": "none",
     "id": "858b8dcb-e21f-409e-9a99-51c517089479",
     "isComponent": false,
     "name": "",
     "parents": []
    }
   },
   "outputs": [
    {
     "data": {
      "text/plain": [
       "Scholarship  No_show\n",
       "0            1          79549\n",
       "dtype: int64"
      ]
     },
     "execution_count": 99,
     "metadata": {},
     "output_type": "execute_result"
    }
   ],
   "source": [
    "t[[\"Scholarship\", \"No_show\"]].query(\"Scholarship == 0 and No_show == 1\").value_counts()"
   ]
  },
  {
   "cell_type": "code",
   "execution_count": 100,
   "id": "3ff1df03-9d48-4834-b0b5-de1bde6b6d08",
   "metadata": {
    "canvas": {
     "comments": [],
     "componentType": "CodeCell",
     "copiedOriginId": null,
     "diskcache": false,
     "headerColor": "none",
     "id": "fa074ed1-c311-47e0-810b-7d5f6774eb37",
     "isComponent": false,
     "name": "",
     "parents": []
    }
   },
   "outputs": [
    {
     "data": {
      "text/plain": [
       "Scholarship  No_show\n",
       "0            0          19542\n",
       "dtype: int64"
      ]
     },
     "execution_count": 100,
     "metadata": {},
     "output_type": "execute_result"
    }
   ],
   "source": [
    "t[[\"Scholarship\", \"No_show\"]].query(\"Scholarship == 0 and No_show == 0\").value_counts()"
   ]
  },
  {
   "cell_type": "code",
   "execution_count": 101,
   "id": "012c1997-403d-47eb-8415-43bb08926b65",
   "metadata": {
    "canvas": {
     "comments": [],
     "componentType": "CodeCell",
     "copiedOriginId": null,
     "diskcache": false,
     "headerColor": "none",
     "id": "de78b6d2-b998-4c43-a268-051d90e343d1",
     "isComponent": false,
     "name": "",
     "parents": []
    }
   },
   "outputs": [
    {
     "data": {
      "text/plain": [
       "Scholarship  No_show\n",
       "1            0          2556\n",
       "dtype: int64"
      ]
     },
     "execution_count": 101,
     "metadata": {},
     "output_type": "execute_result"
    }
   ],
   "source": [
    "t[[\"Scholarship\", \"No_show\"]].query(\"Scholarship == 1 and No_show == 0\").value_counts()"
   ]
  },
  {
   "cell_type": "code",
   "execution_count": 102,
   "id": "dc0f3cb2-d053-4015-826b-0a735819d93a",
   "metadata": {
    "canvas": {
     "comments": [],
     "componentType": "CodeCell",
     "copiedOriginId": null,
     "diskcache": false,
     "headerColor": "none",
     "id": "15b5814e-0dc4-468c-a49a-6d67cd4083db",
     "isComponent": false,
     "name": "",
     "parents": []
    }
   },
   "outputs": [
    {
     "data": {
      "text/html": [
       "<div>\n",
       "<style scoped>\n",
       "    .dataframe tbody tr th:only-of-type {\n",
       "        vertical-align: middle;\n",
       "    }\n",
       "\n",
       "    .dataframe tbody tr th {\n",
       "        vertical-align: top;\n",
       "    }\n",
       "\n",
       "    .dataframe thead th {\n",
       "        text-align: right;\n",
       "    }\n",
       "</style>\n",
       "<table border=\"1\" class=\"dataframe\">\n",
       "  <thead>\n",
       "    <tr style=\"text-align: right;\">\n",
       "      <th></th>\n",
       "      <th></th>\n",
       "      <th>Total</th>\n",
       "    </tr>\n",
       "    <tr>\n",
       "      <th>Scholarship</th>\n",
       "      <th>No_show</th>\n",
       "      <th></th>\n",
       "    </tr>\n",
       "  </thead>\n",
       "  <tbody>\n",
       "    <tr>\n",
       "      <th>1</th>\n",
       "      <th>1</th>\n",
       "      <td>8245</td>\n",
       "    </tr>\n",
       "  </tbody>\n",
       "</table>\n",
       "</div>"
      ],
      "text/plain": [
       "                     Total\n",
       "Scholarship No_show       \n",
       "1           1         8245"
      ]
     },
     "execution_count": 102,
     "metadata": {},
     "output_type": "execute_result"
    }
   ],
   "source": [
    "t[[\"Scholarship\", \"No_show\"]].query(\"Scholarship == 1 and No_show == 1\").value_counts().to_frame(\"Total\")"
   ]
  },
  {
   "cell_type": "code",
   "execution_count": 103,
   "id": "afd1951b-d846-4b91-87fa-5c65d02a87ba",
   "metadata": {
    "canvas": {
     "comments": [],
     "componentType": "CodeCell",
     "copiedOriginId": null,
     "diskcache": false,
     "headerColor": "none",
     "id": "efb46f70-5725-4801-8c3f-397593a323e4",
     "isComponent": false,
     "name": "",
     "parents": []
    }
   },
   "outputs": [
    {
     "data": {
      "text/plain": [
       "No_show  Gender\n",
       "0        F         14455\n",
       "dtype: int64"
      ]
     },
     "execution_count": 103,
     "metadata": {},
     "output_type": "execute_result"
    }
   ],
   "source": [
    "t[[\"No_show\", \"Gender\"]].query(\"No_show == 0 and Gender == 'F'\").value_counts()"
   ]
  },
  {
   "cell_type": "code",
   "execution_count": 104,
   "id": "55959a2d-5af3-452c-ba52-73b1063d1a4d",
   "metadata": {
    "canvas": {
     "comments": [],
     "componentType": "CodeCell",
     "copiedOriginId": null,
     "diskcache": false,
     "headerColor": "none",
     "id": "944da233-3021-4a5d-9a51-8880867c2a7a",
     "isComponent": false,
     "name": "",
     "parents": []
    }
   },
   "outputs": [
    {
     "data": {
      "text/plain": [
       "No_show  Gender\n",
       "1        F         56962\n",
       "dtype: int64"
      ]
     },
     "execution_count": 104,
     "metadata": {},
     "output_type": "execute_result"
    }
   ],
   "source": [
    "t[[\"No_show\", \"Gender\"]].query(\"No_show == 1 and Gender == 'F'\").value_counts()"
   ]
  },
  {
   "cell_type": "code",
   "execution_count": 105,
   "id": "ea88ee9f-8b0b-4342-8526-88f18af35482",
   "metadata": {
    "canvas": {
     "comments": [],
     "componentType": "CodeCell",
     "copiedOriginId": null,
     "diskcache": false,
     "headerColor": "none",
     "id": "719dc95f-2779-4a92-82cc-3af5cdbd8750",
     "isComponent": false,
     "name": "",
     "parents": []
    }
   },
   "outputs": [
    {
     "data": {
      "text/plain": [
       "No_show  Gender\n",
       "0        M         7643\n",
       "dtype: int64"
      ]
     },
     "execution_count": 105,
     "metadata": {},
     "output_type": "execute_result"
    }
   ],
   "source": [
    "t[[\"No_show\", \"Gender\"]].query(\"No_show == 0 and Gender == 'M'\").value_counts()"
   ]
  },
  {
   "cell_type": "code",
   "execution_count": 106,
   "id": "2ac6a7a3-45c9-4b69-9b38-4382f6c38672",
   "metadata": {
    "canvas": {
     "comments": [],
     "componentType": "CodeCell",
     "copiedOriginId": null,
     "diskcache": false,
     "headerColor": "none",
     "id": "3c3ed574-c870-4953-9bd5-3e04dbb99e71",
     "isComponent": false,
     "name": "",
     "parents": []
    }
   },
   "outputs": [
    {
     "data": {
      "text/plain": [
       "No_show  Gender\n",
       "1        M         30832\n",
       "dtype: int64"
      ]
     },
     "execution_count": 106,
     "metadata": {},
     "output_type": "execute_result"
    }
   ],
   "source": [
    "t[[\"No_show\", \"Gender\"]].query(\"No_show == 1 and Gender == 'M'\").value_counts()"
   ]
  },
  {
   "cell_type": "markdown",
   "id": "98af73e2-960a-4489-8bd2-8d79130f20eb",
   "metadata": {
    "canvas": {
     "comments": [],
     "componentType": "CodeCell",
     "copiedOriginId": null,
     "diskcache": false,
     "headerColor": "none",
     "id": "5b3ca9d5-1779-47a6-bbcf-00676a7cc9c9",
     "isComponent": false,
     "name": "",
     "parents": []
    }
   },
   "source": [
    "## Conclusion"
   ]
  },
  {
   "cell_type": "markdown",
   "id": "86acf05d-89c6-4b9d-8682-5fe5f09fac81",
   "metadata": {
    "canvas": {
     "comments": [],
     "componentType": "CodeCell",
     "copiedOriginId": null,
     "diskcache": false,
     "headerColor": "none",
     "id": "5c5ee6c4-ec26-4f0b-a822-a903ca11ad60",
     "isComponent": false,
     "name": "",
     "parents": []
    },
    "tags": []
   },
   "source": [
    "####  1) After analyzing the dataset:: \n",
    "#####  - 8,245 patients benefiting from the Bolsa Família program responded to the appointment;\n",
    "#####  - 2556 patients benefiting from the Bolsa Família program did not attend the appointment. On the other hand, 79,549 patients not benefiting from the Bolsa Família program responded to the appointment.\n",
    "##### 2)\n",
    "##### - We note that many patients responded to the appointment, which gives a higher than average participation rate with 79.89%.\n",
    "##### - The number of women who showed their show up is higher than that of men. On the other hand, the number of men who did not show their show up is lower than that of women.\n",
    "##### 3) We note between the months of January and February the average rate of No-show is almost constant. Thereafter, between February and March there was a low average No_show rate and finally between April and June there was a considerable peak. We can conclude that this peak could be maintained in the coming months."
   ]
  }
 ],
 "metadata": {
  "canvas": {
   "colorPalette": [
    "inherit",
    "inherit",
    "inherit",
    "inherit",
    "inherit",
    "inherit",
    "inherit",
    "inherit",
    "inherit",
    "inherit"
   ],
   "parameters": [],
   "version": "1.0"
  },
  "kernelspec": {
   "display_name": "Python 3 (ipykernel)",
   "language": "python",
   "name": "python3"
  },
  "language_info": {
   "codemirror_mode": {
    "name": "ipython",
    "version": 3
   },
   "file_extension": ".py",
   "mimetype": "text/x-python",
   "name": "python",
   "nbconvert_exporter": "python",
   "pygments_lexer": "ipython3",
   "version": "3.9.18"
  },
  "toc-autonumbering": true,
  "toc-showtags": true,
  "widgets": {
   "application/vnd.jupyter.widget-state+json": {
    "state": {},
    "version_major": 2,
    "version_minor": 0
   }
  }
 },
 "nbformat": 4,
 "nbformat_minor": 5
}
